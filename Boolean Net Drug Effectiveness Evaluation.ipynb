{
 "cells": [
  {
   "cell_type": "markdown",
   "metadata": {},
   "source": [
    "# Build a Boolean Net to run simulation to identify point of intervention"
   ]
  },
  {
   "cell_type": "raw",
   "metadata": {},
   "source": [
    "Based on the information extracted from PubMed, KEGG and Cystoscape, I am going to build a toy model to illustrate how network \"Inhibition of Apoptosis\" would behave and if certain combination of drugs will drive the behavior of the network."
   ]
  },
  {
   "cell_type": "code",
   "execution_count": 1,
   "metadata": {},
   "outputs": [],
   "source": [
    "import time\n",
    "import pandas as pd"
   ]
  },
  {
   "cell_type": "code",
   "execution_count": 53,
   "metadata": {},
   "outputs": [],
   "source": [
    "df_network = pd.read_csv('survival_apoptosis_network.csv')\n",
    "df_drug = pd.read_csv('drug_node_interaction.csv')"
   ]
  },
  {
   "cell_type": "code",
   "execution_count": 54,
   "metadata": {},
   "outputs": [
    {
     "data": {
      "text/html": [
       "<div>\n",
       "<style scoped>\n",
       "    .dataframe tbody tr th:only-of-type {\n",
       "        vertical-align: middle;\n",
       "    }\n",
       "\n",
       "    .dataframe tbody tr th {\n",
       "        vertical-align: top;\n",
       "    }\n",
       "\n",
       "    .dataframe thead th {\n",
       "        text-align: right;\n",
       "    }\n",
       "</style>\n",
       "<table border=\"1\" class=\"dataframe\">\n",
       "  <thead>\n",
       "    <tr style=\"text-align: right;\">\n",
       "      <th></th>\n",
       "      <th>start_node</th>\n",
       "      <th>end_node</th>\n",
       "      <th>interaction</th>\n",
       "    </tr>\n",
       "  </thead>\n",
       "  <tbody>\n",
       "    <tr>\n",
       "      <th>0</th>\n",
       "      <td>BCL2</td>\n",
       "      <td>BAK/BAX</td>\n",
       "      <td>-</td>\n",
       "    </tr>\n",
       "    <tr>\n",
       "      <th>1</th>\n",
       "      <td>BAK/BAX</td>\n",
       "      <td>Apoptosis</td>\n",
       "      <td>+</td>\n",
       "    </tr>\n",
       "    <tr>\n",
       "      <th>2</th>\n",
       "      <td>BCL2L11</td>\n",
       "      <td>BAK/BAX</td>\n",
       "      <td>+</td>\n",
       "    </tr>\n",
       "    <tr>\n",
       "      <th>3</th>\n",
       "      <td>BCL2L11</td>\n",
       "      <td>BCL2</td>\n",
       "      <td>-</td>\n",
       "    </tr>\n",
       "    <tr>\n",
       "      <th>4</th>\n",
       "      <td>MAP3K7</td>\n",
       "      <td>IKK-complex</td>\n",
       "      <td>+</td>\n",
       "    </tr>\n",
       "    <tr>\n",
       "      <th>5</th>\n",
       "      <td>MAP3K7</td>\n",
       "      <td>IKBKG</td>\n",
       "      <td>+</td>\n",
       "    </tr>\n",
       "    <tr>\n",
       "      <th>6</th>\n",
       "      <td>IKK-complex</td>\n",
       "      <td>FOXO3</td>\n",
       "      <td>-</td>\n",
       "    </tr>\n",
       "    <tr>\n",
       "      <th>7</th>\n",
       "      <td>IKK-complex</td>\n",
       "      <td>NFKBIA</td>\n",
       "      <td>-</td>\n",
       "    </tr>\n",
       "    <tr>\n",
       "      <th>8</th>\n",
       "      <td>IKK-complex</td>\n",
       "      <td>BAD</td>\n",
       "      <td>-</td>\n",
       "    </tr>\n",
       "    <tr>\n",
       "      <th>9</th>\n",
       "      <td>IKBKG</td>\n",
       "      <td>IKK-complex</td>\n",
       "      <td>+</td>\n",
       "    </tr>\n",
       "    <tr>\n",
       "      <th>10</th>\n",
       "      <td>NFKBIA</td>\n",
       "      <td>NfKb-p65/p50</td>\n",
       "      <td>-</td>\n",
       "    </tr>\n",
       "    <tr>\n",
       "      <th>11</th>\n",
       "      <td>NfKb-p65/p50</td>\n",
       "      <td>Survival</td>\n",
       "      <td>+</td>\n",
       "    </tr>\n",
       "    <tr>\n",
       "      <th>12</th>\n",
       "      <td>FOXO3</td>\n",
       "      <td>Apoptosis</td>\n",
       "      <td>+</td>\n",
       "    </tr>\n",
       "    <tr>\n",
       "      <th>13</th>\n",
       "      <td>FOXO3</td>\n",
       "      <td>BCL2L11</td>\n",
       "      <td>+</td>\n",
       "    </tr>\n",
       "    <tr>\n",
       "      <th>14</th>\n",
       "      <td>CREB1</td>\n",
       "      <td>Survival</td>\n",
       "      <td>+</td>\n",
       "    </tr>\n",
       "    <tr>\n",
       "      <th>15</th>\n",
       "      <td>CREB1</td>\n",
       "      <td>BCL2</td>\n",
       "      <td>+</td>\n",
       "    </tr>\n",
       "    <tr>\n",
       "      <th>16</th>\n",
       "      <td>AKT</td>\n",
       "      <td>Survival</td>\n",
       "      <td>+</td>\n",
       "    </tr>\n",
       "    <tr>\n",
       "      <th>17</th>\n",
       "      <td>AKT</td>\n",
       "      <td>FOXO3</td>\n",
       "      <td>-</td>\n",
       "    </tr>\n",
       "    <tr>\n",
       "      <th>18</th>\n",
       "      <td>AKT</td>\n",
       "      <td>BAD</td>\n",
       "      <td>-</td>\n",
       "    </tr>\n",
       "    <tr>\n",
       "      <th>19</th>\n",
       "      <td>MEK1/2</td>\n",
       "      <td>ERK1/2</td>\n",
       "      <td>+</td>\n",
       "    </tr>\n",
       "    <tr>\n",
       "      <th>20</th>\n",
       "      <td>ERK1/2</td>\n",
       "      <td>BCL2</td>\n",
       "      <td>+</td>\n",
       "    </tr>\n",
       "    <tr>\n",
       "      <th>21</th>\n",
       "      <td>ERK1/2</td>\n",
       "      <td>BRAF</td>\n",
       "      <td>-</td>\n",
       "    </tr>\n",
       "    <tr>\n",
       "      <th>22</th>\n",
       "      <td>ERK1/2</td>\n",
       "      <td>RPS6KA1</td>\n",
       "      <td>+</td>\n",
       "    </tr>\n",
       "    <tr>\n",
       "      <th>23</th>\n",
       "      <td>BRAF</td>\n",
       "      <td>MEK1/2</td>\n",
       "      <td>+</td>\n",
       "    </tr>\n",
       "    <tr>\n",
       "      <th>24</th>\n",
       "      <td>Survival_factors</td>\n",
       "      <td>GRB2</td>\n",
       "      <td>+</td>\n",
       "    </tr>\n",
       "    <tr>\n",
       "      <th>25</th>\n",
       "      <td>Survival_factors</td>\n",
       "      <td>BAD</td>\n",
       "      <td>-</td>\n",
       "    </tr>\n",
       "    <tr>\n",
       "      <th>26</th>\n",
       "      <td>GRB2</td>\n",
       "      <td>SOS1</td>\n",
       "      <td>+</td>\n",
       "    </tr>\n",
       "    <tr>\n",
       "      <th>27</th>\n",
       "      <td>CASP3</td>\n",
       "      <td>NFKBIA</td>\n",
       "      <td>+</td>\n",
       "    </tr>\n",
       "    <tr>\n",
       "      <th>28</th>\n",
       "      <td>CASP3</td>\n",
       "      <td>BAD</td>\n",
       "      <td>+</td>\n",
       "    </tr>\n",
       "    <tr>\n",
       "      <th>29</th>\n",
       "      <td>CASP3</td>\n",
       "      <td>CASP9</td>\n",
       "      <td>+</td>\n",
       "    </tr>\n",
       "    <tr>\n",
       "      <th>30</th>\n",
       "      <td>SOS1</td>\n",
       "      <td>NRAS</td>\n",
       "      <td>+</td>\n",
       "    </tr>\n",
       "    <tr>\n",
       "      <th>31</th>\n",
       "      <td>TNF</td>\n",
       "      <td>TNFRSF1A</td>\n",
       "      <td>+</td>\n",
       "    </tr>\n",
       "    <tr>\n",
       "      <th>32</th>\n",
       "      <td>TNFRSF1A</td>\n",
       "      <td>TRADD</td>\n",
       "      <td>+</td>\n",
       "    </tr>\n",
       "    <tr>\n",
       "      <th>33</th>\n",
       "      <td>TRADD</td>\n",
       "      <td>TRAF2</td>\n",
       "      <td>+</td>\n",
       "    </tr>\n",
       "    <tr>\n",
       "      <th>34</th>\n",
       "      <td>TRAF2</td>\n",
       "      <td>MAP3K7</td>\n",
       "      <td>+</td>\n",
       "    </tr>\n",
       "    <tr>\n",
       "      <th>35</th>\n",
       "      <td>FOXO1</td>\n",
       "      <td>BCL2L11</td>\n",
       "      <td>+</td>\n",
       "    </tr>\n",
       "    <tr>\n",
       "      <th>36</th>\n",
       "      <td>BAD</td>\n",
       "      <td>BCL2</td>\n",
       "      <td>-</td>\n",
       "    </tr>\n",
       "    <tr>\n",
       "      <th>37</th>\n",
       "      <td>RPS6KA1</td>\n",
       "      <td>BAD</td>\n",
       "      <td>-</td>\n",
       "    </tr>\n",
       "    <tr>\n",
       "      <th>38</th>\n",
       "      <td>RPS6KA1</td>\n",
       "      <td>CREB1</td>\n",
       "      <td>+</td>\n",
       "    </tr>\n",
       "    <tr>\n",
       "      <th>39</th>\n",
       "      <td>NRAS</td>\n",
       "      <td>BRAF</td>\n",
       "      <td>+</td>\n",
       "    </tr>\n",
       "    <tr>\n",
       "      <th>40</th>\n",
       "      <td>XIAP</td>\n",
       "      <td>CASP7</td>\n",
       "      <td>-</td>\n",
       "    </tr>\n",
       "    <tr>\n",
       "      <th>41</th>\n",
       "      <td>XIAP</td>\n",
       "      <td>CASP3</td>\n",
       "      <td>-</td>\n",
       "    </tr>\n",
       "    <tr>\n",
       "      <th>42</th>\n",
       "      <td>XIAP</td>\n",
       "      <td>CASP9</td>\n",
       "      <td>-</td>\n",
       "    </tr>\n",
       "    <tr>\n",
       "      <th>43</th>\n",
       "      <td>CASP9</td>\n",
       "      <td>CASP3</td>\n",
       "      <td>+</td>\n",
       "    </tr>\n",
       "  </tbody>\n",
       "</table>\n",
       "</div>"
      ],
      "text/plain": [
       "          start_node      end_node interaction\n",
       "0               BCL2       BAK/BAX           -\n",
       "1            BAK/BAX     Apoptosis           +\n",
       "2            BCL2L11       BAK/BAX           +\n",
       "3            BCL2L11          BCL2           -\n",
       "4             MAP3K7   IKK-complex           +\n",
       "5             MAP3K7         IKBKG           +\n",
       "6        IKK-complex         FOXO3           -\n",
       "7        IKK-complex        NFKBIA           -\n",
       "8        IKK-complex           BAD           -\n",
       "9              IKBKG   IKK-complex           +\n",
       "10            NFKBIA  NfKb-p65/p50           -\n",
       "11      NfKb-p65/p50      Survival           +\n",
       "12             FOXO3     Apoptosis           +\n",
       "13             FOXO3       BCL2L11           +\n",
       "14             CREB1      Survival           +\n",
       "15             CREB1          BCL2           +\n",
       "16               AKT      Survival           +\n",
       "17               AKT         FOXO3           -\n",
       "18               AKT           BAD           -\n",
       "19            MEK1/2        ERK1/2           +\n",
       "20            ERK1/2          BCL2           +\n",
       "21            ERK1/2          BRAF           -\n",
       "22            ERK1/2       RPS6KA1           +\n",
       "23              BRAF        MEK1/2           +\n",
       "24  Survival_factors          GRB2           +\n",
       "25  Survival_factors           BAD           -\n",
       "26              GRB2          SOS1           +\n",
       "27             CASP3        NFKBIA           +\n",
       "28             CASP3           BAD           +\n",
       "29             CASP3         CASP9           +\n",
       "30              SOS1          NRAS           +\n",
       "31               TNF      TNFRSF1A           +\n",
       "32          TNFRSF1A         TRADD           +\n",
       "33             TRADD         TRAF2           +\n",
       "34             TRAF2        MAP3K7           +\n",
       "35             FOXO1       BCL2L11           +\n",
       "36               BAD          BCL2           -\n",
       "37           RPS6KA1           BAD           -\n",
       "38           RPS6KA1         CREB1           +\n",
       "39              NRAS          BRAF           +\n",
       "40              XIAP         CASP7           -\n",
       "41              XIAP         CASP3           -\n",
       "42              XIAP         CASP9           -\n",
       "43             CASP9         CASP3           +"
      ]
     },
     "execution_count": 54,
     "metadata": {},
     "output_type": "execute_result"
    }
   ],
   "source": [
    "df_network"
   ]
  },
  {
   "cell_type": "code",
   "execution_count": 55,
   "metadata": {},
   "outputs": [
    {
     "data": {
      "text/html": [
       "<div>\n",
       "<style scoped>\n",
       "    .dataframe tbody tr th:only-of-type {\n",
       "        vertical-align: middle;\n",
       "    }\n",
       "\n",
       "    .dataframe tbody tr th {\n",
       "        vertical-align: top;\n",
       "    }\n",
       "\n",
       "    .dataframe thead th {\n",
       "        text-align: right;\n",
       "    }\n",
       "</style>\n",
       "<table border=\"1\" class=\"dataframe\">\n",
       "  <thead>\n",
       "    <tr style=\"text-align: right;\">\n",
       "      <th></th>\n",
       "      <th>drug</th>\n",
       "      <th>node</th>\n",
       "      <th>interaction</th>\n",
       "    </tr>\n",
       "  </thead>\n",
       "  <tbody>\n",
       "    <tr>\n",
       "      <th>0</th>\n",
       "      <td>Interferon gamma-n1</td>\n",
       "      <td>TNF</td>\n",
       "      <td>-</td>\n",
       "    </tr>\n",
       "    <tr>\n",
       "      <th>1</th>\n",
       "      <td>Interferon gamma-1b</td>\n",
       "      <td>TNF</td>\n",
       "      <td>-</td>\n",
       "    </tr>\n",
       "    <tr>\n",
       "      <th>2</th>\n",
       "      <td>Interferon gamma-1a</td>\n",
       "      <td>TNF</td>\n",
       "      <td>-</td>\n",
       "    </tr>\n",
       "    <tr>\n",
       "      <th>3</th>\n",
       "      <td>Ruxolitinib</td>\n",
       "      <td>MEK1/2</td>\n",
       "      <td>-</td>\n",
       "    </tr>\n",
       "    <tr>\n",
       "      <th>4</th>\n",
       "      <td>Dasatinib</td>\n",
       "      <td>MEK1/2</td>\n",
       "      <td>-</td>\n",
       "    </tr>\n",
       "    <tr>\n",
       "      <th>5</th>\n",
       "      <td>Dinaciclib</td>\n",
       "      <td>FOXO3</td>\n",
       "      <td>+</td>\n",
       "    </tr>\n",
       "    <tr>\n",
       "      <th>6</th>\n",
       "      <td>Vemurafenib</td>\n",
       "      <td>BRAF</td>\n",
       "      <td>-</td>\n",
       "    </tr>\n",
       "  </tbody>\n",
       "</table>\n",
       "</div>"
      ],
      "text/plain": [
       "                  drug    node interaction\n",
       "0  Interferon gamma-n1     TNF           -\n",
       "1  Interferon gamma-1b     TNF           -\n",
       "2  Interferon gamma-1a     TNF           -\n",
       "3          Ruxolitinib  MEK1/2           -\n",
       "4            Dasatinib  MEK1/2           -\n",
       "5           Dinaciclib   FOXO3           +\n",
       "6          Vemurafenib    BRAF           -"
      ]
     },
     "execution_count": 55,
     "metadata": {},
     "output_type": "execute_result"
    }
   ],
   "source": [
    "df_drug"
   ]
  },
  {
   "cell_type": "code",
   "execution_count": 56,
   "metadata": {},
   "outputs": [],
   "source": [
    "start_nodes = df_network['start_node'].values\n",
    "end_nodes = df_network['end_node'].values"
   ]
  },
  {
   "cell_type": "code",
   "execution_count": 57,
   "metadata": {},
   "outputs": [],
   "source": [
    "# find dangling nodes without incoming path as initiating points\n",
    "dangling_nodes = list()\n",
    "for start_node in start_nodes:\n",
    "    if start_node not in end_nodes and start_node not in dangling_nodes:\n",
    "        dangling_nodes.append(start_node)"
   ]
  },
  {
   "cell_type": "code",
   "execution_count": 58,
   "metadata": {},
   "outputs": [
    {
     "name": "stdout",
     "output_type": "stream",
     "text": [
      "Number of initiating nodes: 5\n",
      "AKT\n",
      "Survival_factors\n",
      "TNF\n",
      "FOXO1\n",
      "XIAP\n"
     ]
    }
   ],
   "source": [
    "print(\"Number of initiating nodes: %i\" %len(dangling_nodes))\n",
    "for node in dangling_nodes:\n",
    "    print(node)"
   ]
  },
  {
   "cell_type": "markdown",
   "metadata": {},
   "source": [
    "# Explanation on the 5 initiating nodes"
   ]
  },
  {
   "cell_type": "raw",
   "metadata": {},
   "source": [
    "AKT:\n",
    "Akt consists of three isoforms: PKBα/Akt1, PKBβ/Akt2 and PKBγ/Akt3. Akt isoforms have an N-terminal PH (pleckstrin homology) domain and a kinase domain, which are separated by a 39-amino-acid hinge region. Catalytically active Akt regulates the function of numerous substrates involved in cell survival, growth, proliferation, metabolism and protein synthesis.\n",
    "Akt is a crucial mediator of cell survival and its deactivation is implicated in various stress-induced pathological cell death and degenerative diseases.\n",
    "\n",
    "FOXO1:\n",
    "FOXO1 upregulate Fas ligand (FasL) transcriptionally that result in promotes apoptotic cell death. Additionally, FOXO1 trans-activate Bim protein, which a member of the Bcl-2 family that promotes apoptosis and plays a role in the intrinsic mitochondrial apoptotic pathway.\n",
    "\n",
    "XIAP:\n",
    "XIAP is a member of the inhibitor of apoptosis family of proteins (IAP).\n",
    "\n",
    "TNF:\n",
    "The primary role of TNF is in the regulation of immune cells. TNF, being an endogenous pyrogen, is able to induce fever, apoptotic cell death, cachexia, inflammation and to inhibit tumorigenesis and viral replication and respond to sepsis via IL1- & IL6-producing cells. TNF can be produced ectopically in the setting of malignancy and parallels parathyroid hormone both in causing secondary hypercalcemia and in the cancers with which excessive production is associated.\n",
    "\n",
    "Survival Factors:\n",
    "It's a collection of factors that will promote proliferation of cancer cells.\n",
    "\n",
    "Based on the above description, we can summarize following for sure:\n",
    "AKT activation - promote survival\n",
    "FOXO1 activation - promote apoptosis\n",
    "XIAP activation - inhibit apoptosis\n",
    "TNF activation - ?? under different conditions"
   ]
  },
  {
   "cell_type": "code",
   "execution_count": 59,
   "metadata": {},
   "outputs": [
    {
     "name": "stdout",
     "output_type": "stream",
     "text": [
      "NFKBIA\n",
      "AKT\n",
      "FOXO3\n",
      "BAD\n",
      "IKK-complex\n",
      "IKBKG\n",
      "BAK/BAX\n",
      "BCL2L11\n",
      "Apoptosis\n",
      "Survival\n",
      "NRAS\n",
      "MAP3K7\n",
      "TRADD\n",
      "TRAF2\n",
      "CASP7\n",
      "CREB1\n",
      "NfKb-p65/p50\n",
      "MEK1/2\n",
      "Survival_factors\n",
      "RPS6KA1\n",
      "CASP3\n",
      "SOS1\n",
      "TNFRSF1A\n",
      "XIAP\n",
      "FOXO1\n",
      "CASP9\n",
      "GRB2\n",
      "ERK1/2\n",
      "BRAF\n",
      "TNF\n",
      "BCL2\n",
      "31\n"
     ]
    }
   ],
   "source": [
    "all_nodes = list(set(start_nodes).union(set(end_nodes)))\n",
    "for node in all_nodes:\n",
    "    print(node)\n",
    "print(len(all_nodes))"
   ]
  },
  {
   "cell_type": "code",
   "execution_count": 60,
   "metadata": {},
   "outputs": [],
   "source": [
    "def weights(sign):\n",
    "    if sign==\"+\":\n",
    "        return 1\n",
    "    return -1\n",
    "df_weighted_network = df_network.copy()\n",
    "df_weighted_network['weight']=df_weighted_network['interaction'].apply(weights)"
   ]
  },
  {
   "cell_type": "code",
   "execution_count": 61,
   "metadata": {},
   "outputs": [
    {
     "data": {
      "text/html": [
       "<div>\n",
       "<style scoped>\n",
       "    .dataframe tbody tr th:only-of-type {\n",
       "        vertical-align: middle;\n",
       "    }\n",
       "\n",
       "    .dataframe tbody tr th {\n",
       "        vertical-align: top;\n",
       "    }\n",
       "\n",
       "    .dataframe thead th {\n",
       "        text-align: right;\n",
       "    }\n",
       "</style>\n",
       "<table border=\"1\" class=\"dataframe\">\n",
       "  <thead>\n",
       "    <tr style=\"text-align: right;\">\n",
       "      <th></th>\n",
       "      <th>start_node</th>\n",
       "      <th>end_node</th>\n",
       "      <th>interaction</th>\n",
       "      <th>weight</th>\n",
       "    </tr>\n",
       "  </thead>\n",
       "  <tbody>\n",
       "    <tr>\n",
       "      <th>0</th>\n",
       "      <td>BCL2</td>\n",
       "      <td>BAK/BAX</td>\n",
       "      <td>-</td>\n",
       "      <td>-1</td>\n",
       "    </tr>\n",
       "    <tr>\n",
       "      <th>1</th>\n",
       "      <td>BAK/BAX</td>\n",
       "      <td>Apoptosis</td>\n",
       "      <td>+</td>\n",
       "      <td>1</td>\n",
       "    </tr>\n",
       "    <tr>\n",
       "      <th>2</th>\n",
       "      <td>BCL2L11</td>\n",
       "      <td>BAK/BAX</td>\n",
       "      <td>+</td>\n",
       "      <td>1</td>\n",
       "    </tr>\n",
       "    <tr>\n",
       "      <th>3</th>\n",
       "      <td>BCL2L11</td>\n",
       "      <td>BCL2</td>\n",
       "      <td>-</td>\n",
       "      <td>-1</td>\n",
       "    </tr>\n",
       "    <tr>\n",
       "      <th>4</th>\n",
       "      <td>MAP3K7</td>\n",
       "      <td>IKK-complex</td>\n",
       "      <td>+</td>\n",
       "      <td>1</td>\n",
       "    </tr>\n",
       "  </tbody>\n",
       "</table>\n",
       "</div>"
      ],
      "text/plain": [
       "  start_node     end_node interaction  weight\n",
       "0       BCL2      BAK/BAX           -      -1\n",
       "1    BAK/BAX    Apoptosis           +       1\n",
       "2    BCL2L11      BAK/BAX           +       1\n",
       "3    BCL2L11         BCL2           -      -1\n",
       "4     MAP3K7  IKK-complex           +       1"
      ]
     },
     "execution_count": 61,
     "metadata": {},
     "output_type": "execute_result"
    }
   ],
   "source": [
    "df_weighted_network.head()"
   ]
  },
  {
   "cell_type": "code",
   "execution_count": 63,
   "metadata": {},
   "outputs": [
    {
     "data": {
      "image/png": "[encoded data removed]",
      "text/plain": [
       "<Figure size 864x576 with 1 Axes>"
      ]
     },
     "metadata": {
      "needs_background": "light"
     },
     "output_type": "display_data"
    }
   ],
   "source": [
    "import matplotlib.pyplot as plt\n",
    "from matplotlib.pyplot import figure\n",
    "import networkx as nx\n",
    "%matplotlib inline\n",
    "\n",
    "figure(num=None, figsize=(12, 8))\n",
    "\n",
    "\n",
    "DG = nx.DiGraph()\n",
    "\n",
    "for i in range(len(df_weighted_network)):\n",
    "    DG.add_edge(df_weighted_network.loc[i,'start_node'], \n",
    "                df_weighted_network.loc[i,'end_node'], \n",
    "                weight=df_weighted_network.loc[i,'weight'])\n",
    "\n",
    "elarge = [(u, v) for (u, v, d) in DG.edges(data=True) if d['weight'] == 1]\n",
    "esmall = [(u, v) for (u, v, d) in DG.edges(data=True) if d['weight'] == -1]\n",
    "\n",
    "pos = nx.spring_layout(DG)  # positions for all nodes\n",
    "\n",
    "# nodes\n",
    "nx.draw_networkx_nodes(DG, pos, node_size=50)\n",
    "\n",
    "# edges\n",
    "nx.draw_networkx_edges(DG, pos, edgelist=elarge,\n",
    "                       width=1)\n",
    "nx.draw_networkx_edges(DG, pos, edgelist=esmall,\n",
    "                       width=1, alpha=0.5, edge_color='b', style='dashed')\n",
    "\n",
    "# labels\n",
    "nx.draw_networkx_labels(DG, pos, font_size=8, font_family='sans-serif')\n",
    "\n",
    "plt.axis('off')\n",
    "plt.show()\n"
   ]
  },
  {
   "cell_type": "markdown",
   "metadata": {},
   "source": [
    "# To build the logical rules govern the behavior of each node"
   ]
  },
  {
   "cell_type": "raw",
   "metadata": {},
   "source": [
    "To write a text file that capture the interaction rules of each node and feed it to the BooleanNet for simulation"
   ]
  },
  {
   "cell_type": "code",
   "execution_count": 66,
   "metadata": {},
   "outputs": [
    {
     "data": {
      "text/html": [
       "<div>\n",
       "<style scoped>\n",
       "    .dataframe tbody tr th:only-of-type {\n",
       "        vertical-align: middle;\n",
       "    }\n",
       "\n",
       "    .dataframe tbody tr th {\n",
       "        vertical-align: top;\n",
       "    }\n",
       "\n",
       "    .dataframe thead th {\n",
       "        text-align: right;\n",
       "    }\n",
       "</style>\n",
       "<table border=\"1\" class=\"dataframe\">\n",
       "  <thead>\n",
       "    <tr style=\"text-align: right;\">\n",
       "      <th></th>\n",
       "      <th>start_node</th>\n",
       "      <th>end_node</th>\n",
       "      <th>interaction</th>\n",
       "    </tr>\n",
       "  </thead>\n",
       "  <tbody>\n",
       "    <tr>\n",
       "      <th>3</th>\n",
       "      <td>BCL2L11</td>\n",
       "      <td>BCL2</td>\n",
       "      <td>-</td>\n",
       "    </tr>\n",
       "    <tr>\n",
       "      <th>15</th>\n",
       "      <td>CREB1</td>\n",
       "      <td>BCL2</td>\n",
       "      <td>+</td>\n",
       "    </tr>\n",
       "    <tr>\n",
       "      <th>20</th>\n",
       "      <td>ERK1/2</td>\n",
       "      <td>BCL2</td>\n",
       "      <td>+</td>\n",
       "    </tr>\n",
       "    <tr>\n",
       "      <th>36</th>\n",
       "      <td>BAD</td>\n",
       "      <td>BCL2</td>\n",
       "      <td>-</td>\n",
       "    </tr>\n",
       "  </tbody>\n",
       "</table>\n",
       "</div>"
      ],
      "text/plain": [
       "   start_node end_node interaction\n",
       "3     BCL2L11     BCL2           -\n",
       "15      CREB1     BCL2           +\n",
       "20     ERK1/2     BCL2           +\n",
       "36        BAD     BCL2           -"
      ]
     },
     "execution_count": 66,
     "metadata": {},
     "output_type": "execute_result"
    }
   ],
   "source": [
    "# Test case\n",
    "df_network[df_network['end_node']=='BCL2']"
   ]
  },
  {
   "cell_type": "code",
   "execution_count": 67,
   "metadata": {},
   "outputs": [],
   "source": [
    "node_rule_dictionary = dict()\n",
    "node_rule_dictionary['BCL2'] = df_network[df_network['end_node']=='BCL2'].to_numpy()"
   ]
  },
  {
   "cell_type": "code",
   "execution_count": 68,
   "metadata": {},
   "outputs": [
    {
     "name": "stdout",
     "output_type": "stream",
     "text": [
      "{'BCL2': array([['BCL2L11', 'BCL2', '-'],\n",
      "       ['CREB1', 'BCL2', '+'],\n",
      "       ['ERK1/2', 'BCL2', '+'],\n",
      "       ['BAD', 'BCL2', '-']], dtype=object)}\n"
     ]
    }
   ],
   "source": [
    "print (node_rule_dictionary)"
   ]
  },
  {
   "cell_type": "code",
   "execution_count": 69,
   "metadata": {},
   "outputs": [],
   "source": [
    "node_rule_table = dict()\n",
    "for node in all_nodes:\n",
    "    node_rule_table[node] = df_network[df_network['end_node']==node].to_numpy()  "
   ]
  },
  {
   "cell_type": "code",
   "execution_count": 72,
   "metadata": {},
   "outputs": [],
   "source": [
    "with open('node_rule_table.txt','w') as data:\n",
    "    data.write(str(node_rule_table)) # the text table will be massaged outside the script and then input back."
   ]
  },
  {
   "cell_type": "code",
   "execution_count": 21,
   "metadata": {},
   "outputs": [],
   "source": [
    "f = file('default_network.txt','r').read()"
   ]
  },
  {
   "cell_type": "code",
   "execution_count": 22,
   "metadata": {},
   "outputs": [
    {
     "data": {
      "text/plain": [
       "\"\\xef\\xbb\\xbfAKT = FOXO1 = Survival_factors = XIAP = TNF = Random\\rNFKBIA* =  not IKK-complex and CASP3\\rFOXO3* = not IKK-complex and not AKT \\rBAD* = not IKK-complex and not AKT and not Survival_factors and not \\rRPS6KA1\\rIKK-complex* = MAP3K7 and IKBKG\\rIKBKG* = MAP3K7\\rBAK/BAX* =  not BCL2 and BCL2L11\\rBCL2L11* = FOXO3 and FOXO1\\rApoptosis* = BAK/BAX and FOXO3\\rSurvival* = NfKb-p65/p50 and CREB1 and AKT\\rNRAS* = SOS1\\rMAP3K7* = TRAF2\\rTRADD* = TNFRSF1A\\rTRAF2* = TRADD\\rRPS6KA1* = ERK1/2\\rCREB1* = RPS6KA1\\rNfKb-p65/p50* = not NFKBIA\\rMEK1/2* = BRAF\\rCASP7* = not XIAP\\rCASP3* = not 'XIAP' and CASP9\\rSOS1* = GRB2\\rTNFRSF1A* = TNF\\rCASP9* = CASP3 and not XIAP\\rGRB2* = Survival_factors\\rERK1/2* = MEK1/2\\rBRAF* = not ERK1/2 and NRAS\\rBCL2* = not BCL2L11 and CREB1 and ERK1/2 and not BAD\\r\""
      ]
     },
     "execution_count": 22,
     "metadata": {},
     "output_type": "execute_result"
    }
   ],
   "source": [
    "f"
   ]
  },
  {
   "cell_type": "code",
   "execution_count": 1,
   "metadata": {},
   "outputs": [],
   "source": [
    "import boolean2"
   ]
  },
  {
   "cell_type": "code",
   "execution_count": 2,
   "metadata": {},
   "outputs": [],
   "source": [
    "# This model would assume the cell is a normal cell without any sign of turning maglignant.\n",
    "Default_model = \"\"\"\n",
    "Survival_factors = False\n",
    "AKT = FOXO1 = XIAP = TNF = Random\n",
    "\n",
    "MEK1_2 = NFKBIA = BAK_BAX = FOXO3 = BAD = IKK-complex = IKBKG = BCL2L11 = Apoptosis = Survival = NRAS = MAP3K7 = TRADD = TRAF2 = CASP7 = CREB1 = ERK1_2 = RPS6KA1 = NfKb-p65_p50 = CASP3 = SOS1 = TNFRSF1A = CASP9 = GRB2 = BRAF = BCL2 = False\n",
    "NFKBIA* =  not IKK-complex and CASP3\n",
    "FOXO3* = not IKK-complex and not AKT \n",
    "BAD* = not IKK-complex and not AKT and not Survival_factors and not RPS6KA1\n",
    "IKK-complex* = MAP3K7 and IKBKG\n",
    "IKBKG* = MAP3K7\n",
    "BAK_BAX* =  not BCL2 and BCL2L11\n",
    "BCL2L11* = FOXO3 and FOXO1\n",
    "Apoptosis* = BAK_BAX and FOXO3\n",
    "Survival* = NfKb-p65_p50 and CREB1 and AKT\n",
    "NRAS* = SOS1\n",
    "MAP3K7* = TRAF2\n",
    "TRADD* = TNFRSF1A\n",
    "TRAF2* = TRADD\n",
    "RPS6KA1* = ERK1_2\n",
    "CREB1* = RPS6KA1\n",
    "NfKb-p65_p50* = not NFKBIA\n",
    "MEK1_2* = BRAF\n",
    "CASP7* = not XIAP\n",
    "CASP3* = not XIAP and CASP9\n",
    "SOS1* = GRB2\n",
    "TNFRSF1A* = TNF\n",
    "CASP9* = CASP3 and not XIAP\n",
    "GRB2* = Survival_factors\n",
    "ERK1_2* = MEK1_2\n",
    "BRAF* = not ERK1_2 and NRAS\n",
    "BCL2* = not BCL2L11 and CREB1 and ERK1_2 and not BAD\n",
    "\"\"\""
   ]
  },
  {
   "cell_type": "code",
   "execution_count": 3,
   "metadata": {},
   "outputs": [
    {
     "name": "stdout",
     "output_type": "stream",
     "text": [
      "(False, False)\n",
      "Steady state starting at index 1 -> State: AKT=False, Apoptosis=False, BAD=True, BAK_BAX=False, BCL2=False, BCL2L11=False, BRAF=False, CASP3=False, CASP7=True, CASP9=False, CREB1=False, ERK1_2=False, FOXO1=False, FOXO3=True, GRB2=False, IKBKG=False, IKK-complex=False, MAP3K7=False, MEK1_2=False, NFKBIA=False, NRAS=False, NfKb-p65_p50=True, RPS6KA1=False, SOS1=False, Survival=False, Survival_factors=False, TNF=False, TNFRSF1A=False, TRADD=False, TRAF2=False, XIAP=False\n"
     ]
    }
   ],
   "source": [
    "model = boolean2.Model(Default_model, mode='async')\n",
    "model.initialize()\n",
    "model.iterate(steps=100)\n",
    "state = model.states[-1]\n",
    "print (state.Survival, state.Apoptosis)\n",
    "model.report_cycles()"
   ]
  },
  {
   "cell_type": "code",
   "execution_count": 4,
   "metadata": {},
   "outputs": [
    {
     "name": "stdout",
     "output_type": "stream",
     "text": [
      "{'Apoptosis': [0.0, 0.0, 0.0, 0.0, 0.0, 0.0, 0.0, 0.0, 0.0, 0.0, 0.0, 0.0, 0.0, 0.0, 0.0, 0.0, 0.0, 0.0, 0.0, 0.0, 0.0, 0.0, 0.0, 0.0, 0.0, 0.0, 0.0, 0.0, 0.0, 0.0, 0.0, 0.0, 0.0, 0.0, 0.0, 0.0, 0.0, 0.0, 0.0, 0.0, 0.0, 0.0, 0.0, 0.0, 0.0, 0.0, 0.0, 0.0, 0.0, 0.0, 0.0, 0.0, 0.0, 0.0, 0.0, 0.0, 0.0, 0.0, 0.0, 0.0, 0.0, 0.0, 0.0, 0.0, 0.0, 0.0, 0.0, 0.0, 0.0, 0.0, 0.0, 0.0, 0.0, 0.0, 0.0, 0.0, 0.0, 0.0, 0.0, 0.0, 0.0, 0.0, 0.0, 0.0, 0.0, 0.0, 0.0, 0.0, 0.0, 0.0, 0.0, 0.0, 0.0, 0.0, 0.0, 0.0, 0.0, 0.0, 0.0, 0.0, 0.0], 'Survival': [0.0, 0.0, 0.0, 0.0, 0.0, 0.0, 0.0, 0.0, 0.0, 0.0, 0.0, 0.0, 0.0, 0.0, 0.0, 0.0, 0.0, 0.0, 0.0, 0.0, 0.0, 0.0, 0.0, 0.0, 0.0, 0.0, 0.0, 0.0, 0.0, 0.0, 0.0, 0.0, 0.0, 0.0, 0.0, 0.0, 0.0, 0.0, 0.0, 0.0, 0.0, 0.0, 0.0, 0.0, 0.0, 0.0, 0.0, 0.0, 0.0, 0.0, 0.0, 0.0, 0.0, 0.0, 0.0, 0.0, 0.0, 0.0, 0.0, 0.0, 0.0, 0.0, 0.0, 0.0, 0.0, 0.0, 0.0, 0.0, 0.0, 0.0, 0.0, 0.0, 0.0, 0.0, 0.0, 0.0, 0.0, 0.0, 0.0, 0.0, 0.0, 0.0, 0.0, 0.0, 0.0, 0.0, 0.0, 0.0, 0.0, 0.0, 0.0, 0.0, 0.0, 0.0, 0.0, 0.0, 0.0, 0.0, 0.0, 0.0, 0.0]}\n",
      "Average survival probability: 0.0000\n",
      "CPU runtime: 12.93\n"
     ]
    }
   ],
   "source": [
    "# Since the simulation is updated randomly, I will collect a series of simulation runs\n",
    "# to average out the outcome\n",
    "import time\n",
    "from boolean2 import util\n",
    "coll = util.Collector()\n",
    "start_time = time.time()\n",
    "survival = list()\n",
    "apoptosis = list()\n",
    "for i in range(100):\n",
    "    model = boolean2.Model(Default_model, mode='async')\n",
    "    model.initialize()\n",
    "    model.iterate(steps=100)\n",
    "    # we only observe two nodes: \"Survival\" and \"Apoptosis\"\n",
    "    nodes = model.nodes\n",
    "    coll.collect(states=model.states, nodes = ['Survival','Apoptosis'])\n",
    "\n",
    "avgs = coll.get_averages(normalize=True)\n",
    "print (avgs)\n",
    "print (\"Average survival probability: %.4f\" %(float(sum(model.data['Survival']))/len(model.data['Survival'])))\n",
    "print (\"CPU runtime: %.2f\" %(time.time()-start_time))"
   ]
  },
  {
   "cell_type": "raw",
   "metadata": {},
   "source": [
    "Based on above simulation, the normal cell would just behave in the usual way as the cancer cell's \"Survival\" and \"Apoptosis\" are not activated."
   ]
  },
  {
   "cell_type": "code",
   "execution_count": 22,
   "metadata": {},
   "outputs": [],
   "source": [
    "# This model would assume the cell has show signs of turning maglignant.\n",
    "cancer_cell = \"\"\"\n",
    "Survival_factors = AKT = XIAP = True\n",
    "FOXO1 = False\n",
    "TNF = Random\n",
    "\n",
    "MEK1_2 = NFKBIA = BAK_BAX = FOXO3 = BAD = IKK-complex = IKBKG = BCL2L11 = Apoptosis = Survival = NRAS = MAP3K7 = TRADD = TRAF2 = CASP7 = CREB1 = ERK1_2 = RPS6KA1 = NfKb-p65_p50 = CASP3 = SOS1 = TNFRSF1A = CASP9 = GRB2 = BRAF = BCL2 = False\n",
    "NFKBIA* =  not IKK-complex and CASP3\n",
    "FOXO3* = not IKK-complex and not AKT \n",
    "BAD* = not IKK-complex and not AKT and not Survival_factors and not RPS6KA1\n",
    "IKK-complex* = MAP3K7 and IKBKG\n",
    "IKBKG* = MAP3K7\n",
    "BAK_BAX* =  not BCL2 and BCL2L11\n",
    "BCL2L11* = FOXO3 and FOXO1\n",
    "Apoptosis* = BAK_BAX and FOXO3\n",
    "Survival* = NfKb-p65_p50 and CREB1 and AKT\n",
    "NRAS* = SOS1\n",
    "MAP3K7* = TRAF2\n",
    "TRADD* = TNFRSF1A\n",
    "TRAF2* = TRADD\n",
    "RPS6KA1* = ERK1_2\n",
    "CREB1* = RPS6KA1\n",
    "NfKb-p65_p50* = not NFKBIA\n",
    "MEK1_2* = BRAF\n",
    "CASP7* = not XIAP\n",
    "CASP3* = not XIAP and CASP9\n",
    "SOS1* = GRB2\n",
    "TNFRSF1A* = TNF\n",
    "CASP9* = CASP3 and not XIAP\n",
    "GRB2* = Survival_factors\n",
    "ERK1_2* = MEK1_2\n",
    "BRAF* = not ERK1_2 and NRAS\n",
    "BCL2* = not BCL2L11 and CREB1 and ERK1_2 and not BAD\n",
    "\"\"\""
   ]
  },
  {
   "cell_type": "code",
   "execution_count": 23,
   "metadata": {},
   "outputs": [
    {
     "name": "stdout",
     "output_type": "stream",
     "text": [
      "(False, False)\n",
      "No cycle or steady state could be detected from the 101 states\n"
     ]
    }
   ],
   "source": [
    "model = boolean2.Model(cancer_cell, mode='async')\n",
    "model.initialize()\n",
    "model.iterate(steps=100)\n",
    "state = model.states[-1]\n",
    "print (state.Survival, state.Apoptosis)\n",
    "model.report_cycles()"
   ]
  },
  {
   "cell_type": "code",
   "execution_count": 56,
   "metadata": {},
   "outputs": [
    {
     "name": "stdout",
     "output_type": "stream",
     "text": [
      "{'Apoptosis': [0.0, 0.0, 0.0, 0.0, 0.0, 0.0, 0.0, 0.0, 0.0, 0.0, 0.0, 0.0, 0.0, 0.0, 0.0, 0.0, 0.0, 0.0, 0.0, 0.0, 0.0, 0.0, 0.0, 0.0, 0.0, 0.0, 0.0, 0.0, 0.0, 0.0, 0.0, 0.0, 0.0, 0.0, 0.0, 0.0, 0.0, 0.0, 0.0, 0.0, 0.0, 0.0, 0.0, 0.0, 0.0, 0.0, 0.0, 0.0, 0.0, 0.0, 0.0, 0.0, 0.0, 0.0, 0.0, 0.0, 0.0, 0.0, 0.0, 0.0, 0.0, 0.0, 0.0, 0.0, 0.0, 0.0, 0.0, 0.0, 0.0, 0.0, 0.0, 0.0, 0.0, 0.0, 0.0, 0.0, 0.0, 0.0, 0.0, 0.0, 0.0, 0.0, 0.0, 0.0, 0.0, 0.0, 0.0, 0.0, 0.0, 0.0, 0.0, 0.0, 0.0, 0.0, 0.0, 0.0, 0.0, 0.0, 0.0, 0.0, 0.0], 'Survival': [0.0, 0.0, 0.0, 0.03, 0.11, 0.44, 0.53, 0.46, 0.47, 0.52, 0.56, 0.44, 0.47, 0.62, 0.51, 0.53, 0.49, 0.47, 0.51, 0.53, 0.53, 0.46, 0.44, 0.48, 0.5, 0.41, 0.52, 0.57, 0.6, 0.48, 0.6, 0.66, 0.52, 0.51, 0.58, 0.46, 0.46, 0.51, 0.57, 0.47, 0.53, 0.57, 0.48, 0.37, 0.51, 0.53, 0.4, 0.4, 0.52, 0.5, 0.5, 0.44, 0.5, 0.44, 0.5, 0.45, 0.55, 0.5, 0.47, 0.44, 0.49, 0.63, 0.52, 0.53, 0.5, 0.52, 0.55, 0.51, 0.5, 0.49, 0.53, 0.52, 0.44, 0.46, 0.51, 0.49, 0.5, 0.51, 0.59, 0.58, 0.56, 0.52, 0.49, 0.45, 0.49, 0.54, 0.51, 0.49, 0.47, 0.48, 0.46, 0.44, 0.45, 0.43, 0.48, 0.46, 0.41, 0.41, 0.5, 0.41, 0.45]}\n",
      "Average survival probability: 0.4356\n",
      "CPU runtime: 12.90\n"
     ]
    }
   ],
   "source": [
    "import time\n",
    "from boolean2 import util\n",
    "coll = util.Collector()\n",
    "start_time = time.time()\n",
    "for i in range(100):\n",
    "    model = boolean2.Model(cancer_cell, mode='async')\n",
    "    model.initialize()\n",
    "    model.iterate(steps=100)\n",
    "    # we only observe two nodes: \"Survival\" and \"Apoptosis\"\n",
    "    nodes = model.nodes\n",
    "    coll.collect(states=model.states, nodes = ['Survival','Apoptosis'])\n",
    "\n",
    "avgs = coll.get_averages(normalize=True)\n",
    "print (avgs)\n",
    "print (\"Average survival probability: %.4f\" %(float(sum(model.data['Survival']))/len(model.data['Survival'])))\n",
    "print (\"CPU runtime: %.2f\" %(time.time()-start_time))"
   ]
  },
  {
   "cell_type": "raw",
   "metadata": {},
   "source": [
    "From above simulation, it is apparent the cancer cell is likely to survive and proliferate."
   ]
  },
  {
   "cell_type": "code",
   "execution_count": 42,
   "metadata": {},
   "outputs": [],
   "source": [
    "# This model would assume the cell has show signs of turning maglignant\n",
    "# and Interferon treatment is applied\n",
    "cancer_cell_interferon = \"\"\"\n",
    "Survival_factors = AKT = XIAP = True\n",
    "FOXO1 = False\n",
    "TNF = Random\n",
    "\n",
    "Interferon_gamma-n1 = Interferon_gamma-1b = Interferon_gamma-1a = True\n",
    "TNF* = not Interferon_gamma-n1 or not Interferon_gamma-1b or not Interferon_gamma-1a\n",
    "\n",
    "MEK1_2 = NFKBIA = BAK_BAX = FOXO3 = BAD = IKK-complex = IKBKG = BCL2L11 = Apoptosis = Survival = NRAS = MAP3K7 = TRADD = TRAF2 = CASP7 = CREB1 = ERK1_2 = RPS6KA1 = NfKb-p65_p50 = CASP3 = SOS1 = TNFRSF1A = CASP9 = GRB2 = BRAF = BCL2 = False\n",
    "NFKBIA* =  not IKK-complex and CASP3\n",
    "FOXO3* = not IKK-complex and not AKT \n",
    "BAD* = not IKK-complex and not AKT and not Survival_factors and not RPS6KA1\n",
    "IKK-complex* = MAP3K7 and IKBKG\n",
    "IKBKG* = MAP3K7\n",
    "BAK_BAX* =  not BCL2 and BCL2L11\n",
    "BCL2L11* = FOXO3 and FOXO1\n",
    "Apoptosis* = BAK_BAX and FOXO3\n",
    "Survival* = NfKb-p65_p50 and CREB1 and AKT\n",
    "NRAS* = SOS1\n",
    "MAP3K7* = TRAF2\n",
    "TRADD* = TNFRSF1A\n",
    "TRAF2* = TRADD\n",
    "RPS6KA1* = ERK1_2\n",
    "CREB1* = RPS6KA1\n",
    "NfKb-p65_p50* = not NFKBIA\n",
    "MEK1_2* = BRAF\n",
    "CASP7* = not XIAP\n",
    "CASP3* = not XIAP and CASP9\n",
    "SOS1* = GRB2\n",
    "TNFRSF1A* = TNF\n",
    "CASP9* = CASP3 and not XIAP\n",
    "GRB2* = Survival_factors\n",
    "ERK1_2* = MEK1_2\n",
    "BRAF* = not ERK1_2 and NRAS\n",
    "BCL2* = not BCL2L11 and CREB1 and ERK1_2 and not BAD\n",
    "\"\"\""
   ]
  },
  {
   "cell_type": "code",
   "execution_count": 43,
   "metadata": {},
   "outputs": [
    {
     "name": "stdout",
     "output_type": "stream",
     "text": [
      "(False, False)\n",
      "No cycle or steady state could be detected from the 101 states\n"
     ]
    }
   ],
   "source": [
    "model = boolean2.Model(cancer_cell_interferon, mode='async')\n",
    "model.initialize()\n",
    "model.iterate(steps=100)\n",
    "state = model.states[-1]\n",
    "print (state.Survival, state.Apoptosis)\n",
    "model.report_cycles()"
   ]
  },
  {
   "cell_type": "code",
   "execution_count": 57,
   "metadata": {},
   "outputs": [
    {
     "name": "stdout",
     "output_type": "stream",
     "text": [
      "{'Apoptosis': [0.0, 0.0, 0.0, 0.0, 0.0, 0.0, 0.0, 0.0, 0.0, 0.0, 0.0, 0.0, 0.0, 0.0, 0.0, 0.0, 0.0, 0.0, 0.0, 0.0, 0.0, 0.0, 0.0, 0.0, 0.0, 0.0, 0.0, 0.0, 0.0, 0.0, 0.0, 0.0, 0.0, 0.0, 0.0, 0.0, 0.0, 0.0, 0.0, 0.0, 0.0, 0.0, 0.0, 0.0, 0.0, 0.0, 0.0, 0.0, 0.0, 0.0, 0.0, 0.0, 0.0, 0.0, 0.0, 0.0, 0.0, 0.0, 0.0, 0.0, 0.0, 0.0, 0.0, 0.0, 0.0, 0.0, 0.0, 0.0, 0.0, 0.0, 0.0, 0.0, 0.0, 0.0, 0.0, 0.0, 0.0, 0.0, 0.0, 0.0, 0.0, 0.0, 0.0, 0.0, 0.0, 0.0, 0.0, 0.0, 0.0, 0.0, 0.0, 0.0, 0.0, 0.0, 0.0, 0.0, 0.0, 0.0, 0.0, 0.0, 0.0], 'Survival': [0.0, 0.0, 0.0, 0.02, 0.18, 0.44, 0.58, 0.59, 0.47, 0.49, 0.52, 0.52, 0.55, 0.4, 0.4, 0.55, 0.52, 0.44, 0.57, 0.49, 0.46, 0.57, 0.49, 0.47, 0.57, 0.46, 0.52, 0.53, 0.56, 0.5, 0.45, 0.64, 0.59, 0.48, 0.55, 0.56, 0.5, 0.48, 0.59, 0.47, 0.53, 0.54, 0.47, 0.51, 0.52, 0.46, 0.43, 0.45, 0.44, 0.46, 0.58, 0.54, 0.48, 0.53, 0.58, 0.5, 0.56, 0.56, 0.62, 0.5, 0.55, 0.57, 0.48, 0.53, 0.51, 0.46, 0.5, 0.53, 0.51, 0.5, 0.5, 0.58, 0.48, 0.48, 0.59, 0.49, 0.51, 0.44, 0.53, 0.41, 0.47, 0.48, 0.44, 0.49, 0.52, 0.59, 0.57, 0.5, 0.47, 0.53, 0.52, 0.49, 0.49, 0.5, 0.53, 0.55, 0.56, 0.5, 0.49, 0.59, 0.57]}\n",
      "Average survival probability: 0.5446\n",
      "CPU runtime: 13.98\n"
     ]
    }
   ],
   "source": [
    "import time\n",
    "from boolean2 import util\n",
    "coll = util.Collector()\n",
    "start_time = time.time()\n",
    "for i in range(100):\n",
    "    model = boolean2.Model(cancer_cell_interferon, mode='async')\n",
    "    model.initialize()\n",
    "    model.iterate(steps=100)\n",
    "    # we only observe two nodes: \"Survival\" and \"Apoptosis\"\n",
    "    nodes = model.nodes\n",
    "    coll.collect(states=model.states, nodes = ['Survival','Apoptosis'])\n",
    "\n",
    "avgs = coll.get_averages(normalize=True)\n",
    "print (avgs)\n",
    "print (\"Average survival probability: %.4f\" %(float(sum(model.data['Survival']))/len(model.data['Survival'])))\n",
    "print (\"CPU runtime: %.2f\" %(time.time()-start_time))"
   ]
  },
  {
   "cell_type": "raw",
   "metadata": {},
   "source": [
    "From above simulation, interferone alone is unable to stop the proflieratiobn of the cancer cell.  The survival probability of cancer cell seems to improve."
   ]
  },
  {
   "cell_type": "code",
   "execution_count": 39,
   "metadata": {},
   "outputs": [],
   "source": [
    "# This model would assume the cell has show signs of turning maglignant\n",
    "# and Interferon and Ruxolitinib or Dasatinib treatment is applied\n",
    "cancer_cell_interferon_Ruxolitinib_Dasatinib = \"\"\"\n",
    "Survival_factors = AKT = XIAP = True\n",
    "FOXO1 = False\n",
    "TNF = Random\n",
    "\n",
    "Interferon_gamma-n1 = Interferon_gamma-1b = Interferon_gamma-1a = True\n",
    "TNF* = Interferon_gamma-n1 or Interferon_gamma-1b or Interferon_gamma-1a\n",
    "\n",
    "Ruxolitinib = Dasatinib = True\n",
    "MEK1_2* = not Ruxolitinib or not Dasatinib\n",
    "\n",
    "MEK1_2 = NFKBIA = BAK_BAX = FOXO3 = BAD = IKK-complex = IKBKG = BCL2L11 = Apoptosis = Survival = NRAS = MAP3K7 = TRADD = TRAF2 = CASP7 = CREB1 = ERK1_2 = RPS6KA1 = NfKb-p65_p50 = CASP3 = SOS1 = TNFRSF1A = CASP9 = GRB2 = BRAF = BCL2 = False\n",
    "NFKBIA* =  not IKK-complex and CASP3\n",
    "FOXO3* = not IKK-complex and not AKT \n",
    "BAD* = not IKK-complex and not AKT and not Survival_factors and not RPS6KA1\n",
    "IKK-complex* = MAP3K7 and IKBKG\n",
    "IKBKG* = MAP3K7\n",
    "BAK_BAX* =  not BCL2 and BCL2L11\n",
    "BCL2L11* = FOXO3 and FOXO1\n",
    "Apoptosis* = BAK_BAX and FOXO3\n",
    "Survival* = NfKb-p65_p50 and CREB1 and AKT\n",
    "NRAS* = SOS1\n",
    "MAP3K7* = TRAF2\n",
    "TRADD* = TNFRSF1A\n",
    "TRAF2* = TRADD\n",
    "RPS6KA1* = ERK1_2\n",
    "CREB1* = RPS6KA1\n",
    "NfKb-p65_p50* = not NFKBIA\n",
    "MEK1_2* = BRAF\n",
    "CASP7* = not XIAP\n",
    "CASP3* = not XIAP and CASP9\n",
    "SOS1* = GRB2\n",
    "TNFRSF1A* = TNF\n",
    "CASP9* = CASP3 and not XIAP\n",
    "GRB2* = Survival_factors\n",
    "ERK1_2* = MEK1_2\n",
    "BRAF* = not ERK1_2 and NRAS\n",
    "BCL2* = not BCL2L11 and CREB1 and ERK1_2 and not BAD\n",
    "\"\"\""
   ]
  },
  {
   "cell_type": "code",
   "execution_count": 40,
   "metadata": {},
   "outputs": [
    {
     "name": "stdout",
     "output_type": "stream",
     "text": [
      "(False, False)\n",
      "Steady state starting at index 23 -> State: AKT=True, Apoptosis=False, BAD=False, BAK_BAX=False, BCL2=False, BCL2L11=False, BRAF=True, CASP3=False, CASP7=False, CASP9=False, CREB1=False, Dasatinib=True, ERK1_2=False, FOXO1=False, FOXO3=False, GRB2=True, IKBKG=True, IKK-complex=True, Interferon_gamma-1a=True, Interferon_gamma-1b=True, Interferon_gamma-n1=True, MAP3K7=True, MEK1_2=False, NFKBIA=False, NRAS=True, NfKb-p65_p50=True, RPS6KA1=False, Ruxolitinib=True, SOS1=True, Survival=False, Survival_factors=True, TNF=True, TNFRSF1A=True, TRADD=True, TRAF2=True, XIAP=True\n"
     ]
    }
   ],
   "source": [
    "model = boolean2.Model(cancer_cell_interferon_Ruxolitinib_Dasatinib, mode='async')\n",
    "model.initialize()\n",
    "model.iterate(steps=100)\n",
    "state = model.states[-1]\n",
    "print (state.Survival, state.Apoptosis)\n",
    "model.report_cycles()"
   ]
  },
  {
   "cell_type": "code",
   "execution_count": 60,
   "metadata": {},
   "outputs": [
    {
     "name": "stdout",
     "output_type": "stream",
     "text": [
      "{'Apoptosis': [0.0, 0.0, 0.0, 0.0, 0.0, 0.0, 0.0, 0.0, 0.0, 0.0, 0.0, 0.0, 0.0, 0.0, 0.0, 0.0, 0.0, 0.0, 0.0, 0.0, 0.0, 0.0, 0.0, 0.0, 0.0, 0.0, 0.0, 0.0, 0.0, 0.0, 0.0, 0.0, 0.0, 0.0, 0.0, 0.0, 0.0, 0.0, 0.0, 0.0, 0.0, 0.0, 0.0, 0.0, 0.0, 0.0, 0.0, 0.0, 0.0, 0.0, 0.0, 0.0, 0.0, 0.0, 0.0, 0.0, 0.0, 0.0, 0.0, 0.0, 0.0, 0.0, 0.0, 0.0, 0.0, 0.0, 0.0, 0.0, 0.0, 0.0, 0.0, 0.0, 0.0, 0.0, 0.0, 0.0, 0.0, 0.0, 0.0, 0.0, 0.0, 0.0, 0.0, 0.0, 0.0, 0.0, 0.0, 0.0, 0.0, 0.0, 0.0, 0.0, 0.0, 0.0, 0.0, 0.0, 0.0, 0.0, 0.0, 0.0, 0.0], 'Survival': [0.0, 0.0, 0.0, 0.0, 0.06, 0.16, 0.29, 0.31, 0.39, 0.36, 0.27, 0.39, 0.33, 0.28, 0.25, 0.37, 0.4, 0.41, 0.37, 0.3, 0.3, 0.31, 0.35, 0.36, 0.31, 0.31, 0.31, 0.31, 0.36, 0.33, 0.31, 0.28, 0.24, 0.3, 0.4, 0.38, 0.35, 0.39, 0.49, 0.37, 0.34, 0.29, 0.26, 0.38, 0.4, 0.36, 0.28, 0.31, 0.29, 0.36, 0.41, 0.36, 0.33, 0.34, 0.39, 0.34, 0.27, 0.33, 0.27, 0.35, 0.33, 0.32, 0.34, 0.28, 0.36, 0.32, 0.36, 0.45, 0.36, 0.39, 0.37, 0.34, 0.27, 0.35, 0.39, 0.36, 0.27, 0.26, 0.32, 0.39, 0.39, 0.32, 0.3, 0.27, 0.27, 0.32, 0.36, 0.39, 0.39, 0.39, 0.34, 0.34, 0.24, 0.35, 0.37, 0.35, 0.3, 0.33, 0.39, 0.37, 0.34]}\n",
      "Average survival probability: 0.3267\n",
      "CPU runtime: 14.49\n"
     ]
    }
   ],
   "source": [
    "import time\n",
    "from boolean2 import util\n",
    "coll = util.Collector()\n",
    "start_time = time.time()\n",
    "for i in range(100):\n",
    "    model = boolean2.Model(cancer_cell_interferon_Ruxolitinib_Dasatinib, mode='async')\n",
    "    model.initialize()\n",
    "    model.iterate(steps=100)\n",
    "    # we only observe two nodes: \"Survival\" and \"Apoptosis\"\n",
    "    nodes = model.nodes\n",
    "    coll.collect(states=model.states, nodes = ['Survival','Apoptosis'])\n",
    "\n",
    "avgs = coll.get_averages(normalize=True)\n",
    "print (avgs)\n",
    "print (\"Average survival probability: %.4f\" %(float(sum(model.data['Survival']))/len(model.data['Survival'])))\n",
    "print (\"CPU runtime: %.2f\" %(time.time()-start_time))"
   ]
  },
  {
   "cell_type": "raw",
   "metadata": {},
   "source": [
    "Adding Ruxolitinib/Dasatinib will help to improve the efficacy of the combo treatment as the survival probability seems to improve a bit."
   ]
  },
  {
   "cell_type": "code",
   "execution_count": 48,
   "metadata": {},
   "outputs": [],
   "source": [
    "# This model would assume the cell has show signs of turning maglignant\n",
    "# and Interferon and Ruxolitinib or Dasatinib and Dinaciclib treatment are applied\n",
    "cancer_cell_interferon_Ruxolitinib_Dasatinib_Dinaciclib = \"\"\"\n",
    "Survival_factors = AKT = XIAP = True\n",
    "FOXO1 = False\n",
    "TNF = Random\n",
    "\n",
    "Interferon_gamma-n1 = Interferon_gamma-1b = Interferon_gamma-1a = True\n",
    "TNF* = Interferon_gamma-n1 or Interferon_gamma-1b or Interferon_gamma-1a\n",
    "\n",
    "Ruxolitinib = Dasatinib = True\n",
    "MEK1_2* = not Ruxolitinib or not Dasatinib\n",
    "\n",
    "Dinaciclib = True\n",
    "FOXO3* = Dinaciclib\n",
    "\n",
    "MEK1_2 = NFKBIA = BAK_BAX = FOXO3 = BAD = IKK-complex = IKBKG = BCL2L11 = Apoptosis = Survival = NRAS = MAP3K7 = TRADD = TRAF2 = CASP7 = CREB1 = ERK1_2 = RPS6KA1 = NfKb-p65_p50 = CASP3 = SOS1 = TNFRSF1A = CASP9 = GRB2 = BRAF = BCL2 = False\n",
    "NFKBIA* =  not IKK-complex and CASP3\n",
    "FOXO3* = not IKK-complex and not AKT \n",
    "BAD* = not IKK-complex and not AKT and not Survival_factors and not RPS6KA1\n",
    "IKK-complex* = MAP3K7 and IKBKG\n",
    "IKBKG* = MAP3K7\n",
    "BAK_BAX* =  not BCL2 and BCL2L11\n",
    "BCL2L11* = FOXO3 and FOXO1\n",
    "Apoptosis* = BAK_BAX and FOXO3\n",
    "Survival* = NfKb-p65_p50 and CREB1 and AKT\n",
    "NRAS* = SOS1\n",
    "MAP3K7* = TRAF2\n",
    "TRADD* = TNFRSF1A\n",
    "TRAF2* = TRADD\n",
    "RPS6KA1* = ERK1_2\n",
    "CREB1* = RPS6KA1\n",
    "NfKb-p65_p50* = not NFKBIA\n",
    "MEK1_2* = BRAF\n",
    "CASP7* = not XIAP\n",
    "CASP3* = not XIAP and CASP9\n",
    "SOS1* = GRB2\n",
    "TNFRSF1A* = TNF\n",
    "CASP9* = CASP3 and not XIAP\n",
    "GRB2* = Survival_factors\n",
    "ERK1_2* = MEK1_2\n",
    "BRAF* = not ERK1_2 and NRAS\n",
    "BCL2* = not BCL2L11 and CREB1 and ERK1_2 and not BAD\n",
    "\"\"\""
   ]
  },
  {
   "cell_type": "code",
   "execution_count": 46,
   "metadata": {},
   "outputs": [
    {
     "name": "stdout",
     "output_type": "stream",
     "text": [
      "(False, False)\n",
      "Steady state starting at index 13 -> State: AKT=True, Apoptosis=False, BAD=False, BAK_BAX=False, BCL2=False, BCL2L11=False, BRAF=True, CASP3=False, CASP7=False, CASP9=False, CREB1=False, Dasatinib=True, Dinaciclib=True, ERK1_2=False, FOXO1=False, FOXO3=False, GRB2=True, IKBKG=True, IKK-complex=True, Interferon_gamma-1a=True, Interferon_gamma-1b=True, Interferon_gamma-n1=True, MAP3K7=True, MEK1_2=True, NFKBIA=False, NRAS=True, NfKb-p65_p50=True, RPS6KA1=False, Ruxolitinib=True, SOS1=True, Survival=False, Survival_factors=True, TNF=True, TNFRSF1A=True, TRADD=True, TRAF2=True, XIAP=True\n"
     ]
    }
   ],
   "source": [
    "model = boolean2.Model(cancer_cell_interferon_Ruxolitinib_Dasatinib_Dinaciclib, mode='async')\n",
    "model.initialize()\n",
    "model.iterate(steps=100)\n",
    "state = model.states[-1]\n",
    "print (state.Survival, state.Apoptosis)\n",
    "model.report_cycles()"
   ]
  },
  {
   "cell_type": "code",
   "execution_count": 61,
   "metadata": {},
   "outputs": [
    {
     "name": "stdout",
     "output_type": "stream",
     "text": [
      "{'Apoptosis': [0.0, 0.0, 0.0, 0.0, 0.0, 0.0, 0.0, 0.0, 0.0, 0.0, 0.0, 0.0, 0.0, 0.0, 0.0, 0.0, 0.0, 0.0, 0.0, 0.0, 0.0, 0.0, 0.0, 0.0, 0.0, 0.0, 0.0, 0.0, 0.0, 0.0, 0.0, 0.0, 0.0, 0.0, 0.0, 0.0, 0.0, 0.0, 0.0, 0.0, 0.0, 0.0, 0.0, 0.0, 0.0, 0.0, 0.0, 0.0, 0.0, 0.0, 0.0, 0.0, 0.0, 0.0, 0.0, 0.0, 0.0, 0.0, 0.0, 0.0, 0.0, 0.0, 0.0, 0.0, 0.0, 0.0, 0.0, 0.0, 0.0, 0.0, 0.0, 0.0, 0.0, 0.0, 0.0, 0.0, 0.0, 0.0, 0.0, 0.0, 0.0, 0.0, 0.0, 0.0, 0.0, 0.0, 0.0, 0.0, 0.0, 0.0, 0.0, 0.0, 0.0, 0.0, 0.0, 0.0, 0.0, 0.0, 0.0, 0.0, 0.0], 'Survival': [0.0, 0.0, 0.0, 0.02, 0.13, 0.24, 0.38, 0.33, 0.26, 0.32, 0.25, 0.28, 0.34, 0.35, 0.31, 0.42, 0.4, 0.36, 0.36, 0.37, 0.31, 0.29, 0.45, 0.36, 0.23, 0.4, 0.42, 0.36, 0.31, 0.31, 0.34, 0.35, 0.33, 0.38, 0.39, 0.27, 0.29, 0.42, 0.36, 0.28, 0.3, 0.34, 0.28, 0.35, 0.32, 0.36, 0.35, 0.35, 0.33, 0.27, 0.31, 0.34, 0.44, 0.28, 0.26, 0.33, 0.34, 0.25, 0.31, 0.32, 0.34, 0.33, 0.3, 0.3, 0.33, 0.27, 0.26, 0.31, 0.37, 0.36, 0.29, 0.32, 0.35, 0.27, 0.29, 0.29, 0.31, 0.41, 0.32, 0.31, 0.33, 0.37, 0.39, 0.34, 0.3, 0.38, 0.31, 0.29, 0.27, 0.3, 0.35, 0.28, 0.3, 0.38, 0.44, 0.41, 0.29, 0.25, 0.28, 0.37, 0.32]}\n",
      "Average survival probability: 0.2673\n",
      "CPU runtime: 16.22\n"
     ]
    }
   ],
   "source": [
    "import time\n",
    "from boolean2 import util\n",
    "coll = util.Collector()\n",
    "start_time = time.time()\n",
    "for i in range(100):\n",
    "    model = boolean2.Model(cancer_cell_interferon_Ruxolitinib_Dasatinib_Dinaciclib, mode='async')\n",
    "    model.initialize()\n",
    "    model.iterate(steps=100)\n",
    "    # we only observe two nodes: \"Survival\" and \"Apoptosis\"\n",
    "    nodes = model.nodes\n",
    "    coll.collect(states=model.states, nodes = ['Survival','Apoptosis'])\n",
    "\n",
    "avgs = coll.get_averages(normalize=True)\n",
    "print (avgs)\n",
    "print (\"Average survival probability: %.4f\" %(float(sum(model.data['Survival']))/len(model.data['Survival'])))\n",
    "print (\"CPU runtime: %.2f\" %(time.time()-start_time))"
   ]
  },
  {
   "cell_type": "raw",
   "metadata": {},
   "source": [
    "It seems adding Dinaciclib to the treatment does lower the probability of survival of the cancer cell further."
   ]
  },
  {
   "cell_type": "code",
   "execution_count": 49,
   "metadata": {},
   "outputs": [],
   "source": [
    "# This model would assume the cell has show signs of turning maglignant\n",
    "# and Interferon and Ruxolitinib or Dasatinib, Dinaciclib and Vemurafenib treatment are applied\n",
    "cancer_cell_interferon_Ruxolitinib_Dasatinib_Dinaciclib_Vemurafenib = \"\"\"\n",
    "Survival_factors = AKT = XIAP = True\n",
    "FOXO1 = False\n",
    "TNF = Random\n",
    "\n",
    "Interferon_gamma-n1 = Interferon_gamma-1b = Interferon_gamma-1a = True\n",
    "TNF* = Interferon_gamma-n1 or Interferon_gamma-1b or Interferon_gamma-1a\n",
    "\n",
    "Ruxolitinib = Dasatinib = True\n",
    "MEK1_2* = not Ruxolitinib or not Dasatinib\n",
    "\n",
    "Dinaciclib = True\n",
    "FOXO3* = Dinaciclib\n",
    "\n",
    "Vemurafenib = True\n",
    "BRAF* = not Vemurafenib\n",
    "\n",
    "MEK1_2 = NFKBIA = BAK_BAX = FOXO3 = BAD = IKK-complex = IKBKG = BCL2L11 = Apoptosis = Survival = NRAS = MAP3K7 = TRADD = TRAF2 = CASP7 = CREB1 = ERK1_2 = RPS6KA1 = NfKb-p65_p50 = CASP3 = SOS1 = TNFRSF1A = CASP9 = GRB2 = BRAF = BCL2 = False\n",
    "NFKBIA* =  not IKK-complex and CASP3\n",
    "FOXO3* = not IKK-complex and not AKT \n",
    "BAD* = not IKK-complex and not AKT and not Survival_factors and not RPS6KA1\n",
    "IKK-complex* = MAP3K7 and IKBKG\n",
    "IKBKG* = MAP3K7\n",
    "BAK_BAX* =  not BCL2 and BCL2L11\n",
    "BCL2L11* = FOXO3 and FOXO1\n",
    "Apoptosis* = BAK_BAX and FOXO3\n",
    "Survival* = NfKb-p65_p50 and CREB1 and AKT\n",
    "NRAS* = SOS1\n",
    "MAP3K7* = TRAF2\n",
    "TRADD* = TNFRSF1A\n",
    "TRAF2* = TRADD\n",
    "RPS6KA1* = ERK1_2\n",
    "CREB1* = RPS6KA1\n",
    "NfKb-p65_p50* = not NFKBIA\n",
    "MEK1_2* = BRAF\n",
    "CASP7* = not XIAP\n",
    "CASP3* = not XIAP and CASP9\n",
    "SOS1* = GRB2\n",
    "TNFRSF1A* = TNF\n",
    "CASP9* = CASP3 and not XIAP\n",
    "GRB2* = Survival_factors\n",
    "ERK1_2* = MEK1_2\n",
    "BRAF* = not ERK1_2 and NRAS\n",
    "BCL2* = not BCL2L11 and CREB1 and ERK1_2 and not BAD\n",
    "\"\"\""
   ]
  },
  {
   "cell_type": "code",
   "execution_count": 50,
   "metadata": {},
   "outputs": [
    {
     "name": "stdout",
     "output_type": "stream",
     "text": [
      "(False, False)\n",
      "Steady state starting at index 19 -> State: AKT=True, Apoptosis=False, BAD=False, BAK_BAX=False, BCL2=False, BCL2L11=False, BRAF=True, CASP3=False, CASP7=False, CASP9=False, CREB1=False, Dasatinib=True, Dinaciclib=True, ERK1_2=False, FOXO1=False, FOXO3=True, GRB2=True, IKBKG=True, IKK-complex=True, Interferon_gamma-1a=True, Interferon_gamma-1b=True, Interferon_gamma-n1=True, MAP3K7=True, MEK1_2=False, NFKBIA=False, NRAS=True, NfKb-p65_p50=True, RPS6KA1=False, Ruxolitinib=True, SOS1=True, Survival=False, Survival_factors=True, TNF=True, TNFRSF1A=True, TRADD=True, TRAF2=True, Vemurafenib=True, XIAP=True\n"
     ]
    }
   ],
   "source": [
    "model = boolean2.Model(cancer_cell_interferon_Ruxolitinib_Dasatinib_Dinaciclib_Vemurafenib, mode='async')\n",
    "model.initialize()\n",
    "model.iterate(steps=100)\n",
    "state = model.states[-1]\n",
    "print (state.Survival, state.Apoptosis)\n",
    "model.report_cycles()"
   ]
  },
  {
   "cell_type": "code",
   "execution_count": 62,
   "metadata": {},
   "outputs": [
    {
     "name": "stdout",
     "output_type": "stream",
     "text": [
      "{'Apoptosis': [0.0, 0.0, 0.0, 0.0, 0.0, 0.0, 0.0, 0.0, 0.0, 0.0, 0.0, 0.0, 0.0, 0.0, 0.0, 0.0, 0.0, 0.0, 0.0, 0.0, 0.0, 0.0, 0.0, 0.0, 0.0, 0.0, 0.0, 0.0, 0.0, 0.0, 0.0, 0.0, 0.0, 0.0, 0.0, 0.0, 0.0, 0.0, 0.0, 0.0, 0.0, 0.0, 0.0, 0.0, 0.0, 0.0, 0.0, 0.0, 0.0, 0.0, 0.0, 0.0, 0.0, 0.0, 0.0, 0.0, 0.0, 0.0, 0.0, 0.0, 0.0, 0.0, 0.0, 0.0, 0.0, 0.0, 0.0, 0.0, 0.0, 0.0, 0.0, 0.0, 0.0, 0.0, 0.0, 0.0, 0.0, 0.0, 0.0, 0.0, 0.0, 0.0, 0.0, 0.0, 0.0, 0.0, 0.0, 0.0, 0.0, 0.0, 0.0, 0.0, 0.0, 0.0, 0.0, 0.0, 0.0, 0.0, 0.0, 0.0, 0.0], 'Survival': [0.0, 0.0, 0.0, 0.03, 0.1, 0.16, 0.2, 0.26, 0.22, 0.17, 0.16, 0.11, 0.18, 0.27, 0.2, 0.2, 0.1, 0.13, 0.19, 0.18, 0.23, 0.2, 0.13, 0.15, 0.23, 0.21, 0.21, 0.18, 0.19, 0.18, 0.24, 0.22, 0.21, 0.2, 0.24, 0.16, 0.15, 0.15, 0.22, 0.25, 0.24, 0.21, 0.2, 0.21, 0.23, 0.17, 0.13, 0.25, 0.18, 0.22, 0.23, 0.21, 0.19, 0.24, 0.19, 0.29, 0.24, 0.2, 0.2, 0.23, 0.3, 0.15, 0.27, 0.18, 0.16, 0.17, 0.21, 0.14, 0.24, 0.22, 0.12, 0.19, 0.29, 0.21, 0.12, 0.22, 0.24, 0.19, 0.16, 0.23, 0.23, 0.16, 0.19, 0.24, 0.24, 0.17, 0.18, 0.2, 0.26, 0.19, 0.21, 0.21, 0.25, 0.23, 0.15, 0.18, 0.14, 0.27, 0.29, 0.25, 0.25]}\n",
      "Average survival probability: 0.1287\n",
      "CPU runtime: 15.27\n"
     ]
    }
   ],
   "source": [
    "import time\n",
    "from boolean2 import util\n",
    "coll = util.Collector()\n",
    "start_time = time.time()\n",
    "for i in range(100):\n",
    "    model = boolean2.Model(cancer_cell_interferon_Ruxolitinib_Dasatinib_Dinaciclib_Vemurafenib, mode='async')\n",
    "    model.initialize()\n",
    "    model.iterate(steps=100)\n",
    "    # we only observe two nodes: \"Survival\" and \"Apoptosis\"\n",
    "    nodes = model.nodes\n",
    "    coll.collect(states=model.states, nodes = ['Survival','Apoptosis'])\n",
    "\n",
    "avgs = coll.get_averages(normalize=True)\n",
    "print (avgs)\n",
    "print (\"Average survival probability: %.4f\" %(float(sum(model.data['Survival']))/len(model.data['Survival'])))\n",
    "print (\"CPU runtime: %.2f\" %(time.time()-start_time))"
   ]
  },
  {
   "cell_type": "raw",
   "metadata": {},
   "source": [
    "It seems adding Vemurafenib to the mix has lowered the survival probabilty of cancer cell further. "
   ]
  },
  {
   "cell_type": "raw",
   "metadata": {},
   "source": [
    "To conclude, Ruxolitinib/Dasatinib, Dinaciclib together with Vemurafenib seems to be more effective to control the proflieration of cancer cells.  And each addition has different magnitude of efficacy to stop the proliferation of the cancer cells. \n",
    "\n",
    "Using network moded, it's possible for us to evaluate the best combo of drugs and devise a treatment plan that is best suited to a situation."
   ]
  }
 ],
 "metadata": {
  "kernelspec": {
   "display_name": "Python 2",
   "language": "python",
   "name": "python2"
  },
  "language_info": {
   "codemirror_mode": {
    "name": "ipython",
    "version": 2
   },
   "file_extension": ".py",
   "mimetype": "text/x-python",
   "name": "python",
   "nbconvert_exporter": "python",
   "pygments_lexer": "ipython2",
   "version": "2.7.18"
  }
 },
 "nbformat": 4,
 "nbformat_minor": 4
}

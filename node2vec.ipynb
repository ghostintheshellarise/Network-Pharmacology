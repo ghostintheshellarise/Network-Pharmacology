{
 "cells": [
  {
   "cell_type": "markdown",
   "metadata": {},
   "source": [
    "# node2vec"
   ]
  },
  {
   "cell_type": "markdown",
   "metadata": {},
   "source": [
    "This notebook demonstrates how to train a node embedding models using Gensim's word2vec model.  The embeddings would be used to extract relationship between entities in downstream task.\n",
    "\n",
    "The random walk will be used an input while skip-gram model would be employed to train the embeddings."
   ]
  },
  {
   "cell_type": "code",
   "execution_count": 1,
   "metadata": {},
   "outputs": [],
   "source": [
    "import pandas as pd\n",
    "import tqdm as tq\n",
    "import gensim\n",
    "import numpy as np\n",
    "import matplotlib.pyplot as plt\n",
    "%matplotlib inline"
   ]
  },
  {
   "cell_type": "code",
   "execution_count": 2,
   "metadata": {},
   "outputs": [],
   "source": [
    "PATH = \"/Users/apple/Google Drive/_My Data Analytics Exercise/Exercise/Cytoscape/KEGG enzymes/\""
   ]
  },
  {
   "cell_type": "code",
   "execution_count": 3,
   "metadata": {},
   "outputs": [],
   "source": [
    "# The sentence is \n",
    "# \"L-glutamate catalyses \n",
    "# ATP and L-cysteine \n",
    "# to produce \n",
    "# ADP and phosphate and gamma-L-glutamyl-L-cysteine\"\n",
    "nodes = ['L-glutamate', 'catalyses', 'ATP', 'and', 'L-cysteine', 'to', 'produce', 'ADP', 'phosphate', 'gamma-L-glutamyl-L-cysteine']"
   ]
  },
  {
   "cell_type": "code",
   "execution_count": 4,
   "metadata": {},
   "outputs": [],
   "source": [
    "df = pd.read_csv(PATH+\"RandomWalk.csv\")"
   ]
  },
  {
   "cell_type": "code",
   "execution_count": 5,
   "metadata": {},
   "outputs": [
    {
     "data": {
      "text/html": [
       "<div>\n",
       "<style scoped>\n",
       "    .dataframe tbody tr th:only-of-type {\n",
       "        vertical-align: middle;\n",
       "    }\n",
       "\n",
       "    .dataframe tbody tr th {\n",
       "        vertical-align: top;\n",
       "    }\n",
       "\n",
       "    .dataframe thead th {\n",
       "        text-align: right;\n",
       "    }\n",
       "</style>\n",
       "<table border=\"1\" class=\"dataframe\">\n",
       "  <thead>\n",
       "    <tr style=\"text-align: right;\">\n",
       "      <th></th>\n",
       "      <th>path</th>\n",
       "    </tr>\n",
       "  </thead>\n",
       "  <tbody>\n",
       "    <tr>\n",
       "      <th>0</th>\n",
       "      <td>['L-glutamate', 'catalyses', 'produce', 'ADP',...</td>\n",
       "    </tr>\n",
       "    <tr>\n",
       "      <th>1</th>\n",
       "      <td>['L-glutamate', 'catalyses', 'ATP', 'catalyses...</td>\n",
       "    </tr>\n",
       "    <tr>\n",
       "      <th>2</th>\n",
       "      <td>['L-glutamate', 'catalyses', 'ATP', 'L-cystein...</td>\n",
       "    </tr>\n",
       "    <tr>\n",
       "      <th>3</th>\n",
       "      <td>['L-glutamate', 'catalyses', 'produce', 'ADP',...</td>\n",
       "    </tr>\n",
       "    <tr>\n",
       "      <th>4</th>\n",
       "      <td>['L-glutamate', 'catalyses', 'produce', 'ADP',...</td>\n",
       "    </tr>\n",
       "  </tbody>\n",
       "</table>\n",
       "</div>"
      ],
      "text/plain": [
       "                                                path\n",
       "0  ['L-glutamate', 'catalyses', 'produce', 'ADP',...\n",
       "1  ['L-glutamate', 'catalyses', 'ATP', 'catalyses...\n",
       "2  ['L-glutamate', 'catalyses', 'ATP', 'L-cystein...\n",
       "3  ['L-glutamate', 'catalyses', 'produce', 'ADP',...\n",
       "4  ['L-glutamate', 'catalyses', 'produce', 'ADP',..."
      ]
     },
     "execution_count": 5,
     "metadata": {},
     "output_type": "execute_result"
    }
   ],
   "source": [
    "df.head()"
   ]
  },
  {
   "cell_type": "code",
   "execution_count": 6,
   "metadata": {},
   "outputs": [],
   "source": [
    "from tqdm import tqdm\n",
    "def generate_corpus(df, nodes):\n",
    "    \"\"\"extract texts from dataframe into proper corpus\"\"\"\n",
    "    text = list()\n",
    "    collection = list()\n",
    "    for i in tqdm(range(len(df))):\n",
    "        sent = df.loc[i, 'path']\n",
    "        for t in sent.split(\",\"):\n",
    "            for node in nodes:\n",
    "                if node in t:\n",
    "                    text.append(node)\n",
    "        collection.append(text)\n",
    "    return collection"
   ]
  },
  {
   "cell_type": "code",
   "execution_count": 7,
   "metadata": {},
   "outputs": [
    {
     "name": "stderr",
     "output_type": "stream",
     "text": [
      "100%|██████████| 10000/10000 [00:00<00:00, 12226.78it/s]\n"
     ]
    }
   ],
   "source": [
    "corpus = generate_corpus(df, nodes)"
   ]
  },
  {
   "cell_type": "code",
   "execution_count": 8,
   "metadata": {},
   "outputs": [
    {
     "data": {
      "text/plain": [
       "list"
      ]
     },
     "execution_count": 8,
     "metadata": {},
     "output_type": "execute_result"
    }
   ],
   "source": [
    "type(corpus)"
   ]
  },
  {
   "cell_type": "code",
   "execution_count": 5,
   "metadata": {},
   "outputs": [],
   "source": [
    "from gensim.models import Word2Vec"
   ]
  },
  {
   "cell_type": "code",
   "execution_count": 11,
   "metadata": {},
   "outputs": [
    {
     "name": "stdout",
     "output_type": "stream",
     "text": [
      "Processing time: 3396.05\n"
     ]
    }
   ],
   "source": [
    "import time\n",
    "start = time.time()\n",
    "model = Word2Vec(sentences=corpus, window=5, min_count=1, workers=20)\n",
    "sec = time.time()-start\n",
    "print (\"Processing time: %.2f\" %sec)"
   ]
  },
  {
   "cell_type": "code",
   "execution_count": 12,
   "metadata": {},
   "outputs": [],
   "source": [
    "model.save(PATH+\"node2vec.model\")"
   ]
  },
  {
   "cell_type": "code",
   "execution_count": 13,
   "metadata": {},
   "outputs": [
    {
     "name": "stdout",
     "output_type": "stream",
     "text": [
      "Token = L-glutamate\n",
      "[('ATP', 0.6996369361877441), ('and', 0.594517707824707), ('catalyses', 0.2938745319843292), ('to', -0.0382830835878849), ('produce', -0.3871094286441803), ('gamma-L-glutamyl-L-cysteine', -0.4437866508960724), ('L-cysteine', -0.4582892060279846), ('phosphate', -0.5956308245658875), ('ADP', -0.6302241086959839)]\n",
      "\n",
      "Token = catalyses\n",
      "[('ATP', 0.4969886243343353), ('L-cysteine', 0.29615771770477295), ('L-glutamate', 0.2938745319843292), ('ADP', 0.0063050054013729095), ('phosphate', -0.02758326381444931), ('and', -0.0415971539914608), ('gamma-L-glutamyl-L-cysteine', -0.14545486867427826), ('produce', -0.3758013844490051), ('to', -0.6427486538887024)]\n",
      "\n",
      "Token = ATP\n",
      "[('L-glutamate', 0.6996369361877441), ('catalyses', 0.4969886243343353), ('and', 0.42024293541908264), ('L-cysteine', -0.05145911127328873), ('gamma-L-glutamyl-L-cysteine', -0.3375800848007202), ('phosphate', -0.34251704812049866), ('ADP', -0.42829689383506775), ('produce', -0.5067824125289917), ('to', -0.5412697196006775)]\n",
      "\n",
      "Token = and\n",
      "[('L-glutamate', 0.5945177674293518), ('ATP', 0.42024293541908264), ('to', 0.10550364851951599), ('catalyses', -0.04159713536500931), ('gamma-L-glutamyl-L-cysteine', -0.12309826165437698), ('produce', -0.2705690562725067), ('L-cysteine', -0.5342555642127991), ('phosphate', -0.539222002029419), ('ADP', -0.6058452129364014)]\n",
      "\n",
      "Token = L-cysteine\n",
      "[('phosphate', 0.526737630367279), ('ADP', 0.43285757303237915), ('catalyses', 0.29615771770477295), ('gamma-L-glutamyl-L-cysteine', 0.06878706067800522), ('ATP', -0.05145909637212753), ('produce', -0.0765354186296463), ('L-glutamate', -0.45828917622566223), ('to', -0.4656563699245453), ('and', -0.5342555046081543)]\n",
      "\n",
      "Token = to\n",
      "[('produce', 0.28545230627059937), ('and', 0.10550366342067719), ('L-glutamate', -0.0382830873131752), ('gamma-L-glutamyl-L-cysteine', -0.2500572204589844), ('phosphate', -0.3222486674785614), ('ADP', -0.34040367603302), ('L-cysteine', -0.46565645933151245), ('ATP', -0.5412697196006775), ('catalyses', -0.6427487730979919)]\n",
      "\n",
      "Token = produce\n",
      "[('to', 0.285452276468277), ('ADP', 0.12492647767066956), ('phosphate', 0.0920889675617218), ('gamma-L-glutamyl-L-cysteine', 0.0157835204154253), ('L-cysteine', -0.0765354186296463), ('and', -0.2705690264701843), ('catalyses', -0.3758013844490051), ('L-glutamate', -0.3871094286441803), ('ATP', -0.5067824125289917)]\n",
      "\n",
      "Token = ADP\n",
      "[('phosphate', 0.513481855392456), ('gamma-L-glutamyl-L-cysteine', 0.4488363564014435), ('L-cysteine', 0.43285760283470154), ('produce', 0.12492646276950836), ('catalyses', 0.006305016577243805), ('to', -0.34040364623069763), ('ATP', -0.428296834230423), ('and', -0.6058450937271118), ('L-glutamate', -0.6302241086959839)]\n",
      "\n",
      "Token = phosphate\n",
      "[('L-cysteine', 0.5267375707626343), ('ADP', 0.513481855392456), ('gamma-L-glutamyl-L-cysteine', 0.371820330619812), ('produce', 0.09208894520998001), ('catalyses', -0.027583273127675056), ('to', -0.322248637676239), ('ATP', -0.34251704812049866), ('and', -0.5392219424247742), ('L-glutamate', -0.5956307649612427)]\n",
      "\n",
      "Token = gamma-L-glutamyl-L-cysteine\n",
      "[('ADP', 0.4488363564014435), ('phosphate', 0.371820330619812), ('L-cysteine', 0.06878706067800522), ('produce', 0.015783531591296196), ('and', -0.12309823930263519), ('catalyses', -0.14545485377311707), ('to', -0.2500571608543396), ('ATP', -0.33758002519607544), ('L-glutamate', -0.4437865912914276)]\n",
      "\n"
     ]
    }
   ],
   "source": [
    "# Similarity comparison\n",
    "for node in nodes:\n",
    "    print (\"Token = %s\" %node)\n",
    "    print (model.wv.similar_by_word(node))\n",
    "    print ()"
   ]
  },
  {
   "cell_type": "markdown",
   "metadata": {},
   "source": [
    "From above similarity score, one can classify which entity should appear on the left-handed side or the right-handed side of the reaction equation. It recovers the original reaction from text.  This approach can apply to bigger biomedical data set to collect information which is not made readily in curated database and enriches the existing knowledge."
   ]
  },
  {
   "cell_type": "markdown",
   "metadata": {},
   "source": [
    "## Distribution of the Node Vector"
   ]
  },
  {
   "cell_type": "markdown",
   "metadata": {},
   "source": [
    "After obtaining the embedding for each node, the following script is used to review how each node is located relative to each other in a 2-dimensional space."
   ]
  },
  {
   "cell_type": "code",
   "execution_count": 19,
   "metadata": {},
   "outputs": [],
   "source": [
    "model = Word2Vec.load(PATH+\"node2vec.model\")"
   ]
  },
  {
   "cell_type": "code",
   "execution_count": 20,
   "metadata": {},
   "outputs": [],
   "source": [
    "node_vec = dict()\n",
    "for node in nodes:\n",
    "    vec = model.wv[node]\n",
    "    node_vec[node] = vec"
   ]
  },
  {
   "cell_type": "code",
   "execution_count": 21,
   "metadata": {},
   "outputs": [],
   "source": [
    "import numpy as np\n",
    "x = list()\n",
    "y = list()\n",
    "for key, values in node_vec.items():\n",
    "    x.append(values)\n",
    "    y.append(key)"
   ]
  },
  {
   "cell_type": "code",
   "execution_count": 22,
   "metadata": {},
   "outputs": [],
   "source": [
    "from sklearn.manifold import LocallyLinearEmbedding"
   ]
  },
  {
   "cell_type": "code",
   "execution_count": 23,
   "metadata": {},
   "outputs": [],
   "source": [
    "llm = LocallyLinearEmbedding(n_components=2, method='modified')"
   ]
  },
  {
   "cell_type": "code",
   "execution_count": 24,
   "metadata": {},
   "outputs": [],
   "source": [
    "X_transformed = llm.fit_transform(x)"
   ]
  },
  {
   "cell_type": "code",
   "execution_count": 69,
   "metadata": {},
   "outputs": [
    {
     "data": {
      "text/plain": [
       "(10, 2)"
      ]
     },
     "execution_count": 69,
     "metadata": {},
     "output_type": "execute_result"
    }
   ],
   "source": [
    "X_transformed.shape"
   ]
  },
  {
   "cell_type": "code",
   "execution_count": 34,
   "metadata": {},
   "outputs": [
    {
     "data": {
      "text/plain": [
       "array([0.65967297, 0.05376167])"
      ]
     },
     "execution_count": 34,
     "metadata": {},
     "output_type": "execute_result"
    }
   ],
   "source": [
    "X_transformed[0]"
   ]
  },
  {
   "cell_type": "code",
   "execution_count": 40,
   "metadata": {},
   "outputs": [
    {
     "data": {
      "text/plain": [
       "'L-glutamate'"
      ]
     },
     "execution_count": 40,
     "metadata": {},
     "output_type": "execute_result"
    }
   ],
   "source": [
    "y[0]"
   ]
  },
  {
   "cell_type": "code",
   "execution_count": 13,
   "metadata": {},
   "outputs": [],
   "source": [
    "import matplotlib.pyplot as plt"
   ]
  },
  {
   "cell_type": "code",
   "execution_count": 26,
   "metadata": {},
   "outputs": [
    {
     "data": {
      "image/png": "[encoded data removed]",
      "text/plain": [
       "<Figure size 1080x720 with 1 Axes>"
      ]
     },
     "metadata": {
      "needs_background": "light"
     },
     "output_type": "display_data"
    }
   ],
   "source": [
    "plt.figure(figsize=(15,10))\n",
    "for index, pca  in enumerate(X_transformed):\n",
    "    label = y[index]\n",
    "    if label == 'and' or label == 'to':\n",
    "        pass\n",
    "    else:\n",
    "        plt.scatter(pca[0], pca[1])\n",
    "        plt.annotate(label, # this is the text\n",
    "                     (pca[0],pca[1]), # this is the point to label\n",
    "                     textcoords=\"offset points\", # how to position the text\n",
    "                     xytext=(0,5), # distance from text to points (x,y)\n",
    "                     ha='center') # horizontal alignment can be left, right or center\n",
    "        plt.axhline(y=-0.1, color='r', linestyle='-')\n",
    "        plt.axvline(x=0.4, color='r', linestyle='-')\n",
    "        plt.xlabel('PCA [0]')\n",
    "        plt.ylabel('PCA [1]')\n",
    "plt.show()"
   ]
  },
  {
   "cell_type": "markdown",
   "metadata": {},
   "source": [
    "From above plot, it's obvious that the embeddings are able to delineate different entities into three distinct groups except 'L-cysteine' is a bit ambiguous in its belonging. It is most likely related to the conversion scheme of text to graph which is a tunable factor."
   ]
  },
  {
   "cell_type": "code",
   "execution_count": null,
   "metadata": {},
   "outputs": [],
   "source": []
  }
 ],
 "metadata": {
  "kernelspec": {
   "display_name": "Python 3",
   "language": "python",
   "name": "python3"
  },
  "language_info": {
   "codemirror_mode": {
    "name": "ipython",
    "version": 3
   },
   "file_extension": ".py",
   "mimetype": "text/x-python",
   "name": "python",
   "nbconvert_exporter": "python",
   "pygments_lexer": "ipython3",
   "version": "3.8.5"
  }
 },
 "nbformat": 4,
 "nbformat_minor": 4
}

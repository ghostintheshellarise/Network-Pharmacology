{
 "cells": [
  {
   "cell_type": "markdown",
   "metadata": {},
   "source": [
    "# node2vec"
   ]
  },
  {
   "cell_type": "markdown",
   "metadata": {},
   "source": [
    "This notebook demonstrates how to train a node embedding models using Gensim's word2vec model.  The embeddings would be used to extract relationship between entities in downstream task.\n",
    "\n",
    "The random walk will be used an input while skip-gram model would be employed to train the embeddings."
   ]
  },
  {
   "cell_type": "code",
   "execution_count": 1,
   "metadata": {},
   "outputs": [],
   "source": [
    "import pandas as pd\n",
    "import tqdm as tq\n",
    "import gensim\n",
    "import numpy as np\n",
    "import matplotlib.pyplot as plt\n",
    "%matplotlib inline"
   ]
  },
  {
   "cell_type": "code",
   "execution_count": 2,
   "metadata": {},
   "outputs": [],
   "source": [
    "PATH = \"/Users/apple/Google Drive/_My Data Analytics Exercise/Exercise/Cytoscape/KEGG enzymes/\""
   ]
  },
  {
   "cell_type": "code",
   "execution_count": 3,
   "metadata": {},
   "outputs": [],
   "source": [
    "# The sentence is \n",
    "# \"L-glutamate catalyses \n",
    "# ATP and L-cysteine \n",
    "# to produce \n",
    "# ADP and phosphate and gamma-L-glutamyl-L-cysteine\"\n",
    "nodes = ['L-glutamate', 'catalyses', 'ATP', 'and', 'L-cysteine', 'to', 'produce', 'ADP', 'phosphate', 'gamma-L-glutamyl-L-cysteine']"
   ]
  },
  {
   "cell_type": "code",
   "execution_count": 4,
   "metadata": {},
   "outputs": [],
   "source": [
    "df = pd.read_csv(PATH+\"RandomWalk_new.csv\")"
   ]
  },
  {
   "cell_type": "code",
   "execution_count": 5,
   "metadata": {},
   "outputs": [
    {
     "data": {
      "text/html": [
       "<div>\n",
       "<style scoped>\n",
       "    .dataframe tbody tr th:only-of-type {\n",
       "        vertical-align: middle;\n",
       "    }\n",
       "\n",
       "    .dataframe tbody tr th {\n",
       "        vertical-align: top;\n",
       "    }\n",
       "\n",
       "    .dataframe thead th {\n",
       "        text-align: right;\n",
       "    }\n",
       "</style>\n",
       "<table border=\"1\" class=\"dataframe\">\n",
       "  <thead>\n",
       "    <tr style=\"text-align: right;\">\n",
       "      <th></th>\n",
       "      <th>path</th>\n",
       "    </tr>\n",
       "  </thead>\n",
       "  <tbody>\n",
       "    <tr>\n",
       "      <th>0</th>\n",
       "      <td>['L-glutamate', 'catalyses', 'L-cysteine', 'AT...</td>\n",
       "    </tr>\n",
       "    <tr>\n",
       "      <th>1</th>\n",
       "      <td>['L-glutamate', 'catalyses', 'L-glutamate', 'c...</td>\n",
       "    </tr>\n",
       "    <tr>\n",
       "      <th>2</th>\n",
       "      <td>['L-glutamate', 'catalyses', 'L-glutamate', 'c...</td>\n",
       "    </tr>\n",
       "    <tr>\n",
       "      <th>3</th>\n",
       "      <td>['L-glutamate', 'catalyses', 'ATP', 'catalyses...</td>\n",
       "    </tr>\n",
       "    <tr>\n",
       "      <th>4</th>\n",
       "      <td>['L-glutamate', 'catalyses', 'L-glutamate', 'c...</td>\n",
       "    </tr>\n",
       "  </tbody>\n",
       "</table>\n",
       "</div>"
      ],
      "text/plain": [
       "                                                path\n",
       "0  ['L-glutamate', 'catalyses', 'L-cysteine', 'AT...\n",
       "1  ['L-glutamate', 'catalyses', 'L-glutamate', 'c...\n",
       "2  ['L-glutamate', 'catalyses', 'L-glutamate', 'c...\n",
       "3  ['L-glutamate', 'catalyses', 'ATP', 'catalyses...\n",
       "4  ['L-glutamate', 'catalyses', 'L-glutamate', 'c..."
      ]
     },
     "execution_count": 5,
     "metadata": {},
     "output_type": "execute_result"
    }
   ],
   "source": [
    "df.head()"
   ]
  },
  {
   "cell_type": "code",
   "execution_count": 6,
   "metadata": {},
   "outputs": [],
   "source": [
    "from tqdm import tqdm\n",
    "def generate_corpus(df, nodes):\n",
    "    \"\"\"extract texts from dataframe into proper corpus\"\"\"\n",
    "    text = list()\n",
    "    collection = list()\n",
    "    for i in tqdm(range(len(df))):\n",
    "        sent = df.loc[i, 'path']\n",
    "        for t in sent.split(\",\"):\n",
    "            for node in nodes:\n",
    "                if node in t:\n",
    "                    text.append(node)\n",
    "        collection.append(text)\n",
    "    return collection"
   ]
  },
  {
   "cell_type": "code",
   "execution_count": 7,
   "metadata": {},
   "outputs": [
    {
     "name": "stderr",
     "output_type": "stream",
     "text": [
      "100%|██████████| 10000/10000 [00:00<00:00, 11206.91it/s]\n"
     ]
    }
   ],
   "source": [
    "corpus = generate_corpus(df, nodes)"
   ]
  },
  {
   "cell_type": "code",
   "execution_count": 8,
   "metadata": {},
   "outputs": [
    {
     "data": {
      "text/plain": [
       "list"
      ]
     },
     "execution_count": 8,
     "metadata": {},
     "output_type": "execute_result"
    }
   ],
   "source": [
    "type(corpus)"
   ]
  },
  {
   "cell_type": "code",
   "execution_count": 9,
   "metadata": {},
   "outputs": [],
   "source": [
    "from gensim.models import Word2Vec"
   ]
  },
  {
   "cell_type": "code",
   "execution_count": 10,
   "metadata": {},
   "outputs": [
    {
     "name": "stdout",
     "output_type": "stream",
     "text": [
      "Processing time: 5155.42\n"
     ]
    }
   ],
   "source": [
    "import time\n",
    "start = time.time()\n",
    "model = Word2Vec(sentences=corpus, window=5, min_count=1, workers=20)\n",
    "sec = time.time()-start\n",
    "print (\"Processing time: %.2f\" %sec)"
   ]
  },
  {
   "cell_type": "code",
   "execution_count": 11,
   "metadata": {},
   "outputs": [],
   "source": [
    "model.save(PATH+\"node2vec.model\")"
   ]
  },
  {
   "cell_type": "code",
   "execution_count": 12,
   "metadata": {},
   "outputs": [
    {
     "name": "stdout",
     "output_type": "stream",
     "text": [
      "Token = L-glutamate\n",
      "[('ATP', 0.9015867710113525), ('catalyses', 0.7822502255439758), ('L-cysteine', 0.44333961606025696), ('and', 0.43267035484313965), ('produce', -0.567520797252655), ('to', -0.5824844241142273), ('gamma-L-glutamyl-L-cysteine', -0.6789444088935852), ('phosphate', -0.8330023884773254), ('ADP', -0.8503132462501526)]\n",
      "\n",
      "Token = catalyses\n",
      "[('ATP', 0.8153453469276428), ('L-glutamate', 0.7822503447532654), ('L-cysteine', 0.5319836139678955), ('and', 0.49587950110435486), ('to', -0.5047869682312012), ('produce', -0.6949671506881714), ('gamma-L-glutamyl-L-cysteine', -0.7260816097259521), ('phosphate', -0.726341962814331), ('ADP', -0.7519031167030334)]\n",
      "\n",
      "Token = ATP\n",
      "[('L-glutamate', 0.9015867710113525), ('catalyses', 0.815345287322998), ('L-cysteine', 0.4332292675971985), ('and', 0.3949184715747833), ('to', -0.4890885651111603), ('produce', -0.7638189196586609), ('ADP', -0.7748681306838989), ('phosphate', -0.8612366914749146), ('gamma-L-glutamyl-L-cysteine', -0.884052574634552)]\n",
      "\n",
      "Token = and\n",
      "[('L-cysteine', 0.7086723446846008), ('catalyses', 0.49587953090667725), ('L-glutamate', 0.4326704144477844), ('ATP', 0.3949185609817505), ('phosphate', -0.07331806421279907), ('gamma-L-glutamyl-L-cysteine', -0.13242268562316895), ('produce', -0.22414341568946838), ('ADP', -0.40532755851745605), ('to', -0.5090963244438171)]\n",
      "\n",
      "Token = L-cysteine\n",
      "[('and', 0.7086721062660217), ('catalyses', 0.5319835543632507), ('L-glutamate', 0.44333958625793457), ('ATP', 0.4332292675971985), ('phosphate', -0.10272487998008728), ('ADP', -0.2374197393655777), ('gamma-L-glutamyl-L-cysteine', -0.321471631526947), ('to', -0.42177045345306396), ('produce', -0.4538983702659607)]\n",
      "\n",
      "Token = to\n",
      "[('ADP', 0.4830816388130188), ('phosphate', 0.3560718894004822), ('gamma-L-glutamyl-L-cysteine', 0.26155126094818115), ('produce', 0.18897834420204163), ('L-cysteine', -0.42177051305770874), ('ATP', -0.4890885651111603), ('catalyses', -0.5047869682312012), ('and', -0.5090963244438171), ('L-glutamate', -0.5824844241142273)]\n",
      "\n",
      "Token = produce\n",
      "[('gamma-L-glutamyl-L-cysteine', 0.8269658088684082), ('phosphate', 0.5700391530990601), ('ADP', 0.35529404878616333), ('to', 0.18897834420204163), ('and', -0.2241433709859848), ('L-cysteine', -0.45389842987060547), ('L-glutamate', -0.567520797252655), ('catalyses', -0.6949670910835266), ('ATP', -0.7638189196586609)]\n",
      "\n",
      "Token = ADP\n",
      "[('phosphate', 0.7472922205924988), ('gamma-L-glutamyl-L-cysteine', 0.510617196559906), ('to', 0.4830816388130188), ('produce', 0.35529404878616333), ('L-cysteine', -0.2374197393655777), ('and', -0.4053274989128113), ('catalyses', -0.7519030570983887), ('ATP', -0.7748681306838989), ('L-glutamate', -0.8503132462501526)]\n",
      "\n",
      "Token = phosphate\n",
      "[('gamma-L-glutamyl-L-cysteine', 0.7745159864425659), ('ADP', 0.747292160987854), ('produce', 0.5700390934944153), ('to', 0.3560718894004822), ('and', -0.07331802695989609), ('L-cysteine', -0.10272487998008728), ('catalyses', -0.7263417840003967), ('L-glutamate', -0.8330022692680359), ('ATP', -0.8612365126609802)]\n",
      "\n",
      "Token = gamma-L-glutamyl-L-cysteine\n",
      "[('produce', 0.8269656896591187), ('phosphate', 0.7745161056518555), ('ADP', 0.510617196559906), ('to', 0.26155123114585876), ('and', -0.13242265582084656), ('L-cysteine', -0.321471631526947), ('L-glutamate', -0.6789444088935852), ('catalyses', -0.7260816097259521), ('ATP', -0.884052574634552)]\n",
      "\n"
     ]
    }
   ],
   "source": [
    "# Similarity comparison\n",
    "for node in nodes:\n",
    "    print (\"Token = %s\" %node)\n",
    "    print (model.wv.similar_by_word(node))\n",
    "    print ()"
   ]
  },
  {
   "cell_type": "markdown",
   "metadata": {},
   "source": [
    "From above similarity score, one can classify which entity should appear on the left-handed side or the right-handed side of the reaction equation."
   ]
  },
  {
   "cell_type": "markdown",
   "metadata": {},
   "source": [
    "## Distribution of the Node Vector"
   ]
  },
  {
   "cell_type": "markdown",
   "metadata": {},
   "source": [
    "After obtaining the embedding for each node, the following script is used to review how each node is located relative to each other in a 2-dimensional space."
   ]
  },
  {
   "cell_type": "code",
   "execution_count": 13,
   "metadata": {},
   "outputs": [],
   "source": [
    "model = Word2Vec.load(PATH+\"node2vec.model\")"
   ]
  },
  {
   "cell_type": "code",
   "execution_count": 14,
   "metadata": {},
   "outputs": [],
   "source": [
    "node_vec = dict()\n",
    "for node in nodes:\n",
    "    vec = model.wv[node]\n",
    "    node_vec[node] = vec"
   ]
  },
  {
   "cell_type": "code",
   "execution_count": 15,
   "metadata": {},
   "outputs": [],
   "source": [
    "import numpy as np\n",
    "x = list()\n",
    "y = list()\n",
    "for key, values in node_vec.items():\n",
    "    x.append(values)\n",
    "    y.append(key)"
   ]
  },
  {
   "cell_type": "code",
   "execution_count": 26,
   "metadata": {},
   "outputs": [],
   "source": [
    "from sklearn.manifold import LocallyLinearEmbedding"
   ]
  },
  {
   "cell_type": "code",
   "execution_count": 31,
   "metadata": {},
   "outputs": [],
   "source": [
    "llm = LocallyLinearEmbedding(n_components=2, method='modified')"
   ]
  },
  {
   "cell_type": "code",
   "execution_count": 32,
   "metadata": {},
   "outputs": [],
   "source": [
    "X_transformed = llm.fit_transform(x)"
   ]
  },
  {
   "cell_type": "code",
   "execution_count": 19,
   "metadata": {},
   "outputs": [
    {
     "data": {
      "text/plain": [
       "(10, 2)"
      ]
     },
     "execution_count": 19,
     "metadata": {},
     "output_type": "execute_result"
    }
   ],
   "source": [
    "X_transformed.shape"
   ]
  },
  {
   "cell_type": "code",
   "execution_count": 20,
   "metadata": {},
   "outputs": [
    {
     "data": {
      "text/plain": [
       "array([-0.41707719,  0.10612305])"
      ]
     },
     "execution_count": 20,
     "metadata": {},
     "output_type": "execute_result"
    }
   ],
   "source": [
    "X_transformed[0]"
   ]
  },
  {
   "cell_type": "code",
   "execution_count": 21,
   "metadata": {},
   "outputs": [
    {
     "data": {
      "text/plain": [
       "'L-glutamate'"
      ]
     },
     "execution_count": 21,
     "metadata": {},
     "output_type": "execute_result"
    }
   ],
   "source": [
    "y[0]"
   ]
  },
  {
   "cell_type": "code",
   "execution_count": 22,
   "metadata": {},
   "outputs": [],
   "source": [
    "import matplotlib.pyplot as plt"
   ]
  },
  {
   "cell_type": "code",
   "execution_count": 33,
   "metadata": {},
   "outputs": [
    {
     "data": {
      "image/png": "[encoded data removed]",
      "text/plain": [
       "<Figure size 1080x720 with 1 Axes>"
      ]
     },
     "metadata": {
      "needs_background": "light"
     },
     "output_type": "display_data"
    }
   ],
   "source": [
    "plt.figure(figsize=(15,10))\n",
    "for index, pca  in enumerate(X_transformed):\n",
    "    label = y[index]\n",
    "    if label == 'and' or label == 'to':\n",
    "        pass\n",
    "    else:\n",
    "        plt.scatter(pca[0], pca[1])\n",
    "        plt.annotate(label, # this is the text\n",
    "                     (pca[0],pca[1]), # this is the point to label\n",
    "                     textcoords=\"offset points\", # how to position the text\n",
    "                     xytext=(0,5), # distance from text to points (x,y)\n",
    "                     ha='center') # horizontal alignment can be left, right or center\n",
    "        #plt.axhline(y=0.0, color='r', linestyle='-')\n",
    "        plt.axvline(x=0.0, color='r', linestyle='-')\n",
    "        plt.xlabel('PCA [0]')\n",
    "        plt.ylabel('PCA [1]')\n",
    "plt.show()"
   ]
  },
  {
   "cell_type": "markdown",
   "metadata": {},
   "source": [
    "From above plot, it's obvious that the embeddings are able to delineate different entities into two distinct groups. The embeddings could be tuned further by having different conversion approach to generate graph from sentence."
   ]
  },
  {
   "cell_type": "code",
   "execution_count": null,
   "metadata": {},
   "outputs": [],
   "source": []
  }
 ],
 "metadata": {
  "kernelspec": {
   "display_name": "Python 3",
   "language": "python",
   "name": "python3"
  },
  "language_info": {
   "codemirror_mode": {
    "name": "ipython",
    "version": 3
   },
   "file_extension": ".py",
   "mimetype": "text/x-python",
   "name": "python",
   "nbconvert_exporter": "python",
   "pygments_lexer": "ipython3",
   "version": "3.8.5"
  }
 },
 "nbformat": 4,
 "nbformat_minor": 4
}

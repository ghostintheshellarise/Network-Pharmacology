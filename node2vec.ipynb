{
 "cells": [
  {
   "cell_type": "markdown",
   "metadata": {},
   "source": [
    "# node2vec"
   ]
  },
  {
   "cell_type": "raw",
   "metadata": {},
   "source": [
    "This notebook demonstrates how to train a node embedding models using Gensim's word2vec model.  The embeddings would be used to extract relationship between entities in downstream task.\n",
    "\n",
    "The random walk will be used an input while skip-gram model would be employed to train the embeddings."
   ]
  },
  {
   "cell_type": "code",
   "execution_count": 1,
   "metadata": {},
   "outputs": [],
   "source": [
    "import pandas as pd\n",
    "import tqdm as tq\n",
    "import gensim\n",
    "import numpy as np\n",
    "import matplotlib.pyplot as plt\n",
    "%matplotlib inline"
   ]
  },
  {
   "cell_type": "code",
   "execution_count": 2,
   "metadata": {},
   "outputs": [],
   "source": [
    "PATH = \"/Users/apple/Google Drive/_My Data Analytics Exercise/Exercise/Cytoscape/KEGG enzymes/\""
   ]
  },
  {
   "cell_type": "code",
   "execution_count": 45,
   "metadata": {},
   "outputs": [],
   "source": [
    "# The original sentence is \n",
    "# \"L-glutamate catalyses \n",
    "# ATP and L-cysteine \n",
    "# to produce \n",
    "# ADP and phosphate and gamma-L-glutamyl-L-cysteine\"\n",
    "nodes = ['L-glutamate', 'catalyses', 'ATP', 'and', 'L-cysteine', 'to', 'produce', 'ADP', 'phosphate', 'gamma-L-glutamyl-L-cysteine']"
   ]
  },
  {
   "cell_type": "code",
   "execution_count": 3,
   "metadata": {},
   "outputs": [],
   "source": [
    "df = pd.read_csv(PATH+\"RandomWalk.csv\")"
   ]
  },
  {
   "cell_type": "code",
   "execution_count": 4,
   "metadata": {},
   "outputs": [
    {
     "data": {
      "text/html": [
       "<div>\n",
       "<style scoped>\n",
       "    .dataframe tbody tr th:only-of-type {\n",
       "        vertical-align: middle;\n",
       "    }\n",
       "\n",
       "    .dataframe tbody tr th {\n",
       "        vertical-align: top;\n",
       "    }\n",
       "\n",
       "    .dataframe thead th {\n",
       "        text-align: right;\n",
       "    }\n",
       "</style>\n",
       "<table border=\"1\" class=\"dataframe\">\n",
       "  <thead>\n",
       "    <tr style=\"text-align: right;\">\n",
       "      <th></th>\n",
       "      <th>path</th>\n",
       "    </tr>\n",
       "  </thead>\n",
       "  <tbody>\n",
       "    <tr>\n",
       "      <th>0</th>\n",
       "      <td>['L-glutamate', 'catalyses', 'L-glutamate', 'c...</td>\n",
       "    </tr>\n",
       "    <tr>\n",
       "      <th>1</th>\n",
       "      <td>['L-glutamate', 'catalyses', 'L-glutamate', 'c...</td>\n",
       "    </tr>\n",
       "    <tr>\n",
       "      <th>2</th>\n",
       "      <td>['L-glutamate', 'catalyses', 'L-glutamate', 'c...</td>\n",
       "    </tr>\n",
       "    <tr>\n",
       "      <th>3</th>\n",
       "      <td>['L-glutamate', 'catalyses', 'ATP', 'catalyses...</td>\n",
       "    </tr>\n",
       "    <tr>\n",
       "      <th>4</th>\n",
       "      <td>['L-glutamate', 'catalyses', 'ATP', 'L-cystein...</td>\n",
       "    </tr>\n",
       "  </tbody>\n",
       "</table>\n",
       "</div>"
      ],
      "text/plain": [
       "                                                path\n",
       "0  ['L-glutamate', 'catalyses', 'L-glutamate', 'c...\n",
       "1  ['L-glutamate', 'catalyses', 'L-glutamate', 'c...\n",
       "2  ['L-glutamate', 'catalyses', 'L-glutamate', 'c...\n",
       "3  ['L-glutamate', 'catalyses', 'ATP', 'catalyses...\n",
       "4  ['L-glutamate', 'catalyses', 'ATP', 'L-cystein..."
      ]
     },
     "execution_count": 4,
     "metadata": {},
     "output_type": "execute_result"
    }
   ],
   "source": [
    "df.head()"
   ]
  },
  {
   "cell_type": "code",
   "execution_count": 63,
   "metadata": {},
   "outputs": [],
   "source": [
    "from tqdm import tqdm\n",
    "def generate_corpus(df, nodes):\n",
    "    \"\"\"extract texts from dataframe into proper corpus\"\"\"\n",
    "    text = list()\n",
    "    collection = list()\n",
    "    for i in tqdm(range(len(df))):\n",
    "        sent = df.loc[i, 'path']\n",
    "        for t in sent.split(\",\"):\n",
    "            for node in nodes:\n",
    "                if node in t:\n",
    "                    text.append(node)\n",
    "        collection.append(text)\n",
    "    return collection"
   ]
  },
  {
   "cell_type": "code",
   "execution_count": 64,
   "metadata": {},
   "outputs": [
    {
     "name": "stderr",
     "output_type": "stream",
     "text": [
      "100%|██████████| 10000/10000 [00:00<00:00, 39692.63it/s]\n"
     ]
    }
   ],
   "source": [
    "corpus = generate_corpus(df, nodes)"
   ]
  },
  {
   "cell_type": "code",
   "execution_count": 55,
   "metadata": {},
   "outputs": [
    {
     "data": {
      "text/plain": [
       "list"
      ]
     },
     "execution_count": 55,
     "metadata": {},
     "output_type": "execute_result"
    }
   ],
   "source": [
    "type(corpus)"
   ]
  },
  {
   "cell_type": "code",
   "execution_count": 29,
   "metadata": {},
   "outputs": [],
   "source": [
    "from gensim.models import Word2Vec"
   ]
  },
  {
   "cell_type": "code",
   "execution_count": 59,
   "metadata": {},
   "outputs": [
    {
     "name": "stdout",
     "output_type": "stream",
     "text": [
      "Processing time: 1044.3459\n"
     ]
    }
   ],
   "source": [
    "import time\n",
    "start = time.time()\n",
    "model = Word2Vec(sentences=corpus, window=5, min_count=1, workers=10)\n",
    "sec = time.time()-start\n",
    "print (\"Processing time: %.4f\" %sec)"
   ]
  },
  {
   "cell_type": "code",
   "execution_count": 65,
   "metadata": {},
   "outputs": [],
   "source": [
    "model.save(PATH+\"node2vec.model\")"
   ]
  },
  {
   "cell_type": "code",
   "execution_count": 67,
   "metadata": {},
   "outputs": [
    {
     "name": "stdout",
     "output_type": "stream",
     "text": [
      "Token = L-glutamate\n",
      "[('and', 0.587877631187439), ('catalyses', 0.5706859827041626), ('L-cysteine', 0.45024657249450684), ('to', -0.09922177344560623), ('produce', -0.1698339581489563), ('gamma-L-glutamyl-L-cysteine', -0.33798545598983765), ('phosphate', -0.3571850657463074), ('ADP', -0.555553138256073), ('ATP', -0.7430402636528015)]\n",
      "\n",
      "Token = catalyses\n",
      "[('L-glutamate', 0.5706859827041626), ('and', 0.14228102564811707), ('L-cysteine', 0.013536369428038597), ('ATP', -0.1659509837627411), ('to', -0.33440345525741577), ('produce', -0.42417845129966736), ('gamma-L-glutamyl-L-cysteine', -0.6173654794692993), ('phosphate', -0.6421977281570435), ('ADP', -0.7165749073028564)]\n",
      "\n",
      "Token = ATP\n",
      "[('ADP', 0.09276409447193146), ('gamma-L-glutamyl-L-cysteine', -0.12319786101579666), ('to', -0.1596231907606125), ('phosphate', -0.1645449548959732), ('catalyses', -0.1659509837627411), ('produce', -0.19881166517734528), ('L-cysteine', -0.72438645362854), ('L-glutamate', -0.7430402636528015), ('and', -0.8689749836921692)]\n",
      "\n",
      "Token = and\n",
      "[('L-cysteine', 0.6031257510185242), ('L-glutamate', 0.587877631187439), ('gamma-L-glutamyl-L-cysteine', 0.309932678937912), ('phosphate', 0.2907026410102844), ('catalyses', 0.14228105545043945), ('produce', 0.049082688987255096), ('to', -0.01492433249950409), ('ADP', -0.20684120059013367), ('ATP', -0.8689749240875244)]\n",
      "\n",
      "Token = L-cysteine\n",
      "[('and', 0.6031256914138794), ('phosphate', 0.48732221126556396), ('L-glutamate', 0.45024657249450684), ('gamma-L-glutamyl-L-cysteine', 0.1669488400220871), ('catalyses', 0.013536369428038597), ('ADP', -0.08511925488710403), ('produce', -0.09639902412891388), ('to', -0.2346400022506714), ('ATP', -0.72438645362854)]\n",
      "\n",
      "Token = to\n",
      "[('produce', 0.6916382312774658), ('ADP', 0.6894922256469727), ('and', -0.014924321323633194), ('phosphate', -0.03764292597770691), ('gamma-L-glutamyl-L-cysteine', -0.06985006481409073), ('L-glutamate', -0.09922178834676743), ('ATP', -0.15962320566177368), ('L-cysteine', -0.2346399873495102), ('catalyses', -0.33440345525741577)]\n",
      "\n",
      "Token = produce\n",
      "[('to', 0.6916382312774658), ('ADP', 0.5170884132385254), ('phosphate', 0.15258285403251648), ('gamma-L-glutamyl-L-cysteine', 0.09938646852970123), ('and', 0.049082715064287186), ('L-cysteine', -0.09639902412891388), ('L-glutamate', -0.1698339581489563), ('ATP', -0.19881166517734528), ('catalyses', -0.42417845129966736)]\n",
      "\n",
      "Token = ADP\n",
      "[('to', 0.6894922852516174), ('produce', 0.5170884132385254), ('phosphate', 0.40276965498924255), ('gamma-L-glutamyl-L-cysteine', 0.29035064578056335), ('ATP', 0.09276409447193146), ('L-cysteine', -0.08511925488710403), ('and', -0.20684118568897247), ('L-glutamate', -0.555553138256073), ('catalyses', -0.7165749073028564)]\n",
      "\n",
      "Token = phosphate\n",
      "[('gamma-L-glutamyl-L-cysteine', 0.523861289024353), ('L-cysteine', 0.48732221126556396), ('ADP', 0.40276965498924255), ('and', 0.2907026410102844), ('produce', 0.15258285403251648), ('to', -0.037642933428287506), ('ATP', -0.1645449697971344), ('L-glutamate', -0.357185035943985), ('catalyses', -0.6421977281570435)]\n",
      "\n",
      "Token = gamma-L-glutamyl-L-cysteine\n",
      "[('phosphate', 0.523861289024353), ('and', 0.3099326491355896), ('ADP', 0.29035061597824097), ('L-cysteine', 0.1669488549232483), ('produce', 0.09938646852970123), ('to', -0.06985007226467133), ('ATP', -0.12319784611463547), ('L-glutamate', -0.33798542618751526), ('catalyses', -0.6173654794692993)]\n",
      "\n"
     ]
    }
   ],
   "source": [
    "# Similarity comparison\n",
    "for node in nodes:\n",
    "    print (\"Token = %s\" %node)\n",
    "    print (model.wv.similar_by_word(node))\n",
    "    print ()"
   ]
  },
  {
   "cell_type": "raw",
   "metadata": {},
   "source": [
    "From above similarity score, one can classify which entity should appear on the left-handed side or the right-handed side of the reaction equation.\n",
    "\n",
    "The model could be further fine-tuned as 'L-cysteine' should appear 'closer' with 'ATP' and the enzyme 'L-glutamate'.  It may have to do with the weight of the nodes/path or the graph structure reconstructed from the original sentence.  This is the point for further investigation."
   ]
  }
 ],
 "metadata": {
  "kernelspec": {
   "display_name": "Python 3",
   "language": "python",
   "name": "python3"
  },
  "language_info": {
   "codemirror_mode": {
    "name": "ipython",
    "version": 3
   },
   "file_extension": ".py",
   "mimetype": "text/x-python",
   "name": "python",
   "nbconvert_exporter": "python",
   "pygments_lexer": "ipython3",
   "version": "3.8.5"
  }
 },
 "nbformat": 4,
 "nbformat_minor": 4
}

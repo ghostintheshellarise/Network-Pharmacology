{
 "cells": [
  {
   "cell_type": "markdown",
   "metadata": {},
   "source": [
    "# Random Walk Generation"
   ]
  },
  {
   "cell_type": "markdown",
   "metadata": {},
   "source": [
    "The notebook demonstrates how to learn node embeddings of graph-converted sentences extracted from PubMed. The learned embeddings will be used to genetrate hypothesis between different biochemical entities and the action between them.\n",
    "\n",
    "Below is a demonstration with a simple sentence that involves enzyme catalysis."
   ]
  },
  {
   "cell_type": "markdown",
   "metadata": {},
   "source": [
    "## Generate Graph from Sentence "
   ]
  },
  {
   "cell_type": "code",
   "execution_count": 1,
   "metadata": {},
   "outputs": [],
   "source": [
    "import networkx as nx\n",
    "import pandas as pd\n",
    "from tqdm import tqdm"
   ]
  },
  {
   "cell_type": "code",
   "execution_count": 2,
   "metadata": {},
   "outputs": [],
   "source": [
    "import warnings\n",
    "warnings.filterwarnings(\"ignore\")\n",
    "import spacy\n",
    "import scispacy"
   ]
  },
  {
   "cell_type": "code",
   "execution_count": 3,
   "metadata": {},
   "outputs": [],
   "source": [
    "nlp = spacy.load(\"en_core_sci_lg\")"
   ]
  },
  {
   "cell_type": "code",
   "execution_count": 4,
   "metadata": {},
   "outputs": [],
   "source": [
    "PATH = \"/Users/apple/Google Drive/_My Data Analytics Exercise/Exercise/Cytoscape/KEGG enzymes/\""
   ]
  },
  {
   "cell_type": "code",
   "execution_count": 5,
   "metadata": {},
   "outputs": [],
   "source": [
    "df = pd.read_csv(PATH+\"enzyme_sentence.csv\")"
   ]
  },
  {
   "cell_type": "code",
   "execution_count": 6,
   "metadata": {},
   "outputs": [
    {
     "data": {
      "text/html": [
       "<div>\n",
       "<style scoped>\n",
       "    .dataframe tbody tr th:only-of-type {\n",
       "        vertical-align: middle;\n",
       "    }\n",
       "\n",
       "    .dataframe tbody tr th {\n",
       "        vertical-align: top;\n",
       "    }\n",
       "\n",
       "    .dataframe thead th {\n",
       "        text-align: right;\n",
       "    }\n",
       "</style>\n",
       "<table border=\"1\" class=\"dataframe\">\n",
       "  <thead>\n",
       "    <tr style=\"text-align: right;\">\n",
       "      <th></th>\n",
       "      <th>enzyme</th>\n",
       "      <th>sentence</th>\n",
       "    </tr>\n",
       "  </thead>\n",
       "  <tbody>\n",
       "    <tr>\n",
       "      <th>0</th>\n",
       "      <td>L-glutamate</td>\n",
       "      <td>L-glutamate catalyses ATP and L-cysteine to pr...</td>\n",
       "    </tr>\n",
       "    <tr>\n",
       "      <th>1</th>\n",
       "      <td>L-serine</td>\n",
       "      <td>L-serine catalyses ATP and L-glutamate and L-c...</td>\n",
       "    </tr>\n",
       "    <tr>\n",
       "      <th>2</th>\n",
       "      <td>alpha-D-glucose 1,6-phosphomutase</td>\n",
       "      <td>alpha-D-glucose 1,6-phosphomutase catalyses AT...</td>\n",
       "    </tr>\n",
       "    <tr>\n",
       "      <th>3</th>\n",
       "      <td>acetoacetate</td>\n",
       "      <td>acetoacetate catalyses ATP and L-glutamate and...</td>\n",
       "    </tr>\n",
       "    <tr>\n",
       "      <th>4</th>\n",
       "      <td>L-proline</td>\n",
       "      <td>L-proline catalyses ATP and L-glutamate and L-...</td>\n",
       "    </tr>\n",
       "  </tbody>\n",
       "</table>\n",
       "</div>"
      ],
      "text/plain": [
       "                              enzyme  \\\n",
       "0                        L-glutamate   \n",
       "1                           L-serine   \n",
       "2  alpha-D-glucose 1,6-phosphomutase   \n",
       "3                       acetoacetate   \n",
       "4                          L-proline   \n",
       "\n",
       "                                            sentence  \n",
       "0  L-glutamate catalyses ATP and L-cysteine to pr...  \n",
       "1  L-serine catalyses ATP and L-glutamate and L-c...  \n",
       "2  alpha-D-glucose 1,6-phosphomutase catalyses AT...  \n",
       "3  acetoacetate catalyses ATP and L-glutamate and...  \n",
       "4  L-proline catalyses ATP and L-glutamate and L-...  "
      ]
     },
     "execution_count": 6,
     "metadata": {},
     "output_type": "execute_result"
    }
   ],
   "source": [
    "df.head()"
   ]
  },
  {
   "cell_type": "code",
   "execution_count": 7,
   "metadata": {},
   "outputs": [
    {
     "name": "stdout",
     "output_type": "stream",
     "text": [
      "L-glutamate catalyses ATP and L-cysteine to produce ADP and phosphate and gamma-L-glutamyl-L-cysteine\n"
     ]
    }
   ],
   "source": [
    "sent = df['sentence'][0]\n",
    "enzyme = df['enzyme'][0]\n",
    "print (sent)"
   ]
  },
  {
   "cell_type": "code",
   "execution_count": 8,
   "metadata": {},
   "outputs": [],
   "source": [
    "doc = nlp(sent)"
   ]
  },
  {
   "cell_type": "code",
   "execution_count": 9,
   "metadata": {},
   "outputs": [
    {
     "name": "stdout",
     "output_type": "stream",
     "text": [
      "L-glutamate NOUN\n",
      "catalyses VERB\n",
      "ATP NOUN\n",
      "and CCONJ\n",
      "L-cysteine NOUN\n",
      "to PART\n",
      "produce VERB\n",
      "ADP NOUN\n",
      "and CCONJ\n",
      "phosphate NOUN\n",
      "and CCONJ\n",
      "gamma-L-glutamyl-L-cysteine NOUN\n",
      "\n",
      "Number of tokens: 12\n"
     ]
    }
   ],
   "source": [
    "for token in doc:\n",
    "    print (token.text, token.pos_)\n",
    "print ()\n",
    "print (\"Number of tokens: %i\" %len(doc))"
   ]
  },
  {
   "cell_type": "code",
   "execution_count": 11,
   "metadata": {},
   "outputs": [
    {
     "name": "stdout",
     "output_type": "stream",
     "text": [
      "L-glutamate has [] as its children\n",
      "\n",
      "catalyses has ['L-glutamate', 'ATP', 'produce'] as its children\n",
      "\n",
      "ATP has ['and', 'L-cysteine'] as its children\n",
      "\n",
      "and has [] as its children\n",
      "\n",
      "L-cysteine has [] as its children\n",
      "\n",
      "to has [] as its children\n",
      "\n",
      "produce has ['to', 'ADP'] as its children\n",
      "\n",
      "ADP has ['and', 'phosphate', 'and', 'gamma-L-glutamyl-L-cysteine'] as its children\n",
      "\n",
      "and has [] as its children\n",
      "\n",
      "phosphate has [] as its children\n",
      "\n",
      "and has [] as its children\n",
      "\n",
      "gamma-L-glutamyl-L-cysteine has [] as its children\n",
      "\n"
     ]
    }
   ],
   "source": [
    "for token in doc:\n",
    "    print (token.text,\"has\", [t.text for t in token.children], \"as its children\")\n",
    "    print ()"
   ]
  },
  {
   "cell_type": "code",
   "execution_count": 41,
   "metadata": {},
   "outputs": [],
   "source": [
    "# Generate a list of nodes with arbitrarily assigned weight\n",
    "nodes_list = dict()\n",
    "for token in doc:\n",
    "    if token.pos_ == \"VERB\":\n",
    "        nodes_list[token.text] = (token.pos_, 3)\n",
    "    elif token.pos_ == \"NOUN\":\n",
    "        nodes_list[token.text] = (token.pos_, 3)\n",
    "    else:\n",
    "        nodes_list[token.text] = (token.pos_, 1)"
   ]
  },
  {
   "cell_type": "code",
   "execution_count": 42,
   "metadata": {},
   "outputs": [
    {
     "name": "stdout",
     "output_type": "stream",
     "text": [
      "{'L-glutamate': ('NOUN', 3), 'catalyses': ('VERB', 3), 'ATP': ('NOUN', 3), 'and': ('CCONJ', 1), 'L-cysteine': ('NOUN', 3), 'to': ('PART', 1), 'produce': ('VERB', 3), 'ADP': ('NOUN', 3), 'phosphate': ('NOUN', 3), 'gamma-L-glutamyl-L-cysteine': ('NOUN', 3)}\n",
      "10\n"
     ]
    }
   ],
   "source": [
    "print (nodes_list)\n",
    "print (len(set(nodes_list)))"
   ]
  },
  {
   "cell_type": "code",
   "execution_count": 24,
   "metadata": {},
   "outputs": [],
   "source": [
    "import string\n",
    "exclude = set(string.punctuation)"
   ]
  },
  {
   "cell_type": "code",
   "execution_count": 43,
   "metadata": {},
   "outputs": [],
   "source": [
    "# Building links among tokens\n",
    "head = list()\n",
    "tail = list()\n",
    "for i, token in enumerate(doc):\n",
    "    if token.text in exclude:\n",
    "        pass\n",
    "    else:\n",
    "        token.n_lefts>=1 or token.n_rights>=1\n",
    "        for t in token.children:\n",
    "            head.append(token.text)\n",
    "            tail.append(t.text)\n",
    "            head.append(t.text)\n",
    "            tail.append(token.text)"
   ]
  },
  {
   "cell_type": "code",
   "execution_count": 44,
   "metadata": {},
   "outputs": [
    {
     "name": "stdout",
     "output_type": "stream",
     "text": [
      "22 22\n"
     ]
    }
   ],
   "source": [
    "print (len(head), len(tail))"
   ]
  },
  {
   "cell_type": "code",
   "execution_count": 45,
   "metadata": {},
   "outputs": [
    {
     "data": {
      "text/html": [
       "<div>\n",
       "<style scoped>\n",
       "    .dataframe tbody tr th:only-of-type {\n",
       "        vertical-align: middle;\n",
       "    }\n",
       "\n",
       "    .dataframe tbody tr th {\n",
       "        vertical-align: top;\n",
       "    }\n",
       "\n",
       "    .dataframe thead th {\n",
       "        text-align: right;\n",
       "    }\n",
       "</style>\n",
       "<table border=\"1\" class=\"dataframe\">\n",
       "  <thead>\n",
       "    <tr style=\"text-align: right;\">\n",
       "      <th></th>\n",
       "      <th>head</th>\n",
       "      <th>tail</th>\n",
       "      <th>edge_wt</th>\n",
       "    </tr>\n",
       "  </thead>\n",
       "  <tbody>\n",
       "    <tr>\n",
       "      <th>0</th>\n",
       "      <td>catalyses</td>\n",
       "      <td>L-glutamate</td>\n",
       "      <td>1</td>\n",
       "    </tr>\n",
       "    <tr>\n",
       "      <th>1</th>\n",
       "      <td>L-glutamate</td>\n",
       "      <td>catalyses</td>\n",
       "      <td>1</td>\n",
       "    </tr>\n",
       "    <tr>\n",
       "      <th>2</th>\n",
       "      <td>catalyses</td>\n",
       "      <td>ATP</td>\n",
       "      <td>1</td>\n",
       "    </tr>\n",
       "    <tr>\n",
       "      <th>3</th>\n",
       "      <td>ATP</td>\n",
       "      <td>catalyses</td>\n",
       "      <td>1</td>\n",
       "    </tr>\n",
       "    <tr>\n",
       "      <th>4</th>\n",
       "      <td>catalyses</td>\n",
       "      <td>produce</td>\n",
       "      <td>1</td>\n",
       "    </tr>\n",
       "    <tr>\n",
       "      <th>5</th>\n",
       "      <td>produce</td>\n",
       "      <td>catalyses</td>\n",
       "      <td>1</td>\n",
       "    </tr>\n",
       "    <tr>\n",
       "      <th>6</th>\n",
       "      <td>ATP</td>\n",
       "      <td>and</td>\n",
       "      <td>1</td>\n",
       "    </tr>\n",
       "    <tr>\n",
       "      <th>7</th>\n",
       "      <td>and</td>\n",
       "      <td>ATP</td>\n",
       "      <td>1</td>\n",
       "    </tr>\n",
       "    <tr>\n",
       "      <th>8</th>\n",
       "      <td>ATP</td>\n",
       "      <td>L-cysteine</td>\n",
       "      <td>1</td>\n",
       "    </tr>\n",
       "    <tr>\n",
       "      <th>9</th>\n",
       "      <td>L-cysteine</td>\n",
       "      <td>ATP</td>\n",
       "      <td>1</td>\n",
       "    </tr>\n",
       "    <tr>\n",
       "      <th>10</th>\n",
       "      <td>produce</td>\n",
       "      <td>to</td>\n",
       "      <td>1</td>\n",
       "    </tr>\n",
       "    <tr>\n",
       "      <th>11</th>\n",
       "      <td>to</td>\n",
       "      <td>produce</td>\n",
       "      <td>1</td>\n",
       "    </tr>\n",
       "    <tr>\n",
       "      <th>12</th>\n",
       "      <td>produce</td>\n",
       "      <td>ADP</td>\n",
       "      <td>1</td>\n",
       "    </tr>\n",
       "    <tr>\n",
       "      <th>13</th>\n",
       "      <td>ADP</td>\n",
       "      <td>produce</td>\n",
       "      <td>1</td>\n",
       "    </tr>\n",
       "    <tr>\n",
       "      <th>14</th>\n",
       "      <td>ADP</td>\n",
       "      <td>and</td>\n",
       "      <td>1</td>\n",
       "    </tr>\n",
       "    <tr>\n",
       "      <th>15</th>\n",
       "      <td>and</td>\n",
       "      <td>ADP</td>\n",
       "      <td>1</td>\n",
       "    </tr>\n",
       "    <tr>\n",
       "      <th>16</th>\n",
       "      <td>ADP</td>\n",
       "      <td>phosphate</td>\n",
       "      <td>1</td>\n",
       "    </tr>\n",
       "    <tr>\n",
       "      <th>17</th>\n",
       "      <td>phosphate</td>\n",
       "      <td>ADP</td>\n",
       "      <td>1</td>\n",
       "    </tr>\n",
       "    <tr>\n",
       "      <th>18</th>\n",
       "      <td>ADP</td>\n",
       "      <td>and</td>\n",
       "      <td>1</td>\n",
       "    </tr>\n",
       "    <tr>\n",
       "      <th>19</th>\n",
       "      <td>and</td>\n",
       "      <td>ADP</td>\n",
       "      <td>1</td>\n",
       "    </tr>\n",
       "    <tr>\n",
       "      <th>20</th>\n",
       "      <td>ADP</td>\n",
       "      <td>gamma-L-glutamyl-L-cysteine</td>\n",
       "      <td>1</td>\n",
       "    </tr>\n",
       "    <tr>\n",
       "      <th>21</th>\n",
       "      <td>gamma-L-glutamyl-L-cysteine</td>\n",
       "      <td>ADP</td>\n",
       "      <td>1</td>\n",
       "    </tr>\n",
       "  </tbody>\n",
       "</table>\n",
       "</div>"
      ],
      "text/plain": [
       "                           head                         tail  edge_wt\n",
       "0                     catalyses                  L-glutamate        1\n",
       "1                   L-glutamate                    catalyses        1\n",
       "2                     catalyses                          ATP        1\n",
       "3                           ATP                    catalyses        1\n",
       "4                     catalyses                      produce        1\n",
       "5                       produce                    catalyses        1\n",
       "6                           ATP                          and        1\n",
       "7                           and                          ATP        1\n",
       "8                           ATP                   L-cysteine        1\n",
       "9                    L-cysteine                          ATP        1\n",
       "10                      produce                           to        1\n",
       "11                           to                      produce        1\n",
       "12                      produce                          ADP        1\n",
       "13                          ADP                      produce        1\n",
       "14                          ADP                          and        1\n",
       "15                          and                          ADP        1\n",
       "16                          ADP                    phosphate        1\n",
       "17                    phosphate                          ADP        1\n",
       "18                          ADP                          and        1\n",
       "19                          and                          ADP        1\n",
       "20                          ADP  gamma-L-glutamyl-L-cysteine        1\n",
       "21  gamma-L-glutamyl-L-cysteine                          ADP        1"
      ]
     },
     "execution_count": 45,
     "metadata": {},
     "output_type": "execute_result"
    }
   ],
   "source": [
    "import pandas as pd\n",
    "data = zip(head, tail)\n",
    "df = pd.DataFrame(data,columns=['head','tail'])\n",
    "df['edge_wt'] = 1\n",
    "pd.set_option(\"display.max_rows\", 200, \"display.max_columns\", 4)\n",
    "df"
   ]
  },
  {
   "cell_type": "code",
   "execution_count": 48,
   "metadata": {},
   "outputs": [
    {
     "name": "stdout",
     "output_type": "stream",
     "text": [
      "catalyses\n",
      "True\n",
      "\n",
      "L-glutamate\n",
      "True\n"
     ]
    }
   ],
   "source": [
    "print(df.loc[0,'head'])\n",
    "print(nodes_list[df.loc[0,'head']][0] == 'VERB')\n",
    "print()\n",
    "print(df.loc[0,'tail'])\n",
    "print(nodes_list[df.loc[0,'tail']][0] == 'NOUN')"
   ]
  },
  {
   "cell_type": "code",
   "execution_count": 49,
   "metadata": {},
   "outputs": [],
   "source": [
    "# Introducion of Edge Weight to highlight action between subject, verb and object\n",
    "for i in range(len(df)):\n",
    "    head_node = df.loc[i, 'head']\n",
    "    #print (head_node)\n",
    "    end_node = df.loc[i, 'tail']\n",
    "    #print (end_node)\n",
    "    if (nodes_list[head_node][0]=='VERB' and nodes_list[end_node][0]=='NOUN'):\n",
    "        df.loc[i,'edge_wt'] += 2\n",
    "    if (nodes_list[head_node][0]=='NOUN' and nodes_list[end_node][0]=='VERB'):\n",
    "        df.loc[i,'edge_wt'] += 2\n",
    "    if (nodes_list[head_node][0]=='NOUN' and nodes_list[end_node][0]=='NOUN'):\n",
    "        df.loc[i,'edge_wt'] += 2"
   ]
  },
  {
   "cell_type": "code",
   "execution_count": 50,
   "metadata": {},
   "outputs": [
    {
     "data": {
      "text/html": [
       "<div>\n",
       "<style scoped>\n",
       "    .dataframe tbody tr th:only-of-type {\n",
       "        vertical-align: middle;\n",
       "    }\n",
       "\n",
       "    .dataframe tbody tr th {\n",
       "        vertical-align: top;\n",
       "    }\n",
       "\n",
       "    .dataframe thead th {\n",
       "        text-align: right;\n",
       "    }\n",
       "</style>\n",
       "<table border=\"1\" class=\"dataframe\">\n",
       "  <thead>\n",
       "    <tr style=\"text-align: right;\">\n",
       "      <th></th>\n",
       "      <th>head</th>\n",
       "      <th>tail</th>\n",
       "      <th>edge_wt</th>\n",
       "    </tr>\n",
       "  </thead>\n",
       "  <tbody>\n",
       "    <tr>\n",
       "      <th>0</th>\n",
       "      <td>catalyses</td>\n",
       "      <td>L-glutamate</td>\n",
       "      <td>3</td>\n",
       "    </tr>\n",
       "    <tr>\n",
       "      <th>1</th>\n",
       "      <td>L-glutamate</td>\n",
       "      <td>catalyses</td>\n",
       "      <td>3</td>\n",
       "    </tr>\n",
       "    <tr>\n",
       "      <th>2</th>\n",
       "      <td>catalyses</td>\n",
       "      <td>ATP</td>\n",
       "      <td>3</td>\n",
       "    </tr>\n",
       "    <tr>\n",
       "      <th>3</th>\n",
       "      <td>ATP</td>\n",
       "      <td>catalyses</td>\n",
       "      <td>3</td>\n",
       "    </tr>\n",
       "    <tr>\n",
       "      <th>4</th>\n",
       "      <td>catalyses</td>\n",
       "      <td>produce</td>\n",
       "      <td>1</td>\n",
       "    </tr>\n",
       "  </tbody>\n",
       "</table>\n",
       "</div>"
      ],
      "text/plain": [
       "          head         tail  edge_wt\n",
       "0    catalyses  L-glutamate        3\n",
       "1  L-glutamate    catalyses        3\n",
       "2    catalyses          ATP        3\n",
       "3          ATP    catalyses        3\n",
       "4    catalyses      produce        1"
      ]
     },
     "execution_count": 50,
     "metadata": {},
     "output_type": "execute_result"
    }
   ],
   "source": [
    "df.head()"
   ]
  },
  {
   "cell_type": "code",
   "execution_count": 51,
   "metadata": {},
   "outputs": [],
   "source": [
    "tuples = list()\n",
    "for i in range(len(df)):\n",
    "    tuples.append((df.loc[i, 'head'], df.loc[i, 'tail'], df.loc[i, 'edge_wt']))"
   ]
  },
  {
   "cell_type": "code",
   "execution_count": 52,
   "metadata": {},
   "outputs": [
    {
     "name": "stdout",
     "output_type": "stream",
     "text": [
      "[('catalyses', 'L-glutamate', 3), ('L-glutamate', 'catalyses', 3), ('catalyses', 'ATP', 3), ('ATP', 'catalyses', 3), ('catalyses', 'produce', 1), ('produce', 'catalyses', 1), ('ATP', 'and', 1), ('and', 'ATP', 1), ('ATP', 'L-cysteine', 3), ('L-cysteine', 'ATP', 3), ('produce', 'to', 1), ('to', 'produce', 1), ('produce', 'ADP', 3), ('ADP', 'produce', 3), ('ADP', 'and', 1), ('and', 'ADP', 1), ('ADP', 'phosphate', 3), ('phosphate', 'ADP', 3), ('ADP', 'and', 1), ('and', 'ADP', 1), ('ADP', 'gamma-L-glutamyl-L-cysteine', 3), ('gamma-L-glutamyl-L-cysteine', 'ADP', 3)] 22\n"
     ]
    }
   ],
   "source": [
    "print (tuples, len(tuples))"
   ]
  },
  {
   "cell_type": "code",
   "execution_count": 53,
   "metadata": {},
   "outputs": [
    {
     "name": "stdout",
     "output_type": "stream",
     "text": [
      "20\n"
     ]
    }
   ],
   "source": [
    "print (len(set(tuples)))"
   ]
  },
  {
   "cell_type": "code",
   "execution_count": 54,
   "metadata": {},
   "outputs": [],
   "source": [
    "connection = list(set(tuples))"
   ]
  },
  {
   "cell_type": "code",
   "execution_count": 55,
   "metadata": {},
   "outputs": [
    {
     "name": "stdout",
     "output_type": "stream",
     "text": [
      "[('catalyses', 'ATP', 3), ('and', 'ATP', 1), ('ATP', 'L-cysteine', 3), ('ADP', 'produce', 3), ('produce', 'ADP', 3), ('ADP', 'phosphate', 3), ('phosphate', 'ADP', 3), ('catalyses', 'produce', 1), ('ATP', 'catalyses', 3), ('produce', 'catalyses', 1), ('ATP', 'and', 1), ('produce', 'to', 1), ('L-cysteine', 'ATP', 3), ('to', 'produce', 1), ('ADP', 'gamma-L-glutamyl-L-cysteine', 3), ('gamma-L-glutamyl-L-cysteine', 'ADP', 3), ('L-glutamate', 'catalyses', 3), ('ADP', 'and', 1), ('and', 'ADP', 1), ('catalyses', 'L-glutamate', 3)]\n"
     ]
    }
   ],
   "source": [
    "print (connection)"
   ]
  },
  {
   "cell_type": "code",
   "execution_count": 56,
   "metadata": {},
   "outputs": [],
   "source": [
    "import networkx as nx"
   ]
  },
  {
   "cell_type": "code",
   "execution_count": 57,
   "metadata": {},
   "outputs": [],
   "source": [
    "G = nx.DiGraph()"
   ]
  },
  {
   "cell_type": "code",
   "execution_count": 58,
   "metadata": {},
   "outputs": [],
   "source": [
    "# Adding weighted nodes to the graph\n",
    "for node, values in nodes_list.items():\n",
    "    G.add_node(node, weight=values[1])"
   ]
  },
  {
   "cell_type": "code",
   "execution_count": 59,
   "metadata": {},
   "outputs": [
    {
     "data": {
      "text/plain": [
       "NodeView(('L-glutamate', 'catalyses', 'ATP', 'and', 'L-cysteine', 'to', 'produce', 'ADP', 'phosphate', 'gamma-L-glutamyl-L-cysteine'))"
      ]
     },
     "execution_count": 59,
     "metadata": {},
     "output_type": "execute_result"
    }
   ],
   "source": [
    "G.nodes"
   ]
  },
  {
   "cell_type": "code",
   "execution_count": 60,
   "metadata": {},
   "outputs": [],
   "source": [
    "# Adding weighted edge to the graph\n",
    "for edge in connection:\n",
    "    G.add_edge(edge[0], edge[1], weight=edge[2])"
   ]
  },
  {
   "cell_type": "code",
   "execution_count": 61,
   "metadata": {},
   "outputs": [
    {
     "data": {
      "text/plain": [
       "OutEdgeView([('L-glutamate', 'catalyses'), ('catalyses', 'ATP'), ('catalyses', 'produce'), ('catalyses', 'L-glutamate'), ('ATP', 'L-cysteine'), ('ATP', 'catalyses'), ('ATP', 'and'), ('and', 'ATP'), ('and', 'ADP'), ('L-cysteine', 'ATP'), ('to', 'produce'), ('produce', 'ADP'), ('produce', 'catalyses'), ('produce', 'to'), ('ADP', 'produce'), ('ADP', 'phosphate'), ('ADP', 'gamma-L-glutamyl-L-cysteine'), ('ADP', 'and'), ('phosphate', 'ADP'), ('gamma-L-glutamyl-L-cysteine', 'ADP')])"
      ]
     },
     "execution_count": 61,
     "metadata": {},
     "output_type": "execute_result"
    }
   ],
   "source": [
    "G.edges"
   ]
  },
  {
   "cell_type": "code",
   "execution_count": 153,
   "metadata": {},
   "outputs": [
    {
     "name": "stdout",
     "output_type": "stream",
     "text": [
      "{'weight': 3}\n",
      "{'weight': 3}\n",
      "{'weight': 3}\n"
     ]
    }
   ],
   "source": [
    "# Testing\n",
    "print(G.nodes['L-glutamate'])\n",
    "print(G['L-glutamate']['catalyses'])\n",
    "print(G['L-cysteine']['ATP'])"
   ]
  },
  {
   "cell_type": "code",
   "execution_count": 63,
   "metadata": {},
   "outputs": [
    {
     "name": "stdout",
     "output_type": "stream",
     "text": [
      "{'ATP': {'weight': 3}, 'produce': {'weight': 1}, 'L-glutamate': {'weight': 3}}\n"
     ]
    }
   ],
   "source": [
    "print (G['catalyses'])"
   ]
  },
  {
   "cell_type": "code",
   "execution_count": 87,
   "metadata": {},
   "outputs": [
    {
     "data": {
      "image/png": "[encoded data removed]",
      "text/plain": [
       "<Figure size 1080x720 with 1 Axes>"
      ]
     },
     "metadata": {},
     "output_type": "display_data"
    }
   ],
   "source": [
    "import matplotlib.pyplot as plt\n",
    "plt.figure(figsize=(15,10))\n",
    "pos = nx.spring_layout(G)\n",
    "nx.draw_networkx(G,pos,arrows=False,node_size=100,node_color='yellow',font_size=12)\n",
    "plt.show()"
   ]
  },
  {
   "cell_type": "markdown",
   "metadata": {},
   "source": [
    "## Add new links aroud \"VERB\" to construct clique"
   ]
  },
  {
   "cell_type": "code",
   "execution_count": 155,
   "metadata": {},
   "outputs": [],
   "source": [
    "G.add_edge('catalyses','L-cysteine',weight=3)\n",
    "G.add_edge('L-cysteine','catalyses',weight=3)\n",
    "G.add_edge('produce','phosphate',weight=3)\n",
    "G.add_edge('produce','gamma-L-glutamyl-L-cysteine',weight=3)\n",
    "G.add_edge('phosphate','gamma-L-glutamyl-L-cysteine',weight=3)"
   ]
  },
  {
   "cell_type": "code",
   "execution_count": 156,
   "metadata": {},
   "outputs": [
    {
     "data": {
      "image/png": "[encoded data removed]",
      "text/plain": [
       "<Figure size 1080x720 with 1 Axes>"
      ]
     },
     "metadata": {},
     "output_type": "display_data"
    }
   ],
   "source": [
    "plt.figure(figsize=(15,10))\n",
    "pos = nx.spring_layout(G)\n",
    "nx.draw_networkx(G,pos,arrows=False,node_size=100,node_color='yellow',font_size=12)\n",
    "plt.show()"
   ]
  },
  {
   "cell_type": "code",
   "execution_count": 157,
   "metadata": {},
   "outputs": [],
   "source": [
    "nx.write_gpickle(G, \"sample_enzyme_new.gpickle\")"
   ]
  },
  {
   "cell_type": "markdown",
   "metadata": {},
   "source": [
    "## Generate Random Walk from Sentence Graph "
   ]
  },
  {
   "cell_type": "code",
   "execution_count": 158,
   "metadata": {},
   "outputs": [],
   "source": [
    "G = nx.read_gpickle(\"sample_enzyme_new.gpickle\")"
   ]
  },
  {
   "cell_type": "code",
   "execution_count": 159,
   "metadata": {},
   "outputs": [],
   "source": [
    "l = [n for n in G.neighbors('catalyses')]"
   ]
  },
  {
   "cell_type": "code",
   "execution_count": 160,
   "metadata": {},
   "outputs": [
    {
     "data": {
      "text/plain": [
       "int"
      ]
     },
     "execution_count": 160,
     "metadata": {},
     "output_type": "execute_result"
    }
   ],
   "source": [
    "type(len(l))"
   ]
  },
  {
   "cell_type": "code",
   "execution_count": 161,
   "metadata": {},
   "outputs": [
    {
     "name": "stdout",
     "output_type": "stream",
     "text": [
      "['ATP', 'produce', 'L-glutamate', 'L-cysteine']\n"
     ]
    }
   ],
   "source": [
    "print (l)"
   ]
  },
  {
   "cell_type": "code",
   "execution_count": 162,
   "metadata": {},
   "outputs": [],
   "source": [
    "node_weights = nx.get_node_attributes(G, \"weight\")"
   ]
  },
  {
   "cell_type": "code",
   "execution_count": 163,
   "metadata": {},
   "outputs": [
    {
     "name": "stdout",
     "output_type": "stream",
     "text": [
      "{'L-glutamate': 3, 'catalyses': 3, 'ATP': 3, 'and': 1, 'L-cysteine': 3, 'to': 1, 'produce': 3, 'ADP': 3, 'phosphate': 3, 'gamma-L-glutamyl-L-cysteine': 3}\n"
     ]
    }
   ],
   "source": [
    "print (node_weights)"
   ]
  },
  {
   "cell_type": "code",
   "execution_count": 164,
   "metadata": {},
   "outputs": [],
   "source": [
    "edge_weights = nx.get_edge_attributes(G, 'weight')"
   ]
  },
  {
   "cell_type": "code",
   "execution_count": 165,
   "metadata": {},
   "outputs": [
    {
     "name": "stdout",
     "output_type": "stream",
     "text": [
      "{('L-glutamate', 'catalyses'): 3, ('catalyses', 'ATP'): 3, ('catalyses', 'produce'): 1, ('catalyses', 'L-glutamate'): 3, ('catalyses', 'L-cysteine'): 3, ('ATP', 'L-cysteine'): 3, ('ATP', 'catalyses'): 3, ('ATP', 'and'): 1, ('and', 'ATP'): 1, ('and', 'ADP'): 1, ('L-cysteine', 'ATP'): 3, ('L-cysteine', 'catalyses'): 3, ('to', 'produce'): 1, ('produce', 'ADP'): 3, ('produce', 'catalyses'): 1, ('produce', 'to'): 1, ('produce', 'phosphate'): 3, ('produce', 'gamma-L-glutamyl-L-cysteine'): 3, ('ADP', 'produce'): 3, ('ADP', 'phosphate'): 3, ('ADP', 'gamma-L-glutamyl-L-cysteine'): 3, ('ADP', 'and'): 1, ('phosphate', 'ADP'): 3, ('phosphate', 'gamma-L-glutamyl-L-cysteine'): 3, ('gamma-L-glutamyl-L-cysteine', 'ADP'): 3}\n"
     ]
    }
   ],
   "source": [
    "print (edge_weights)"
   ]
  },
  {
   "cell_type": "code",
   "execution_count": 166,
   "metadata": {},
   "outputs": [
    {
     "data": {
      "text/plain": [
       "3"
      ]
     },
     "execution_count": 166,
     "metadata": {},
     "output_type": "execute_result"
    }
   ],
   "source": [
    "edge_weights[('ATP', 'L-cysteine')]"
   ]
  },
  {
   "cell_type": "code",
   "execution_count": 167,
   "metadata": {},
   "outputs": [
    {
     "data": {
      "text/plain": [
       "True"
      ]
     },
     "execution_count": 167,
     "metadata": {},
     "output_type": "execute_result"
    }
   ],
   "source": [
    "('ATP','L-cysteine') in edge_weights.keys()"
   ]
  },
  {
   "cell_type": "code",
   "execution_count": 168,
   "metadata": {},
   "outputs": [
    {
     "data": {
      "text/plain": [
       "True"
      ]
     },
     "execution_count": 168,
     "metadata": {},
     "output_type": "execute_result"
    }
   ],
   "source": [
    "('L-cysteine','ATP') in edge_weights.keys()"
   ]
  },
  {
   "cell_type": "code",
   "execution_count": 169,
   "metadata": {},
   "outputs": [
    {
     "name": "stdout",
     "output_type": "stream",
     "text": [
      "[1 4 9]\n"
     ]
    }
   ],
   "source": [
    "# Testing one of the setups\n",
    "import numpy as np\n",
    "a = np.array([1,2,3])\n",
    "b = np.array([1,2,3])\n",
    "print (np.multiply(a,b))"
   ]
  },
  {
   "cell_type": "code",
   "execution_count": 170,
   "metadata": {},
   "outputs": [],
   "source": [
    "# Helper functions\n",
    "import numpy as np\n",
    "def retrieve_edge_wgt(v1, v2, weight):\n",
    "    \"\"\" to handle the directionality of node pair \"\"\"\n",
    "    if (v1, v2) in weight.keys():\n",
    "        return weight[(v1, v2)]\n",
    "    else:\n",
    "        return weight[(v2, v1)]\n",
    "\n",
    "def get_Weighted_Neighbours(G, node):\n",
    "    \"\"\" \n",
    "    Generate a list of neighbours of \n",
    "    a node with corresponding probability \n",
    "    \"\"\"\n",
    "    node_weights = nx.get_node_attributes(G, \"weight\")\n",
    "    \n",
    "    \n",
    "    # Prepare neighbour list and obtain weight of each attribute for nodes and edges\n",
    "    edge_wgts = nx.get_edge_attributes(G, \"weight\")\n",
    "    node_neighbours = [adj_node for adj_node, datadict in G[node].items()]\n",
    "    self_node_wgt = np.array(len(node_neighbours))*node_weights[node]\n",
    "    # print (self_node_wgt)\n",
    "    neighbour_wgts = [datadict['weight'] for adj_node, datadict in G[node].items()]\n",
    "    neighbour_pair_wgts = list()\n",
    "    for neigbhour in node_neighbours:\n",
    "        neighbour_pair_wgts.append(edge_wgts[(node, neigbhour)])\n",
    "    \n",
    "    # Calculate the transition probability from start node to respective neighbour\n",
    "    elementwise_wgts = np.multiply(self_node_wgt, np.array(neighbour_wgts), np.array(neighbour_pair_wgts))\n",
    "    total_weight = sum(elementwise_wgts)\n",
    "    neighbour_prob = [weight/total_weight for weight in elementwise_wgts]\n",
    "    \n",
    "    return node_neighbours, neighbour_prob"
   ]
  },
  {
   "cell_type": "code",
   "execution_count": 171,
   "metadata": {},
   "outputs": [],
   "source": [
    "neighbour_list, neighbour_prob = get_Weighted_Neighbours(G, 'L-glutamate')"
   ]
  },
  {
   "cell_type": "code",
   "execution_count": 172,
   "metadata": {},
   "outputs": [
    {
     "name": "stdout",
     "output_type": "stream",
     "text": [
      "['catalyses']\n",
      "[1.0]\n"
     ]
    }
   ],
   "source": [
    "print (neighbour_list)\n",
    "print (neighbour_prob)"
   ]
  },
  {
   "cell_type": "code",
   "execution_count": 173,
   "metadata": {},
   "outputs": [],
   "source": [
    "# Obtain next node\n",
    "import random\n",
    "\n",
    "def get_nextNode(G, start_node):\n",
    "    \"\"\" \n",
    "    obtain next node of a given start_node\n",
    "    \"\"\"\n",
    "    neighbour_list, neighbour_prob = get_Weighted_Neighbours(G, start_node)\n",
    "    next_node = random.choices(neighbour_list, neighbour_prob)\n",
    "    return next_node"
   ]
  },
  {
   "cell_type": "code",
   "execution_count": 174,
   "metadata": {},
   "outputs": [],
   "source": [
    "next_node = get_nextNode(G, 'catalyses')"
   ]
  },
  {
   "cell_type": "code",
   "execution_count": 175,
   "metadata": {},
   "outputs": [
    {
     "name": "stdout",
     "output_type": "stream",
     "text": [
      "['ATP']\n"
     ]
    }
   ],
   "source": [
    "print (next_node)"
   ]
  },
  {
   "cell_type": "code",
   "execution_count": 176,
   "metadata": {},
   "outputs": [],
   "source": [
    "def get_random_walk(graph, start_node, n_steps:10):\n",
    "    \"\"\" \n",
    "    Given a graph and a node, \n",
    "    return a random walk starting from the node \n",
    "    \"\"\"\n",
    "    local_path = [start_node]\n",
    "    node = start_node\n",
    "    for i in range(n_steps):\n",
    "        next_node = get_nextNode(G, node)\n",
    "        local_path.append(next_node[0])\n",
    "        node = next_node[0]\n",
    "    return local_path"
   ]
  },
  {
   "cell_type": "code",
   "execution_count": 177,
   "metadata": {},
   "outputs": [],
   "source": [
    "# Testing\n",
    "path = get_random_walk(graph=G, start_node='L-glutamate', n_steps=10)"
   ]
  },
  {
   "cell_type": "code",
   "execution_count": 178,
   "metadata": {},
   "outputs": [
    {
     "name": "stdout",
     "output_type": "stream",
     "text": [
      "['L-glutamate', 'catalyses', 'ATP', 'catalyses', 'ATP', 'L-cysteine', 'catalyses', 'L-cysteine', 'ATP', 'and', 'ADP']\n"
     ]
    }
   ],
   "source": [
    "print (path)"
   ]
  },
  {
   "cell_type": "code",
   "execution_count": 179,
   "metadata": {},
   "outputs": [
    {
     "name": "stdout",
     "output_type": "stream",
     "text": [
      "[NodeView(('L-glutamate', 'catalyses', 'ATP', 'and', 'L-cysteine', 'to', 'produce', 'ADP', 'phosphate', 'gamma-L-glutamyl-L-cysteine'))]\n"
     ]
    }
   ],
   "source": [
    "# Construct a list collecting these random walks\n",
    "nodes = [G.nodes]\n",
    "print (nodes)"
   ]
  },
  {
   "cell_type": "code",
   "execution_count": 180,
   "metadata": {},
   "outputs": [
    {
     "name": "stderr",
     "output_type": "stream",
     "text": [
      "100%|██████████| 10/10 [01:13<00:00,  7.38s/it]\n"
     ]
    }
   ],
   "source": [
    "path_collection = list()\n",
    "for node in tqdm(G.nodes):\n",
    "    for i in range(1000):\n",
    "        path = get_random_walk(graph=G, start_node=node, n_steps=200)\n",
    "        path_collection.append(path)"
   ]
  },
  {
   "cell_type": "code",
   "execution_count": 181,
   "metadata": {},
   "outputs": [
    {
     "name": "stdout",
     "output_type": "stream",
     "text": [
      "['L-glutamate', 'catalyses', 'L-cysteine', 'ATP', 'catalyses', 'ATP', 'catalyses', 'ATP', 'L-cysteine', 'catalyses', 'produce', 'ADP', 'gamma-L-glutamyl-L-cysteine', 'ADP', 'produce', 'ADP', 'phosphate', 'gamma-L-glutamyl-L-cysteine', 'ADP', 'phosphate', 'ADP', 'produce', 'to', 'produce', 'phosphate', 'gamma-L-glutamyl-L-cysteine', 'ADP', 'phosphate', 'gamma-L-glutamyl-L-cysteine', 'ADP', 'produce', 'phosphate', 'gamma-L-glutamyl-L-cysteine', 'ADP', 'produce', 'phosphate', 'ADP', 'phosphate', 'gamma-L-glutamyl-L-cysteine', 'ADP', 'phosphate', 'ADP', 'produce', 'ADP', 'gamma-L-glutamyl-L-cysteine', 'ADP', 'gamma-L-glutamyl-L-cysteine', 'ADP', 'gamma-L-glutamyl-L-cysteine', 'ADP', 'gamma-L-glutamyl-L-cysteine', 'ADP', 'produce', 'gamma-L-glutamyl-L-cysteine', 'ADP', 'produce', 'phosphate', 'ADP', 'gamma-L-glutamyl-L-cysteine', 'ADP', 'produce', 'ADP', 'produce', 'gamma-L-glutamyl-L-cysteine', 'ADP', 'produce', 'ADP', 'produce', 'gamma-L-glutamyl-L-cysteine', 'ADP', 'phosphate', 'gamma-L-glutamyl-L-cysteine', 'ADP', 'and', 'ADP', 'gamma-L-glutamyl-L-cysteine', 'ADP', 'phosphate', 'gamma-L-glutamyl-L-cysteine', 'ADP', 'phosphate', 'ADP', 'phosphate', 'ADP', 'phosphate', 'ADP', 'gamma-L-glutamyl-L-cysteine', 'ADP', 'produce', 'catalyses', 'produce', 'catalyses', 'ATP', 'L-cysteine', 'ATP', 'catalyses', 'ATP', 'catalyses', 'produce', 'gamma-L-glutamyl-L-cysteine', 'ADP', 'phosphate', 'gamma-L-glutamyl-L-cysteine', 'ADP', 'produce', 'gamma-L-glutamyl-L-cysteine', 'ADP', 'produce', 'gamma-L-glutamyl-L-cysteine', 'ADP', 'and', 'ATP', 'L-cysteine', 'ATP', 'and', 'ATP', 'L-cysteine', 'catalyses', 'ATP', 'catalyses', 'L-glutamate', 'catalyses', 'L-glutamate', 'catalyses', 'L-glutamate', 'catalyses', 'L-cysteine', 'ATP', 'L-cysteine', 'catalyses', 'ATP', 'L-cysteine', 'ATP', 'catalyses', 'L-cysteine', 'ATP', 'catalyses', 'L-cysteine', 'ATP', 'catalyses', 'produce', 'gamma-L-glutamyl-L-cysteine', 'ADP', 'gamma-L-glutamyl-L-cysteine', 'ADP', 'produce', 'phosphate', 'ADP', 'produce', 'ADP', 'gamma-L-glutamyl-L-cysteine', 'ADP', 'produce', 'gamma-L-glutamyl-L-cysteine', 'ADP', 'produce', 'phosphate', 'gamma-L-glutamyl-L-cysteine', 'ADP', 'produce', 'ADP', 'gamma-L-glutamyl-L-cysteine', 'ADP', 'produce', 'to', 'produce', 'catalyses', 'L-cysteine', 'catalyses', 'L-glutamate', 'catalyses', 'L-glutamate', 'catalyses', 'ATP', 'and', 'ATP', 'L-cysteine', 'ATP', 'L-cysteine', 'catalyses', 'ATP', 'L-cysteine', 'ATP', 'L-cysteine', 'ATP', 'L-cysteine', 'ATP', 'L-cysteine', 'catalyses', 'produce', 'catalyses', 'L-glutamate', 'catalyses', 'ATP', 'and', 'ADP', 'phosphate', 'gamma-L-glutamyl-L-cysteine', 'ADP', 'phosphate', 'ADP']\n"
     ]
    }
   ],
   "source": [
    "print (path_collection[0])"
   ]
  },
  {
   "cell_type": "code",
   "execution_count": 182,
   "metadata": {},
   "outputs": [
    {
     "data": {
      "text/plain": [
       "10000"
      ]
     },
     "execution_count": 182,
     "metadata": {},
     "output_type": "execute_result"
    }
   ],
   "source": [
    "len(path_collection)"
   ]
  },
  {
   "cell_type": "code",
   "execution_count": 183,
   "metadata": {},
   "outputs": [],
   "source": [
    "df = pd.DataFrame(index=range(len(path_collection)), columns=['path'])"
   ]
  },
  {
   "cell_type": "code",
   "execution_count": 184,
   "metadata": {},
   "outputs": [],
   "source": [
    "for i in range(len(path_collection)):\n",
    "    df.loc[i, 'path'] = path_collection[i]"
   ]
  },
  {
   "cell_type": "code",
   "execution_count": 185,
   "metadata": {},
   "outputs": [
    {
     "data": {
      "text/html": [
       "<div>\n",
       "<style scoped>\n",
       "    .dataframe tbody tr th:only-of-type {\n",
       "        vertical-align: middle;\n",
       "    }\n",
       "\n",
       "    .dataframe tbody tr th {\n",
       "        vertical-align: top;\n",
       "    }\n",
       "\n",
       "    .dataframe thead th {\n",
       "        text-align: right;\n",
       "    }\n",
       "</style>\n",
       "<table border=\"1\" class=\"dataframe\">\n",
       "  <thead>\n",
       "    <tr style=\"text-align: right;\">\n",
       "      <th></th>\n",
       "      <th>path</th>\n",
       "    </tr>\n",
       "  </thead>\n",
       "  <tbody>\n",
       "    <tr>\n",
       "      <th>0</th>\n",
       "      <td>[L-glutamate, catalyses, L-cysteine, ATP, cata...</td>\n",
       "    </tr>\n",
       "    <tr>\n",
       "      <th>1</th>\n",
       "      <td>[L-glutamate, catalyses, L-glutamate, catalyse...</td>\n",
       "    </tr>\n",
       "    <tr>\n",
       "      <th>2</th>\n",
       "      <td>[L-glutamate, catalyses, L-glutamate, catalyse...</td>\n",
       "    </tr>\n",
       "    <tr>\n",
       "      <th>3</th>\n",
       "      <td>[L-glutamate, catalyses, ATP, catalyses, produ...</td>\n",
       "    </tr>\n",
       "    <tr>\n",
       "      <th>4</th>\n",
       "      <td>[L-glutamate, catalyses, L-glutamate, catalyse...</td>\n",
       "    </tr>\n",
       "  </tbody>\n",
       "</table>\n",
       "</div>"
      ],
      "text/plain": [
       "                                                path\n",
       "0  [L-glutamate, catalyses, L-cysteine, ATP, cata...\n",
       "1  [L-glutamate, catalyses, L-glutamate, catalyse...\n",
       "2  [L-glutamate, catalyses, L-glutamate, catalyse...\n",
       "3  [L-glutamate, catalyses, ATP, catalyses, produ...\n",
       "4  [L-glutamate, catalyses, L-glutamate, catalyse..."
      ]
     },
     "execution_count": 185,
     "metadata": {},
     "output_type": "execute_result"
    }
   ],
   "source": [
    "df.head()"
   ]
  },
  {
   "cell_type": "code",
   "execution_count": 186,
   "metadata": {},
   "outputs": [
    {
     "name": "stdout",
     "output_type": "stream",
     "text": [
      "<class 'pandas.core.frame.DataFrame'>\n",
      "RangeIndex: 10000 entries, 0 to 9999\n",
      "Data columns (total 1 columns):\n",
      " #   Column  Non-Null Count  Dtype \n",
      "---  ------  --------------  ----- \n",
      " 0   path    10000 non-null  object\n",
      "dtypes: object(1)\n",
      "memory usage: 78.2+ KB\n"
     ]
    }
   ],
   "source": [
    "df.info()"
   ]
  },
  {
   "cell_type": "code",
   "execution_count": 187,
   "metadata": {},
   "outputs": [],
   "source": [
    "df.to_csv(PATH+\"RandomWalk_new.csv\",index=False)"
   ]
  },
  {
   "cell_type": "code",
   "execution_count": null,
   "metadata": {},
   "outputs": [],
   "source": []
  }
 ],
 "metadata": {
  "kernelspec": {
   "display_name": "Python 3",
   "language": "python",
   "name": "python3"
  },
  "language_info": {
   "codemirror_mode": {
    "name": "ipython",
    "version": 3
   },
   "file_extension": ".py",
   "mimetype": "text/x-python",
   "name": "python",
   "nbconvert_exporter": "python",
   "pygments_lexer": "ipython3",
   "version": "3.8.5"
  }
 },
 "nbformat": 4,
 "nbformat_minor": 4
}

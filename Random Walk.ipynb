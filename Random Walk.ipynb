{
 "cells": [
  {
   "cell_type": "markdown",
   "metadata": {},
   "source": [
    "# Random Walk Generation"
   ]
  },
  {
   "cell_type": "raw",
   "metadata": {},
   "source": [
    "The notebook demonstrates how to learn node embeddings of graph-converted sentences extracted from PubMed. The learned embeddings will be used to genetrate hypothesis between different biochemical entities and the action between them.\n",
    "\n",
    "Below is a demonstration with a simple sentence that involves enzyme catalysis."
   ]
  },
  {
   "cell_type": "markdown",
   "metadata": {},
   "source": [
    "## Generate Graph from Sentence "
   ]
  },
  {
   "cell_type": "code",
   "execution_count": 1,
   "metadata": {},
   "outputs": [],
   "source": [
    "import networkx as nx\n",
    "import pandas as pd\n",
    "from tqdm import tqdm"
   ]
  },
  {
   "cell_type": "code",
   "execution_count": 2,
   "metadata": {},
   "outputs": [],
   "source": [
    "import warnings\n",
    "warnings.filterwarnings(\"ignore\")\n",
    "import spacy\n",
    "import scispacy"
   ]
  },
  {
   "cell_type": "code",
   "execution_count": 3,
   "metadata": {},
   "outputs": [],
   "source": [
    "nlp = spacy.load(\"en_core_sci_lg\")"
   ]
  },
  {
   "cell_type": "code",
   "execution_count": 4,
   "metadata": {},
   "outputs": [],
   "source": [
    "PATH = \"/Users/apple/Google Drive/_My Data Analytics Exercise/Exercise/Cytoscape/KEGG enzymes/\""
   ]
  },
  {
   "cell_type": "code",
   "execution_count": 5,
   "metadata": {},
   "outputs": [],
   "source": [
    "df = pd.read_csv(PATH+\"enzyme_sentence.csv\")"
   ]
  },
  {
   "cell_type": "code",
   "execution_count": 6,
   "metadata": {},
   "outputs": [
    {
     "data": {
      "text/html": [
       "<div>\n",
       "<style scoped>\n",
       "    .dataframe tbody tr th:only-of-type {\n",
       "        vertical-align: middle;\n",
       "    }\n",
       "\n",
       "    .dataframe tbody tr th {\n",
       "        vertical-align: top;\n",
       "    }\n",
       "\n",
       "    .dataframe thead th {\n",
       "        text-align: right;\n",
       "    }\n",
       "</style>\n",
       "<table border=\"1\" class=\"dataframe\">\n",
       "  <thead>\n",
       "    <tr style=\"text-align: right;\">\n",
       "      <th></th>\n",
       "      <th>enzyme</th>\n",
       "      <th>sentence</th>\n",
       "    </tr>\n",
       "  </thead>\n",
       "  <tbody>\n",
       "    <tr>\n",
       "      <th>0</th>\n",
       "      <td>L-glutamate</td>\n",
       "      <td>L-glutamate catalyses ATP and L-cysteine to pr...</td>\n",
       "    </tr>\n",
       "    <tr>\n",
       "      <th>1</th>\n",
       "      <td>L-serine</td>\n",
       "      <td>L-serine catalyses ATP and L-glutamate and L-c...</td>\n",
       "    </tr>\n",
       "    <tr>\n",
       "      <th>2</th>\n",
       "      <td>alpha-D-glucose 1,6-phosphomutase</td>\n",
       "      <td>alpha-D-glucose 1,6-phosphomutase catalyses AT...</td>\n",
       "    </tr>\n",
       "    <tr>\n",
       "      <th>3</th>\n",
       "      <td>acetoacetate</td>\n",
       "      <td>acetoacetate catalyses ATP and L-glutamate and...</td>\n",
       "    </tr>\n",
       "    <tr>\n",
       "      <th>4</th>\n",
       "      <td>L-proline</td>\n",
       "      <td>L-proline catalyses ATP and L-glutamate and L-...</td>\n",
       "    </tr>\n",
       "  </tbody>\n",
       "</table>\n",
       "</div>"
      ],
      "text/plain": [
       "                              enzyme  \\\n",
       "0                        L-glutamate   \n",
       "1                           L-serine   \n",
       "2  alpha-D-glucose 1,6-phosphomutase   \n",
       "3                       acetoacetate   \n",
       "4                          L-proline   \n",
       "\n",
       "                                            sentence  \n",
       "0  L-glutamate catalyses ATP and L-cysteine to pr...  \n",
       "1  L-serine catalyses ATP and L-glutamate and L-c...  \n",
       "2  alpha-D-glucose 1,6-phosphomutase catalyses AT...  \n",
       "3  acetoacetate catalyses ATP and L-glutamate and...  \n",
       "4  L-proline catalyses ATP and L-glutamate and L-...  "
      ]
     },
     "execution_count": 6,
     "metadata": {},
     "output_type": "execute_result"
    }
   ],
   "source": [
    "df.head()"
   ]
  },
  {
   "cell_type": "code",
   "execution_count": 7,
   "metadata": {},
   "outputs": [
    {
     "name": "stdout",
     "output_type": "stream",
     "text": [
      "L-glutamate catalyses ATP and L-cysteine to produce ADP and phosphate and gamma-L-glutamyl-L-cysteine\n"
     ]
    }
   ],
   "source": [
    "sent = df['sentence'][0]\n",
    "enzyme = df['enzyme'][0]\n",
    "print (sent)"
   ]
  },
  {
   "cell_type": "code",
   "execution_count": 8,
   "metadata": {},
   "outputs": [],
   "source": [
    "doc = nlp(sent)"
   ]
  },
  {
   "cell_type": "code",
   "execution_count": 9,
   "metadata": {},
   "outputs": [
    {
     "name": "stdout",
     "output_type": "stream",
     "text": [
      "L-glutamate NOUN\n",
      "catalyses VERB\n",
      "ATP NOUN\n",
      "and CCONJ\n",
      "L-cysteine NOUN\n",
      "to PART\n",
      "produce VERB\n",
      "ADP NOUN\n",
      "and CCONJ\n",
      "phosphate NOUN\n",
      "and CCONJ\n",
      "gamma-L-glutamyl-L-cysteine NOUN\n",
      "\n",
      "Number of tokens: 12\n"
     ]
    }
   ],
   "source": [
    "for token in doc:\n",
    "    print (token.text, token.pos_)\n",
    "print ()\n",
    "print (\"Number of tokens: %i\" %len(doc))"
   ]
  },
  {
   "cell_type": "code",
   "execution_count": 10,
   "metadata": {},
   "outputs": [
    {
     "data": {
      "text/html": [
       "<span class=\"tex2jax_ignore\"><!DOCTYPE html>\n",
       "<html lang=\"en\">\n",
       "    <head>\n",
       "        <title>displaCy</title>\n",
       "    </head>\n",
       "\n",
       "    <body style=\"font-size: 16px; font-family: -apple-system, BlinkMacSystemFont, 'Segoe UI', Helvetica, Arial, sans-serif, 'Apple Color Emoji', 'Segoe UI Emoji', 'Segoe UI Symbol'; padding: 4rem 2rem; direction: ltr\">\n",
       "<figure style=\"margin-bottom: 6rem\">\n",
       "<svg xmlns=\"http://www.w3.org/2000/svg\" xmlns:xlink=\"http://www.w3.org/1999/xlink\" xml:lang=\"en\" id=\"979d9e43216643549ac7b9758af355bb-0\" class=\"displacy\" width=\"2150\" height=\"574.5\" direction=\"ltr\" style=\"max-width: none; height: 574.5px; color: #000000; background: #ffffff; font-family: Arial; direction: ltr\">\n",
       "<text class=\"displacy-token\" fill=\"currentColor\" text-anchor=\"middle\" y=\"484.5\">\n",
       "    <tspan class=\"displacy-word\" fill=\"currentColor\" x=\"50\">L-glutamate</tspan>\n",
       "    <tspan class=\"displacy-tag\" dy=\"2em\" fill=\"currentColor\" x=\"50\">NOUN</tspan>\n",
       "</text>\n",
       "\n",
       "<text class=\"displacy-token\" fill=\"currentColor\" text-anchor=\"middle\" y=\"484.5\">\n",
       "    <tspan class=\"displacy-word\" fill=\"currentColor\" x=\"225\">catalyses</tspan>\n",
       "    <tspan class=\"displacy-tag\" dy=\"2em\" fill=\"currentColor\" x=\"225\">VERB</tspan>\n",
       "</text>\n",
       "\n",
       "<text class=\"displacy-token\" fill=\"currentColor\" text-anchor=\"middle\" y=\"484.5\">\n",
       "    <tspan class=\"displacy-word\" fill=\"currentColor\" x=\"400\">ATP</tspan>\n",
       "    <tspan class=\"displacy-tag\" dy=\"2em\" fill=\"currentColor\" x=\"400\">NOUN</tspan>\n",
       "</text>\n",
       "\n",
       "<text class=\"displacy-token\" fill=\"currentColor\" text-anchor=\"middle\" y=\"484.5\">\n",
       "    <tspan class=\"displacy-word\" fill=\"currentColor\" x=\"575\">and</tspan>\n",
       "    <tspan class=\"displacy-tag\" dy=\"2em\" fill=\"currentColor\" x=\"575\">CCONJ</tspan>\n",
       "</text>\n",
       "\n",
       "<text class=\"displacy-token\" fill=\"currentColor\" text-anchor=\"middle\" y=\"484.5\">\n",
       "    <tspan class=\"displacy-word\" fill=\"currentColor\" x=\"750\">L-cysteine</tspan>\n",
       "    <tspan class=\"displacy-tag\" dy=\"2em\" fill=\"currentColor\" x=\"750\">NOUN</tspan>\n",
       "</text>\n",
       "\n",
       "<text class=\"displacy-token\" fill=\"currentColor\" text-anchor=\"middle\" y=\"484.5\">\n",
       "    <tspan class=\"displacy-word\" fill=\"currentColor\" x=\"925\">to</tspan>\n",
       "    <tspan class=\"displacy-tag\" dy=\"2em\" fill=\"currentColor\" x=\"925\">PART</tspan>\n",
       "</text>\n",
       "\n",
       "<text class=\"displacy-token\" fill=\"currentColor\" text-anchor=\"middle\" y=\"484.5\">\n",
       "    <tspan class=\"displacy-word\" fill=\"currentColor\" x=\"1100\">produce</tspan>\n",
       "    <tspan class=\"displacy-tag\" dy=\"2em\" fill=\"currentColor\" x=\"1100\">VERB</tspan>\n",
       "</text>\n",
       "\n",
       "<text class=\"displacy-token\" fill=\"currentColor\" text-anchor=\"middle\" y=\"484.5\">\n",
       "    <tspan class=\"displacy-word\" fill=\"currentColor\" x=\"1275\">ADP</tspan>\n",
       "    <tspan class=\"displacy-tag\" dy=\"2em\" fill=\"currentColor\" x=\"1275\">NOUN</tspan>\n",
       "</text>\n",
       "\n",
       "<text class=\"displacy-token\" fill=\"currentColor\" text-anchor=\"middle\" y=\"484.5\">\n",
       "    <tspan class=\"displacy-word\" fill=\"currentColor\" x=\"1450\">and</tspan>\n",
       "    <tspan class=\"displacy-tag\" dy=\"2em\" fill=\"currentColor\" x=\"1450\">CCONJ</tspan>\n",
       "</text>\n",
       "\n",
       "<text class=\"displacy-token\" fill=\"currentColor\" text-anchor=\"middle\" y=\"484.5\">\n",
       "    <tspan class=\"displacy-word\" fill=\"currentColor\" x=\"1625\">phosphate</tspan>\n",
       "    <tspan class=\"displacy-tag\" dy=\"2em\" fill=\"currentColor\" x=\"1625\">NOUN</tspan>\n",
       "</text>\n",
       "\n",
       "<text class=\"displacy-token\" fill=\"currentColor\" text-anchor=\"middle\" y=\"484.5\">\n",
       "    <tspan class=\"displacy-word\" fill=\"currentColor\" x=\"1800\">and</tspan>\n",
       "    <tspan class=\"displacy-tag\" dy=\"2em\" fill=\"currentColor\" x=\"1800\">CCONJ</tspan>\n",
       "</text>\n",
       "\n",
       "<text class=\"displacy-token\" fill=\"currentColor\" text-anchor=\"middle\" y=\"484.5\">\n",
       "    <tspan class=\"displacy-word\" fill=\"currentColor\" x=\"1975\">gamma-L-glutamyl-L-cysteine</tspan>\n",
       "    <tspan class=\"displacy-tag\" dy=\"2em\" fill=\"currentColor\" x=\"1975\">NOUN</tspan>\n",
       "</text>\n",
       "\n",
       "<g class=\"displacy-arrow\">\n",
       "    <path class=\"displacy-arc\" id=\"arrow-979d9e43216643549ac7b9758af355bb-0-0\" stroke-width=\"2px\" d=\"M70,439.5 C70,352.0 205.0,352.0 205.0,439.5\" fill=\"none\" stroke=\"currentColor\"/>\n",
       "    <text dy=\"1.25em\" style=\"font-size: 0.8em; letter-spacing: 1px\">\n",
       "        <textPath xlink:href=\"#arrow-979d9e43216643549ac7b9758af355bb-0-0\" class=\"displacy-label\" startOffset=\"50%\" side=\"left\" fill=\"currentColor\" text-anchor=\"middle\">nsubj</textPath>\n",
       "    </text>\n",
       "    <path class=\"displacy-arrowhead\" d=\"M70,441.5 L62,429.5 78,429.5\" fill=\"currentColor\"/>\n",
       "</g>\n",
       "\n",
       "<g class=\"displacy-arrow\">\n",
       "    <path class=\"displacy-arc\" id=\"arrow-979d9e43216643549ac7b9758af355bb-0-1\" stroke-width=\"2px\" d=\"M245,439.5 C245,352.0 380.0,352.0 380.0,439.5\" fill=\"none\" stroke=\"currentColor\"/>\n",
       "    <text dy=\"1.25em\" style=\"font-size: 0.8em; letter-spacing: 1px\">\n",
       "        <textPath xlink:href=\"#arrow-979d9e43216643549ac7b9758af355bb-0-1\" class=\"displacy-label\" startOffset=\"50%\" side=\"left\" fill=\"currentColor\" text-anchor=\"middle\">dobj</textPath>\n",
       "    </text>\n",
       "    <path class=\"displacy-arrowhead\" d=\"M380.0,441.5 L388.0,429.5 372.0,429.5\" fill=\"currentColor\"/>\n",
       "</g>\n",
       "\n",
       "<g class=\"displacy-arrow\">\n",
       "    <path class=\"displacy-arc\" id=\"arrow-979d9e43216643549ac7b9758af355bb-0-2\" stroke-width=\"2px\" d=\"M420,439.5 C420,352.0 555.0,352.0 555.0,439.5\" fill=\"none\" stroke=\"currentColor\"/>\n",
       "    <text dy=\"1.25em\" style=\"font-size: 0.8em; letter-spacing: 1px\">\n",
       "        <textPath xlink:href=\"#arrow-979d9e43216643549ac7b9758af355bb-0-2\" class=\"displacy-label\" startOffset=\"50%\" side=\"left\" fill=\"currentColor\" text-anchor=\"middle\">cc</textPath>\n",
       "    </text>\n",
       "    <path class=\"displacy-arrowhead\" d=\"M555.0,441.5 L563.0,429.5 547.0,429.5\" fill=\"currentColor\"/>\n",
       "</g>\n",
       "\n",
       "<g class=\"displacy-arrow\">\n",
       "    <path class=\"displacy-arc\" id=\"arrow-979d9e43216643549ac7b9758af355bb-0-3\" stroke-width=\"2px\" d=\"M420,439.5 C420,264.5 735.0,264.5 735.0,439.5\" fill=\"none\" stroke=\"currentColor\"/>\n",
       "    <text dy=\"1.25em\" style=\"font-size: 0.8em; letter-spacing: 1px\">\n",
       "        <textPath xlink:href=\"#arrow-979d9e43216643549ac7b9758af355bb-0-3\" class=\"displacy-label\" startOffset=\"50%\" side=\"left\" fill=\"currentColor\" text-anchor=\"middle\">conj</textPath>\n",
       "    </text>\n",
       "    <path class=\"displacy-arrowhead\" d=\"M735.0,441.5 L743.0,429.5 727.0,429.5\" fill=\"currentColor\"/>\n",
       "</g>\n",
       "\n",
       "<g class=\"displacy-arrow\">\n",
       "    <path class=\"displacy-arc\" id=\"arrow-979d9e43216643549ac7b9758af355bb-0-4\" stroke-width=\"2px\" d=\"M945,439.5 C945,352.0 1080.0,352.0 1080.0,439.5\" fill=\"none\" stroke=\"currentColor\"/>\n",
       "    <text dy=\"1.25em\" style=\"font-size: 0.8em; letter-spacing: 1px\">\n",
       "        <textPath xlink:href=\"#arrow-979d9e43216643549ac7b9758af355bb-0-4\" class=\"displacy-label\" startOffset=\"50%\" side=\"left\" fill=\"currentColor\" text-anchor=\"middle\">mark</textPath>\n",
       "    </text>\n",
       "    <path class=\"displacy-arrowhead\" d=\"M945,441.5 L937,429.5 953,429.5\" fill=\"currentColor\"/>\n",
       "</g>\n",
       "\n",
       "<g class=\"displacy-arrow\">\n",
       "    <path class=\"displacy-arc\" id=\"arrow-979d9e43216643549ac7b9758af355bb-0-5\" stroke-width=\"2px\" d=\"M245,439.5 C245,2.0 1100.0,2.0 1100.0,439.5\" fill=\"none\" stroke=\"currentColor\"/>\n",
       "    <text dy=\"1.25em\" style=\"font-size: 0.8em; letter-spacing: 1px\">\n",
       "        <textPath xlink:href=\"#arrow-979d9e43216643549ac7b9758af355bb-0-5\" class=\"displacy-label\" startOffset=\"50%\" side=\"left\" fill=\"currentColor\" text-anchor=\"middle\">xcomp</textPath>\n",
       "    </text>\n",
       "    <path class=\"displacy-arrowhead\" d=\"M1100.0,441.5 L1108.0,429.5 1092.0,429.5\" fill=\"currentColor\"/>\n",
       "</g>\n",
       "\n",
       "<g class=\"displacy-arrow\">\n",
       "    <path class=\"displacy-arc\" id=\"arrow-979d9e43216643549ac7b9758af355bb-0-6\" stroke-width=\"2px\" d=\"M1120,439.5 C1120,352.0 1255.0,352.0 1255.0,439.5\" fill=\"none\" stroke=\"currentColor\"/>\n",
       "    <text dy=\"1.25em\" style=\"font-size: 0.8em; letter-spacing: 1px\">\n",
       "        <textPath xlink:href=\"#arrow-979d9e43216643549ac7b9758af355bb-0-6\" class=\"displacy-label\" startOffset=\"50%\" side=\"left\" fill=\"currentColor\" text-anchor=\"middle\">dobj</textPath>\n",
       "    </text>\n",
       "    <path class=\"displacy-arrowhead\" d=\"M1255.0,441.5 L1263.0,429.5 1247.0,429.5\" fill=\"currentColor\"/>\n",
       "</g>\n",
       "\n",
       "<g class=\"displacy-arrow\">\n",
       "    <path class=\"displacy-arc\" id=\"arrow-979d9e43216643549ac7b9758af355bb-0-7\" stroke-width=\"2px\" d=\"M1295,439.5 C1295,352.0 1430.0,352.0 1430.0,439.5\" fill=\"none\" stroke=\"currentColor\"/>\n",
       "    <text dy=\"1.25em\" style=\"font-size: 0.8em; letter-spacing: 1px\">\n",
       "        <textPath xlink:href=\"#arrow-979d9e43216643549ac7b9758af355bb-0-7\" class=\"displacy-label\" startOffset=\"50%\" side=\"left\" fill=\"currentColor\" text-anchor=\"middle\">cc</textPath>\n",
       "    </text>\n",
       "    <path class=\"displacy-arrowhead\" d=\"M1430.0,441.5 L1438.0,429.5 1422.0,429.5\" fill=\"currentColor\"/>\n",
       "</g>\n",
       "\n",
       "<g class=\"displacy-arrow\">\n",
       "    <path class=\"displacy-arc\" id=\"arrow-979d9e43216643549ac7b9758af355bb-0-8\" stroke-width=\"2px\" d=\"M1295,439.5 C1295,264.5 1610.0,264.5 1610.0,439.5\" fill=\"none\" stroke=\"currentColor\"/>\n",
       "    <text dy=\"1.25em\" style=\"font-size: 0.8em; letter-spacing: 1px\">\n",
       "        <textPath xlink:href=\"#arrow-979d9e43216643549ac7b9758af355bb-0-8\" class=\"displacy-label\" startOffset=\"50%\" side=\"left\" fill=\"currentColor\" text-anchor=\"middle\">conj</textPath>\n",
       "    </text>\n",
       "    <path class=\"displacy-arrowhead\" d=\"M1610.0,441.5 L1618.0,429.5 1602.0,429.5\" fill=\"currentColor\"/>\n",
       "</g>\n",
       "\n",
       "<g class=\"displacy-arrow\">\n",
       "    <path class=\"displacy-arc\" id=\"arrow-979d9e43216643549ac7b9758af355bb-0-9\" stroke-width=\"2px\" d=\"M1295,439.5 C1295,177.0 1790.0,177.0 1790.0,439.5\" fill=\"none\" stroke=\"currentColor\"/>\n",
       "    <text dy=\"1.25em\" style=\"font-size: 0.8em; letter-spacing: 1px\">\n",
       "        <textPath xlink:href=\"#arrow-979d9e43216643549ac7b9758af355bb-0-9\" class=\"displacy-label\" startOffset=\"50%\" side=\"left\" fill=\"currentColor\" text-anchor=\"middle\">cc</textPath>\n",
       "    </text>\n",
       "    <path class=\"displacy-arrowhead\" d=\"M1790.0,441.5 L1798.0,429.5 1782.0,429.5\" fill=\"currentColor\"/>\n",
       "</g>\n",
       "\n",
       "<g class=\"displacy-arrow\">\n",
       "    <path class=\"displacy-arc\" id=\"arrow-979d9e43216643549ac7b9758af355bb-0-10\" stroke-width=\"2px\" d=\"M1295,439.5 C1295,89.5 1970.0,89.5 1970.0,439.5\" fill=\"none\" stroke=\"currentColor\"/>\n",
       "    <text dy=\"1.25em\" style=\"font-size: 0.8em; letter-spacing: 1px\">\n",
       "        <textPath xlink:href=\"#arrow-979d9e43216643549ac7b9758af355bb-0-10\" class=\"displacy-label\" startOffset=\"50%\" side=\"left\" fill=\"currentColor\" text-anchor=\"middle\">conj</textPath>\n",
       "    </text>\n",
       "    <path class=\"displacy-arrowhead\" d=\"M1970.0,441.5 L1978.0,429.5 1962.0,429.5\" fill=\"currentColor\"/>\n",
       "</g>\n",
       "</svg>\n",
       "</figure>\n",
       "</body>\n",
       "</html></span>"
      ],
      "text/plain": [
       "<IPython.core.display.HTML object>"
      ]
     },
     "metadata": {},
     "output_type": "display_data"
    },
    {
     "name": "stdout",
     "output_type": "stream",
     "text": [
      "\n",
      "Using the 'dep' visualizer\n",
      "Serving on http://0.0.0.0:5000 ...\n",
      "\n",
      "Shutting down server on port 5000.\n"
     ]
    }
   ],
   "source": [
    "from spacy import displacy\n",
    "displacy.serve(doc, style=\"dep\")"
   ]
  },
  {
   "cell_type": "code",
   "execution_count": 10,
   "metadata": {},
   "outputs": [],
   "source": [
    "# Generate a list of nodes with arbitrarily assigned weight\n",
    "nodes_list = dict()\n",
    "for token in doc:\n",
    "    if token.pos_ == \"VERB\" or token.text.lower() == \"and\" or token.text.lower() == \"or\" or token.text.lower() == 'not':\n",
    "        nodes_list[token.text] = (token.pos_, 3)\n",
    "    elif token.pos_ == \"NOUN\":\n",
    "        nodes_list[token.text] = (token.pos_, 2)\n",
    "    else:\n",
    "        nodes_list[token.text] = (token.pos_, 1)"
   ]
  },
  {
   "cell_type": "code",
   "execution_count": 11,
   "metadata": {},
   "outputs": [
    {
     "name": "stdout",
     "output_type": "stream",
     "text": [
      "{'L-glutamate': ('NOUN', 2), 'catalyses': ('VERB', 3), 'ATP': ('NOUN', 2), 'and': ('CCONJ', 3), 'L-cysteine': ('NOUN', 2), 'to': ('PART', 1), 'produce': ('VERB', 3), 'ADP': ('NOUN', 2), 'phosphate': ('NOUN', 2), 'gamma-L-glutamyl-L-cysteine': ('NOUN', 2)}\n",
      "10\n"
     ]
    }
   ],
   "source": [
    "print (nodes_list)\n",
    "print (len(set(nodes_list)))"
   ]
  },
  {
   "cell_type": "code",
   "execution_count": 12,
   "metadata": {},
   "outputs": [],
   "source": [
    "import string\n",
    "exclude = set(string.punctuation)"
   ]
  },
  {
   "cell_type": "code",
   "execution_count": 13,
   "metadata": {},
   "outputs": [],
   "source": [
    "# Building links among tokens\n",
    "head = list()\n",
    "tail = list()\n",
    "for i, token in enumerate(doc):\n",
    "    if token.n_lefts>=1:\n",
    "        for t in token.lefts:\n",
    "            if t.text in exclude:\n",
    "                pass\n",
    "            else:\n",
    "                head.append(t.text)\n",
    "                tail.append(token.text)\n",
    "                head.append(token.text)\n",
    "                tail.append(t.text)\n",
    "    if token.n_rights>=1:\n",
    "        for t in token.rights:\n",
    "            if t.text in exclude:\n",
    "                pass\n",
    "            else:\n",
    "                head.append(t.text)\n",
    "                tail.append(token.text)\n",
    "                head.append(token.text)\n",
    "                tail.append(t.text)\n",
    "    if token.text.lower() == \"and\" or token.text.lower() == \"or\":  # to create a triplet/clique of the network\n",
    "        head.append(doc[i-1].text)\n",
    "        tail.append(doc[i+1].text)\n",
    "        head.append(doc[i+1].text)\n",
    "        tail.append(doc[i-1].text)\n",
    "        head.append(token.text)\n",
    "        tail.append(doc[i-1].text)\n",
    "        head.append(token.text)\n",
    "        tail.append(doc[i+1].text)\n",
    "    if token.text.lower() == 'not': # to conect two nearby nouns of which one negate the other\n",
    "        #print (i, token.text)\n",
    "        backward = -1\n",
    "        while doc[i+backward].pos_ != \"NOUN\":\n",
    "            backward -= 1\n",
    "        #print (backward)\n",
    "        start_token = doc[i+backward].text\n",
    "        #print (start_token)\n",
    "        forward = 1\n",
    "        while doc[i+forward].pos_ != \"NOUN\":\n",
    "            forward += 1\n",
    "        #print (forward)\n",
    "        end_token = doc[i+forward].text\n",
    "        #print (end_token)\n",
    "        head.append(start_token)\n",
    "        tail.append('not')\n",
    "        head.append('not')\n",
    "        tail.append(end_token)"
   ]
  },
  {
   "cell_type": "code",
   "execution_count": 14,
   "metadata": {},
   "outputs": [
    {
     "name": "stdout",
     "output_type": "stream",
     "text": [
      "34 34\n"
     ]
    }
   ],
   "source": [
    "print (len(head), len(tail))"
   ]
  },
  {
   "cell_type": "code",
   "execution_count": 15,
   "metadata": {},
   "outputs": [
    {
     "data": {
      "text/html": [
       "<div>\n",
       "<style scoped>\n",
       "    .dataframe tbody tr th:only-of-type {\n",
       "        vertical-align: middle;\n",
       "    }\n",
       "\n",
       "    .dataframe tbody tr th {\n",
       "        vertical-align: top;\n",
       "    }\n",
       "\n",
       "    .dataframe thead th {\n",
       "        text-align: right;\n",
       "    }\n",
       "</style>\n",
       "<table border=\"1\" class=\"dataframe\">\n",
       "  <thead>\n",
       "    <tr style=\"text-align: right;\">\n",
       "      <th></th>\n",
       "      <th>head</th>\n",
       "      <th>tail</th>\n",
       "    </tr>\n",
       "  </thead>\n",
       "  <tbody>\n",
       "    <tr>\n",
       "      <th>0</th>\n",
       "      <td>L-glutamate</td>\n",
       "      <td>catalyses</td>\n",
       "    </tr>\n",
       "    <tr>\n",
       "      <th>1</th>\n",
       "      <td>catalyses</td>\n",
       "      <td>L-glutamate</td>\n",
       "    </tr>\n",
       "    <tr>\n",
       "      <th>2</th>\n",
       "      <td>ATP</td>\n",
       "      <td>catalyses</td>\n",
       "    </tr>\n",
       "    <tr>\n",
       "      <th>3</th>\n",
       "      <td>catalyses</td>\n",
       "      <td>ATP</td>\n",
       "    </tr>\n",
       "    <tr>\n",
       "      <th>4</th>\n",
       "      <td>produce</td>\n",
       "      <td>catalyses</td>\n",
       "    </tr>\n",
       "    <tr>\n",
       "      <th>5</th>\n",
       "      <td>catalyses</td>\n",
       "      <td>produce</td>\n",
       "    </tr>\n",
       "    <tr>\n",
       "      <th>6</th>\n",
       "      <td>and</td>\n",
       "      <td>ATP</td>\n",
       "    </tr>\n",
       "    <tr>\n",
       "      <th>7</th>\n",
       "      <td>ATP</td>\n",
       "      <td>and</td>\n",
       "    </tr>\n",
       "    <tr>\n",
       "      <th>8</th>\n",
       "      <td>L-cysteine</td>\n",
       "      <td>ATP</td>\n",
       "    </tr>\n",
       "    <tr>\n",
       "      <th>9</th>\n",
       "      <td>ATP</td>\n",
       "      <td>L-cysteine</td>\n",
       "    </tr>\n",
       "    <tr>\n",
       "      <th>10</th>\n",
       "      <td>ATP</td>\n",
       "      <td>L-cysteine</td>\n",
       "    </tr>\n",
       "    <tr>\n",
       "      <th>11</th>\n",
       "      <td>L-cysteine</td>\n",
       "      <td>ATP</td>\n",
       "    </tr>\n",
       "    <tr>\n",
       "      <th>12</th>\n",
       "      <td>and</td>\n",
       "      <td>ATP</td>\n",
       "    </tr>\n",
       "    <tr>\n",
       "      <th>13</th>\n",
       "      <td>and</td>\n",
       "      <td>L-cysteine</td>\n",
       "    </tr>\n",
       "    <tr>\n",
       "      <th>14</th>\n",
       "      <td>to</td>\n",
       "      <td>produce</td>\n",
       "    </tr>\n",
       "    <tr>\n",
       "      <th>15</th>\n",
       "      <td>produce</td>\n",
       "      <td>to</td>\n",
       "    </tr>\n",
       "    <tr>\n",
       "      <th>16</th>\n",
       "      <td>ADP</td>\n",
       "      <td>produce</td>\n",
       "    </tr>\n",
       "    <tr>\n",
       "      <th>17</th>\n",
       "      <td>produce</td>\n",
       "      <td>ADP</td>\n",
       "    </tr>\n",
       "    <tr>\n",
       "      <th>18</th>\n",
       "      <td>and</td>\n",
       "      <td>ADP</td>\n",
       "    </tr>\n",
       "    <tr>\n",
       "      <th>19</th>\n",
       "      <td>ADP</td>\n",
       "      <td>and</td>\n",
       "    </tr>\n",
       "    <tr>\n",
       "      <th>20</th>\n",
       "      <td>phosphate</td>\n",
       "      <td>ADP</td>\n",
       "    </tr>\n",
       "    <tr>\n",
       "      <th>21</th>\n",
       "      <td>ADP</td>\n",
       "      <td>phosphate</td>\n",
       "    </tr>\n",
       "    <tr>\n",
       "      <th>22</th>\n",
       "      <td>and</td>\n",
       "      <td>ADP</td>\n",
       "    </tr>\n",
       "    <tr>\n",
       "      <th>23</th>\n",
       "      <td>ADP</td>\n",
       "      <td>and</td>\n",
       "    </tr>\n",
       "    <tr>\n",
       "      <th>24</th>\n",
       "      <td>gamma-L-glutamyl-L-cysteine</td>\n",
       "      <td>ADP</td>\n",
       "    </tr>\n",
       "    <tr>\n",
       "      <th>25</th>\n",
       "      <td>ADP</td>\n",
       "      <td>gamma-L-glutamyl-L-cysteine</td>\n",
       "    </tr>\n",
       "    <tr>\n",
       "      <th>26</th>\n",
       "      <td>ADP</td>\n",
       "      <td>phosphate</td>\n",
       "    </tr>\n",
       "    <tr>\n",
       "      <th>27</th>\n",
       "      <td>phosphate</td>\n",
       "      <td>ADP</td>\n",
       "    </tr>\n",
       "    <tr>\n",
       "      <th>28</th>\n",
       "      <td>and</td>\n",
       "      <td>ADP</td>\n",
       "    </tr>\n",
       "    <tr>\n",
       "      <th>29</th>\n",
       "      <td>and</td>\n",
       "      <td>phosphate</td>\n",
       "    </tr>\n",
       "    <tr>\n",
       "      <th>30</th>\n",
       "      <td>phosphate</td>\n",
       "      <td>gamma-L-glutamyl-L-cysteine</td>\n",
       "    </tr>\n",
       "    <tr>\n",
       "      <th>31</th>\n",
       "      <td>gamma-L-glutamyl-L-cysteine</td>\n",
       "      <td>phosphate</td>\n",
       "    </tr>\n",
       "    <tr>\n",
       "      <th>32</th>\n",
       "      <td>and</td>\n",
       "      <td>phosphate</td>\n",
       "    </tr>\n",
       "    <tr>\n",
       "      <th>33</th>\n",
       "      <td>and</td>\n",
       "      <td>gamma-L-glutamyl-L-cysteine</td>\n",
       "    </tr>\n",
       "  </tbody>\n",
       "</table>\n",
       "</div>"
      ],
      "text/plain": [
       "                           head                         tail\n",
       "0                   L-glutamate                    catalyses\n",
       "1                     catalyses                  L-glutamate\n",
       "2                           ATP                    catalyses\n",
       "3                     catalyses                          ATP\n",
       "4                       produce                    catalyses\n",
       "5                     catalyses                      produce\n",
       "6                           and                          ATP\n",
       "7                           ATP                          and\n",
       "8                    L-cysteine                          ATP\n",
       "9                           ATP                   L-cysteine\n",
       "10                          ATP                   L-cysteine\n",
       "11                   L-cysteine                          ATP\n",
       "12                          and                          ATP\n",
       "13                          and                   L-cysteine\n",
       "14                           to                      produce\n",
       "15                      produce                           to\n",
       "16                          ADP                      produce\n",
       "17                      produce                          ADP\n",
       "18                          and                          ADP\n",
       "19                          ADP                          and\n",
       "20                    phosphate                          ADP\n",
       "21                          ADP                    phosphate\n",
       "22                          and                          ADP\n",
       "23                          ADP                          and\n",
       "24  gamma-L-glutamyl-L-cysteine                          ADP\n",
       "25                          ADP  gamma-L-glutamyl-L-cysteine\n",
       "26                          ADP                    phosphate\n",
       "27                    phosphate                          ADP\n",
       "28                          and                          ADP\n",
       "29                          and                    phosphate\n",
       "30                    phosphate  gamma-L-glutamyl-L-cysteine\n",
       "31  gamma-L-glutamyl-L-cysteine                    phosphate\n",
       "32                          and                    phosphate\n",
       "33                          and  gamma-L-glutamyl-L-cysteine"
      ]
     },
     "execution_count": 15,
     "metadata": {},
     "output_type": "execute_result"
    }
   ],
   "source": [
    "import pandas as pd\n",
    "data = zip(head, tail)\n",
    "df = pd.DataFrame(data,columns=['head','tail'])\n",
    "pd.set_option(\"display.max_rows\", 200, \"display.max_columns\", 6)\n",
    "df"
   ]
  },
  {
   "cell_type": "code",
   "execution_count": 16,
   "metadata": {},
   "outputs": [],
   "source": [
    "# Introducion of Edge Weight to highlight action between subject, verb and object\n",
    "df['edge_wt'] = 1\n",
    "for i in range(len(df)):\n",
    "    head_node = df.loc[i, 'head']\n",
    "    end_node = df.loc[i, 'tail']\n",
    "    if (nodes_list[head_node][0]==\"NOUN\" and nodes_list[end_node][0]==\"VERB\"):\n",
    "        df.loc[i,'edge_wt'] += 2\n",
    "    if (nodes_list[head_node][0]==\"VERB\" and nodes_list[end_node][0]==\"NOUN\"):\n",
    "        df.loc[i,'edge_wt'] += 2"
   ]
  },
  {
   "cell_type": "code",
   "execution_count": 17,
   "metadata": {},
   "outputs": [
    {
     "name": "stdout",
     "output_type": "stream",
     "text": [
      "True\n",
      "L-glutamate\n",
      "True\n",
      "catalyses\n"
     ]
    }
   ],
   "source": [
    "print(nodes_list[df.loc[0,'head']][0] == 'NOUN')\n",
    "print(df.loc[0,'head'])\n",
    "\n",
    "print(nodes_list[df.loc[0,'tail']][0] == 'VERB')\n",
    "print(df.loc[0,'tail'])"
   ]
  },
  {
   "cell_type": "code",
   "execution_count": 18,
   "metadata": {},
   "outputs": [
    {
     "data": {
      "text/html": [
       "<div>\n",
       "<style scoped>\n",
       "    .dataframe tbody tr th:only-of-type {\n",
       "        vertical-align: middle;\n",
       "    }\n",
       "\n",
       "    .dataframe tbody tr th {\n",
       "        vertical-align: top;\n",
       "    }\n",
       "\n",
       "    .dataframe thead th {\n",
       "        text-align: right;\n",
       "    }\n",
       "</style>\n",
       "<table border=\"1\" class=\"dataframe\">\n",
       "  <thead>\n",
       "    <tr style=\"text-align: right;\">\n",
       "      <th></th>\n",
       "      <th>head</th>\n",
       "      <th>tail</th>\n",
       "      <th>edge_wt</th>\n",
       "    </tr>\n",
       "  </thead>\n",
       "  <tbody>\n",
       "    <tr>\n",
       "      <th>0</th>\n",
       "      <td>L-glutamate</td>\n",
       "      <td>catalyses</td>\n",
       "      <td>3</td>\n",
       "    </tr>\n",
       "    <tr>\n",
       "      <th>1</th>\n",
       "      <td>catalyses</td>\n",
       "      <td>L-glutamate</td>\n",
       "      <td>3</td>\n",
       "    </tr>\n",
       "    <tr>\n",
       "      <th>2</th>\n",
       "      <td>ATP</td>\n",
       "      <td>catalyses</td>\n",
       "      <td>3</td>\n",
       "    </tr>\n",
       "    <tr>\n",
       "      <th>3</th>\n",
       "      <td>catalyses</td>\n",
       "      <td>ATP</td>\n",
       "      <td>3</td>\n",
       "    </tr>\n",
       "    <tr>\n",
       "      <th>4</th>\n",
       "      <td>produce</td>\n",
       "      <td>catalyses</td>\n",
       "      <td>1</td>\n",
       "    </tr>\n",
       "  </tbody>\n",
       "</table>\n",
       "</div>"
      ],
      "text/plain": [
       "          head         tail  edge_wt\n",
       "0  L-glutamate    catalyses        3\n",
       "1    catalyses  L-glutamate        3\n",
       "2          ATP    catalyses        3\n",
       "3    catalyses          ATP        3\n",
       "4      produce    catalyses        1"
      ]
     },
     "execution_count": 18,
     "metadata": {},
     "output_type": "execute_result"
    }
   ],
   "source": [
    "df.head()"
   ]
  },
  {
   "cell_type": "code",
   "execution_count": 19,
   "metadata": {},
   "outputs": [],
   "source": [
    "tuples = list()\n",
    "for i in range(len(df)):\n",
    "    tuples.append((df.loc[i, 'head'], df.loc[i, 'tail'], df.loc[i, 'edge_wt']))"
   ]
  },
  {
   "cell_type": "code",
   "execution_count": 20,
   "metadata": {},
   "outputs": [
    {
     "name": "stdout",
     "output_type": "stream",
     "text": [
      "[('L-glutamate', 'catalyses', 3), ('catalyses', 'L-glutamate', 3), ('ATP', 'catalyses', 3), ('catalyses', 'ATP', 3), ('produce', 'catalyses', 1), ('catalyses', 'produce', 1), ('and', 'ATP', 1), ('ATP', 'and', 1), ('L-cysteine', 'ATP', 1), ('ATP', 'L-cysteine', 1), ('ATP', 'L-cysteine', 1), ('L-cysteine', 'ATP', 1), ('and', 'ATP', 1), ('and', 'L-cysteine', 1), ('to', 'produce', 1), ('produce', 'to', 1), ('ADP', 'produce', 3), ('produce', 'ADP', 3), ('and', 'ADP', 1), ('ADP', 'and', 1), ('phosphate', 'ADP', 1), ('ADP', 'phosphate', 1), ('and', 'ADP', 1), ('ADP', 'and', 1), ('gamma-L-glutamyl-L-cysteine', 'ADP', 1), ('ADP', 'gamma-L-glutamyl-L-cysteine', 1), ('ADP', 'phosphate', 1), ('phosphate', 'ADP', 1), ('and', 'ADP', 1), ('and', 'phosphate', 1), ('phosphate', 'gamma-L-glutamyl-L-cysteine', 1), ('gamma-L-glutamyl-L-cysteine', 'phosphate', 1), ('and', 'phosphate', 1), ('and', 'gamma-L-glutamyl-L-cysteine', 1)] 34\n"
     ]
    }
   ],
   "source": [
    "print (tuples, len(tuples))"
   ]
  },
  {
   "cell_type": "code",
   "execution_count": 21,
   "metadata": {},
   "outputs": [
    {
     "name": "stdout",
     "output_type": "stream",
     "text": [
      "25\n"
     ]
    }
   ],
   "source": [
    "print (len(set(tuples)))"
   ]
  },
  {
   "cell_type": "code",
   "execution_count": 22,
   "metadata": {},
   "outputs": [],
   "source": [
    "connection = list(set(tuples))"
   ]
  },
  {
   "cell_type": "code",
   "execution_count": 23,
   "metadata": {},
   "outputs": [
    {
     "name": "stdout",
     "output_type": "stream",
     "text": [
      "[('catalyses', 'ATP', 3), ('catalyses', 'L-glutamate', 3), ('ADP', 'and', 1), ('and', 'ATP', 1), ('ATP', 'and', 1), ('ATP', 'catalyses', 3), ('produce', 'ADP', 3), ('gamma-L-glutamyl-L-cysteine', 'ADP', 1), ('produce', 'to', 1), ('and', 'L-cysteine', 1), ('produce', 'catalyses', 1), ('to', 'produce', 1), ('ATP', 'L-cysteine', 1), ('phosphate', 'ADP', 1), ('L-glutamate', 'catalyses', 3), ('and', 'phosphate', 1), ('catalyses', 'produce', 1), ('phosphate', 'gamma-L-glutamyl-L-cysteine', 1), ('gamma-L-glutamyl-L-cysteine', 'phosphate', 1), ('L-cysteine', 'ATP', 1), ('ADP', 'phosphate', 1), ('and', 'ADP', 1), ('and', 'gamma-L-glutamyl-L-cysteine', 1), ('ADP', 'produce', 3), ('ADP', 'gamma-L-glutamyl-L-cysteine', 1)]\n"
     ]
    }
   ],
   "source": [
    "print (connection)"
   ]
  },
  {
   "cell_type": "code",
   "execution_count": 24,
   "metadata": {},
   "outputs": [],
   "source": [
    "import networkx as nx"
   ]
  },
  {
   "cell_type": "code",
   "execution_count": 25,
   "metadata": {},
   "outputs": [],
   "source": [
    "G = nx.DiGraph()"
   ]
  },
  {
   "cell_type": "code",
   "execution_count": 26,
   "metadata": {},
   "outputs": [],
   "source": [
    "# Adding weighted nodes to the graph\n",
    "for node, values in nodes_list.items():\n",
    "    G.add_node(node, weight=values[1])"
   ]
  },
  {
   "cell_type": "code",
   "execution_count": 27,
   "metadata": {},
   "outputs": [
    {
     "data": {
      "text/plain": [
       "NodeView(('L-glutamate', 'catalyses', 'ATP', 'and', 'L-cysteine', 'to', 'produce', 'ADP', 'phosphate', 'gamma-L-glutamyl-L-cysteine'))"
      ]
     },
     "execution_count": 27,
     "metadata": {},
     "output_type": "execute_result"
    }
   ],
   "source": [
    "G.nodes"
   ]
  },
  {
   "cell_type": "code",
   "execution_count": 28,
   "metadata": {},
   "outputs": [],
   "source": [
    "# Adding weighted edge to the graph\n",
    "for edge in connection:\n",
    "    G.add_edge(edge[0], edge[1], weight=edge[2])"
   ]
  },
  {
   "cell_type": "code",
   "execution_count": 29,
   "metadata": {},
   "outputs": [
    {
     "data": {
      "text/plain": [
       "OutEdgeView([('L-glutamate', 'catalyses'), ('catalyses', 'ATP'), ('catalyses', 'L-glutamate'), ('catalyses', 'produce'), ('ATP', 'and'), ('ATP', 'catalyses'), ('ATP', 'L-cysteine'), ('and', 'ATP'), ('and', 'L-cysteine'), ('and', 'phosphate'), ('and', 'ADP'), ('and', 'gamma-L-glutamyl-L-cysteine'), ('L-cysteine', 'ATP'), ('to', 'produce'), ('produce', 'ADP'), ('produce', 'to'), ('produce', 'catalyses'), ('ADP', 'and'), ('ADP', 'phosphate'), ('ADP', 'produce'), ('ADP', 'gamma-L-glutamyl-L-cysteine'), ('phosphate', 'ADP'), ('phosphate', 'gamma-L-glutamyl-L-cysteine'), ('gamma-L-glutamyl-L-cysteine', 'ADP'), ('gamma-L-glutamyl-L-cysteine', 'phosphate')])"
      ]
     },
     "execution_count": 29,
     "metadata": {},
     "output_type": "execute_result"
    }
   ],
   "source": [
    "G.edges"
   ]
  },
  {
   "cell_type": "code",
   "execution_count": 30,
   "metadata": {},
   "outputs": [
    {
     "name": "stdout",
     "output_type": "stream",
     "text": [
      "{'weight': 2}\n",
      "{'weight': 3}\n"
     ]
    }
   ],
   "source": [
    "# Testing\n",
    "print(G.nodes['L-glutamate'])\n",
    "print(G['L-glutamate']['catalyses'])"
   ]
  },
  {
   "cell_type": "code",
   "execution_count": 31,
   "metadata": {},
   "outputs": [
    {
     "name": "stdout",
     "output_type": "stream",
     "text": [
      "{'ATP': {'weight': 3}, 'L-glutamate': {'weight': 3}, 'produce': {'weight': 1}}\n"
     ]
    }
   ],
   "source": [
    "print (G['catalyses'])"
   ]
  },
  {
   "cell_type": "markdown",
   "metadata": {},
   "source": [
    "## Predict and add new links to \"VERB\" using preferential attachment"
   ]
  },
  {
   "cell_type": "code",
   "execution_count": 32,
   "metadata": {},
   "outputs": [],
   "source": [
    "# Generate additional link(s) based on path 2-step away from a \"VERB\"\n",
    "verb = 'catalyses'\n",
    "subgraph = nx.ego_graph(G, verb , radius=2)"
   ]
  },
  {
   "cell_type": "code",
   "execution_count": 33,
   "metadata": {},
   "outputs": [
    {
     "name": "stdout",
     "output_type": "stream",
     "text": [
      "['L-glutamate', 'catalyses', 'ATP', 'and', 'L-cysteine', 'to', 'produce', 'ADP']\n"
     ]
    }
   ],
   "source": [
    "two_step_away_neighbours = subgraph.nodes\n",
    "print (subgraph.nodes)"
   ]
  },
  {
   "cell_type": "code",
   "execution_count": 34,
   "metadata": {},
   "outputs": [
    {
     "name": "stdout",
     "output_type": "stream",
     "text": [
      "[('catalyses', 'L-glutamate'), ('catalyses', 'ATP'), ('catalyses', 'L-cysteine'), ('catalyses', 'ADP')]\n"
     ]
    }
   ],
   "source": [
    "# Generate pair list based on subgraph around the center word, i.e. VERB\n",
    "node_pairs = list()\n",
    "for node in two_step_away_neighbours:\n",
    "    if node == verb or nodes_list[node][0] != \"NOUN\":\n",
    "        pass\n",
    "    else:\n",
    "        node_pairs.append((verb, node))\n",
    "print (node_pairs)"
   ]
  },
  {
   "cell_type": "code",
   "execution_count": 35,
   "metadata": {},
   "outputs": [],
   "source": [
    "G_undirected = G.to_undirected(as_view=True)"
   ]
  },
  {
   "cell_type": "code",
   "execution_count": 36,
   "metadata": {},
   "outputs": [],
   "source": [
    "preds = nx.jaccard_coefficient(G_undirected, node_pairs)"
   ]
  },
  {
   "cell_type": "code",
   "execution_count": 37,
   "metadata": {},
   "outputs": [
    {
     "name": "stdout",
     "output_type": "stream",
     "text": [
      "(catalyses, L-glutamate) -> 0.0\n",
      "(catalyses, ATP) -> 0.0\n",
      "(catalyses, L-cysteine) -> 0.25\n",
      "(catalyses, ADP) -> 0.16666666666666666\n"
     ]
    }
   ],
   "source": [
    "for u, v, p in preds:\n",
    "    print(f\"({u}, {v}) -> {p}\") \n",
    "# Largest value indicates preferential attachment"
   ]
  },
  {
   "cell_type": "code",
   "execution_count": 38,
   "metadata": {},
   "outputs": [],
   "source": [
    "for u, v, p in preds:\n",
    "    if p==0:\n",
    "        pass\n",
    "    else:\n",
    "        G.add_edge(u,v,weight=3)\n",
    "        G.add_edge(v,u,weight=3)"
   ]
  },
  {
   "cell_type": "code",
   "execution_count": 39,
   "metadata": {},
   "outputs": [],
   "source": [
    "verb = 'produce'\n",
    "subgraph = nx.ego_graph(G, verb , radius=2)"
   ]
  },
  {
   "cell_type": "code",
   "execution_count": 40,
   "metadata": {},
   "outputs": [
    {
     "name": "stdout",
     "output_type": "stream",
     "text": [
      "['L-glutamate', 'catalyses', 'ATP', 'and', 'to', 'produce', 'ADP', 'phosphate', 'gamma-L-glutamyl-L-cysteine']\n"
     ]
    }
   ],
   "source": [
    "two_step_away_neighbours = subgraph.nodes\n",
    "print (subgraph.nodes)"
   ]
  },
  {
   "cell_type": "code",
   "execution_count": 41,
   "metadata": {},
   "outputs": [
    {
     "name": "stdout",
     "output_type": "stream",
     "text": [
      "[('produce', 'L-glutamate'), ('produce', 'ATP'), ('produce', 'ADP'), ('produce', 'phosphate'), ('produce', 'gamma-L-glutamyl-L-cysteine')]\n"
     ]
    }
   ],
   "source": [
    "node_pairs = list()\n",
    "for node in two_step_away_neighbours:\n",
    "    if node == verb or nodes_list[node][0] != \"NOUN\":\n",
    "        pass\n",
    "    else:\n",
    "        node_pairs.append((verb, node))\n",
    "print (node_pairs)"
   ]
  },
  {
   "cell_type": "code",
   "execution_count": 42,
   "metadata": {},
   "outputs": [
    {
     "name": "stdout",
     "output_type": "stream",
     "text": [
      "(produce, L-glutamate) -> 0.3333333333333333\n",
      "(produce, ATP) -> 0.2\n",
      "(produce, ADP) -> 0.0\n",
      "(produce, phosphate) -> 0.2\n",
      "(produce, gamma-L-glutamyl-L-cysteine) -> 0.2\n"
     ]
    }
   ],
   "source": [
    "preds = nx.jaccard_coefficient(G_undirected, node_pairs)\n",
    "new_edges = list()\n",
    "for u, v, p in preds:\n",
    "    print(f\"({u}, {v}) -> {p}\") \n",
    "    new_edges.append((u,v))"
   ]
  },
  {
   "cell_type": "code",
   "execution_count": 43,
   "metadata": {},
   "outputs": [],
   "source": [
    "for u, v, p in preds:\n",
    "    if p==0:\n",
    "        pass\n",
    "    else:\n",
    "        G.add_edge(u,v,weight=3)\n",
    "        G.add_edge(v,u,weight=3)"
   ]
  },
  {
   "cell_type": "code",
   "execution_count": 44,
   "metadata": {},
   "outputs": [],
   "source": [
    "nx.write_gpickle(G, \"sample_enzyme.gpickle\")"
   ]
  },
  {
   "cell_type": "markdown",
   "metadata": {},
   "source": [
    "## Generate Random Walk from Sentence Graph "
   ]
  },
  {
   "cell_type": "code",
   "execution_count": 45,
   "metadata": {},
   "outputs": [],
   "source": [
    "G = nx.read_gpickle(\"sample_enzyme.gpickle\")"
   ]
  },
  {
   "cell_type": "code",
   "execution_count": 46,
   "metadata": {},
   "outputs": [],
   "source": [
    "l = [n for n in G.neighbors('catalyses')]"
   ]
  },
  {
   "cell_type": "code",
   "execution_count": 47,
   "metadata": {},
   "outputs": [
    {
     "data": {
      "text/plain": [
       "int"
      ]
     },
     "execution_count": 47,
     "metadata": {},
     "output_type": "execute_result"
    }
   ],
   "source": [
    "type(len(l))"
   ]
  },
  {
   "cell_type": "code",
   "execution_count": 48,
   "metadata": {},
   "outputs": [
    {
     "name": "stdout",
     "output_type": "stream",
     "text": [
      "['ATP', 'L-glutamate', 'produce']\n"
     ]
    }
   ],
   "source": [
    "print (l)"
   ]
  },
  {
   "cell_type": "code",
   "execution_count": 49,
   "metadata": {},
   "outputs": [],
   "source": [
    "node_weights = nx.get_node_attributes(G, \"weight\")"
   ]
  },
  {
   "cell_type": "code",
   "execution_count": 50,
   "metadata": {},
   "outputs": [
    {
     "name": "stdout",
     "output_type": "stream",
     "text": [
      "{'L-glutamate': 2, 'catalyses': 3, 'ATP': 2, 'and': 3, 'L-cysteine': 2, 'to': 1, 'produce': 3, 'ADP': 2, 'phosphate': 2, 'gamma-L-glutamyl-L-cysteine': 2}\n"
     ]
    }
   ],
   "source": [
    "print (node_weights)"
   ]
  },
  {
   "cell_type": "code",
   "execution_count": 51,
   "metadata": {},
   "outputs": [],
   "source": [
    "edge_weights = nx.get_edge_attributes(G, 'weight')"
   ]
  },
  {
   "cell_type": "code",
   "execution_count": 52,
   "metadata": {},
   "outputs": [
    {
     "name": "stdout",
     "output_type": "stream",
     "text": [
      "{('L-glutamate', 'catalyses'): 3, ('catalyses', 'ATP'): 3, ('catalyses', 'L-glutamate'): 3, ('catalyses', 'produce'): 1, ('ATP', 'and'): 1, ('ATP', 'catalyses'): 3, ('ATP', 'L-cysteine'): 1, ('and', 'ATP'): 1, ('and', 'L-cysteine'): 1, ('and', 'phosphate'): 1, ('and', 'ADP'): 1, ('and', 'gamma-L-glutamyl-L-cysteine'): 1, ('L-cysteine', 'ATP'): 1, ('to', 'produce'): 1, ('produce', 'ADP'): 3, ('produce', 'to'): 1, ('produce', 'catalyses'): 1, ('ADP', 'and'): 1, ('ADP', 'phosphate'): 1, ('ADP', 'produce'): 3, ('ADP', 'gamma-L-glutamyl-L-cysteine'): 1, ('phosphate', 'ADP'): 1, ('phosphate', 'gamma-L-glutamyl-L-cysteine'): 1, ('gamma-L-glutamyl-L-cysteine', 'ADP'): 1, ('gamma-L-glutamyl-L-cysteine', 'phosphate'): 1}\n"
     ]
    }
   ],
   "source": [
    "print (edge_weights)"
   ]
  },
  {
   "cell_type": "code",
   "execution_count": 53,
   "metadata": {},
   "outputs": [
    {
     "data": {
      "text/plain": [
       "1"
      ]
     },
     "execution_count": 53,
     "metadata": {},
     "output_type": "execute_result"
    }
   ],
   "source": [
    "edge_weights[('ATP', 'L-cysteine')]"
   ]
  },
  {
   "cell_type": "code",
   "execution_count": 54,
   "metadata": {},
   "outputs": [
    {
     "data": {
      "text/plain": [
       "True"
      ]
     },
     "execution_count": 54,
     "metadata": {},
     "output_type": "execute_result"
    }
   ],
   "source": [
    "('ATP','L-cysteine') in edge_weights.keys()"
   ]
  },
  {
   "cell_type": "code",
   "execution_count": 55,
   "metadata": {},
   "outputs": [
    {
     "data": {
      "text/plain": [
       "True"
      ]
     },
     "execution_count": 55,
     "metadata": {},
     "output_type": "execute_result"
    }
   ],
   "source": [
    "('L-cysteine','ATP') in edge_weights.keys()"
   ]
  },
  {
   "cell_type": "code",
   "execution_count": 56,
   "metadata": {},
   "outputs": [
    {
     "name": "stdout",
     "output_type": "stream",
     "text": [
      "[1 4 9]\n"
     ]
    }
   ],
   "source": [
    "# Testing one of the setups\n",
    "import numpy as np\n",
    "a = np.array([1,2,3])\n",
    "b = np.array([1,2,3])\n",
    "print (np.multiply(a,b))"
   ]
  },
  {
   "cell_type": "code",
   "execution_count": 57,
   "metadata": {},
   "outputs": [],
   "source": [
    "# Helper functions\n",
    "import numpy as np\n",
    "def retrieve_edge_wgt(v1, v2, weight):\n",
    "    \"\"\" to handle the directionality of node pair \"\"\"\n",
    "    if (v1, v2) in weight.keys():\n",
    "        return weight[(v1, v2)]\n",
    "    else:\n",
    "        return weight[(v2, v1)]\n",
    "\n",
    "def get_Weighted_Neighbours(G, node):\n",
    "    \"\"\" \n",
    "    Generate a list of neighbours of \n",
    "    a node with corresponding probability \n",
    "    \"\"\"\n",
    "    node_weights = nx.get_node_attributes(G, \"weight\")\n",
    "    \n",
    "    \n",
    "    # Prepare neighbour list and obtain weight of each attribute for nodes and edges\n",
    "    edge_wgts = nx.get_edge_attributes(G, \"weight\")\n",
    "    node_neighbours = [adj_node for adj_node, datadict in G[node].items()]\n",
    "    self_node_wgt = np.array(len(node_neighbours))*node_weights[node]\n",
    "    # print (self_node_wgt)\n",
    "    neighbour_wgts = [datadict['weight'] for adj_node, datadict in G[node].items()]\n",
    "    neighbour_pair_wgts = list()\n",
    "    for neigbhour in node_neighbours:\n",
    "        neighbour_pair_wgts.append(edge_wgts[(node, neigbhour)])\n",
    "    \n",
    "    # Calculate the transition probability from start node to respective neighbour\n",
    "    elementwise_wgts = np.multiply(self_node_wgt, np.array(neighbour_wgts), np.array(neighbour_pair_wgts))\n",
    "    total_weight = sum(elementwise_wgts)\n",
    "    neighbour_prob = [weight/total_weight for weight in elementwise_wgts]\n",
    "    \n",
    "    return node_neighbours, neighbour_prob"
   ]
  },
  {
   "cell_type": "code",
   "execution_count": 58,
   "metadata": {},
   "outputs": [],
   "source": [
    "neighbour_list, neighbour_prob = get_Weighted_Neighbours(G, 'L-glutamate')"
   ]
  },
  {
   "cell_type": "code",
   "execution_count": 59,
   "metadata": {},
   "outputs": [
    {
     "name": "stdout",
     "output_type": "stream",
     "text": [
      "['catalyses']\n",
      "[1.0]\n"
     ]
    }
   ],
   "source": [
    "print (neighbour_list)\n",
    "print (neighbour_prob)"
   ]
  },
  {
   "cell_type": "code",
   "execution_count": 60,
   "metadata": {},
   "outputs": [],
   "source": [
    "# Obtain next node\n",
    "import random\n",
    "\n",
    "def get_nextNode(G, start_node):\n",
    "    \"\"\" \n",
    "    obtain next node of a given start_node\n",
    "    \"\"\"\n",
    "    neighbour_list, neighbour_prob = get_Weighted_Neighbours(G, start_node)\n",
    "    next_node = random.choices(neighbour_list, neighbour_prob)\n",
    "    return next_node"
   ]
  },
  {
   "cell_type": "code",
   "execution_count": 61,
   "metadata": {},
   "outputs": [],
   "source": [
    "next_node = get_nextNode(G, 'catalyses')"
   ]
  },
  {
   "cell_type": "code",
   "execution_count": 62,
   "metadata": {},
   "outputs": [
    {
     "name": "stdout",
     "output_type": "stream",
     "text": [
      "['ATP']\n"
     ]
    }
   ],
   "source": [
    "print (next_node)"
   ]
  },
  {
   "cell_type": "code",
   "execution_count": 63,
   "metadata": {},
   "outputs": [],
   "source": [
    "def get_random_walk(graph, start_node, n_steps:10):\n",
    "    \"\"\" \n",
    "    Given a graph and a node, \n",
    "    return a random walk starting from the node \n",
    "    \"\"\"\n",
    "    local_path = [start_node]\n",
    "    node = start_node\n",
    "    for i in range(n_steps):\n",
    "        next_node = get_nextNode(G, node)\n",
    "        local_path.append(next_node[0])\n",
    "        node = next_node[0]\n",
    "    return local_path"
   ]
  },
  {
   "cell_type": "code",
   "execution_count": 64,
   "metadata": {},
   "outputs": [],
   "source": [
    "# Testing\n",
    "path = get_random_walk(graph=G, start_node='L-glutamate', n_steps=10)"
   ]
  },
  {
   "cell_type": "code",
   "execution_count": 65,
   "metadata": {},
   "outputs": [
    {
     "name": "stdout",
     "output_type": "stream",
     "text": [
      "['L-glutamate', 'catalyses', 'L-glutamate', 'catalyses', 'ATP', 'catalyses', 'produce', 'ADP', 'produce', 'catalyses', 'L-glutamate']\n"
     ]
    }
   ],
   "source": [
    "print (path)"
   ]
  },
  {
   "cell_type": "code",
   "execution_count": 66,
   "metadata": {},
   "outputs": [
    {
     "name": "stdout",
     "output_type": "stream",
     "text": [
      "[NodeView(('L-glutamate', 'catalyses', 'ATP', 'and', 'L-cysteine', 'to', 'produce', 'ADP', 'phosphate', 'gamma-L-glutamyl-L-cysteine'))]\n"
     ]
    }
   ],
   "source": [
    "# Construct a list collecting these random walks\n",
    "nodes = [G.nodes]\n",
    "print (nodes)"
   ]
  },
  {
   "cell_type": "code",
   "execution_count": 67,
   "metadata": {},
   "outputs": [
    {
     "name": "stderr",
     "output_type": "stream",
     "text": [
      "100%|██████████| 10/10 [01:08<00:00,  6.85s/it]\n"
     ]
    }
   ],
   "source": [
    "path_collection = list()\n",
    "for node in tqdm(G.nodes):\n",
    "    for i in range(1000):\n",
    "        path = get_random_walk(graph=G, start_node=node, n_steps=200)\n",
    "        path_collection.append(path)"
   ]
  },
  {
   "cell_type": "code",
   "execution_count": 68,
   "metadata": {},
   "outputs": [
    {
     "name": "stdout",
     "output_type": "stream",
     "text": [
      "['L-glutamate', 'catalyses', 'produce', 'ADP', 'gamma-L-glutamyl-L-cysteine', 'ADP', 'produce', 'ADP', 'produce', 'ADP', 'produce', 'ADP', 'produce', 'catalyses', 'produce', 'ADP', 'and', 'phosphate', 'gamma-L-glutamyl-L-cysteine', 'phosphate', 'ADP', 'produce', 'to', 'produce', 'ADP', 'produce', 'ADP', 'produce', 'ADP', 'and', 'gamma-L-glutamyl-L-cysteine', 'ADP', 'produce', 'catalyses', 'ATP', 'and', 'ATP', 'catalyses', 'ATP', 'catalyses', 'ATP', 'catalyses', 'L-glutamate', 'catalyses', 'ATP', 'catalyses', 'ATP', 'catalyses', 'ATP', 'and', 'gamma-L-glutamyl-L-cysteine', 'ADP', 'and', 'phosphate', 'gamma-L-glutamyl-L-cysteine', 'phosphate', 'gamma-L-glutamyl-L-cysteine', 'phosphate', 'ADP', 'and', 'gamma-L-glutamyl-L-cysteine', 'phosphate', 'gamma-L-glutamyl-L-cysteine', 'ADP', 'produce', 'ADP', 'produce', 'ADP', 'gamma-L-glutamyl-L-cysteine', 'phosphate', 'gamma-L-glutamyl-L-cysteine', 'phosphate', 'ADP', 'produce', 'to', 'produce', 'ADP', 'and', 'gamma-L-glutamyl-L-cysteine', 'phosphate', 'ADP', 'produce', 'to', 'produce', 'ADP', 'gamma-L-glutamyl-L-cysteine', 'ADP', 'and', 'gamma-L-glutamyl-L-cysteine', 'phosphate', 'ADP', 'and', 'ADP', 'produce', 'ADP', 'produce', 'catalyses', 'ATP', 'catalyses', 'L-glutamate', 'catalyses', 'L-glutamate', 'catalyses', 'ATP', 'catalyses', 'ATP', 'catalyses', 'ATP', 'L-cysteine', 'ATP', 'catalyses', 'L-glutamate', 'catalyses', 'ATP', 'L-cysteine', 'ATP', 'catalyses', 'ATP', 'catalyses', 'ATP', 'and', 'ATP', 'and', 'phosphate', 'ADP', 'produce', 'catalyses', 'ATP', 'catalyses', 'L-glutamate', 'catalyses', 'L-glutamate', 'catalyses', 'L-glutamate', 'catalyses', 'ATP', 'L-cysteine', 'ATP', 'and', 'phosphate', 'ADP', 'produce', 'to', 'produce', 'to', 'produce', 'to', 'produce', 'ADP', 'gamma-L-glutamyl-L-cysteine', 'ADP', 'and', 'ATP', 'catalyses', 'ATP', 'L-cysteine', 'ATP', 'catalyses', 'L-glutamate', 'catalyses', 'L-glutamate', 'catalyses', 'ATP', 'catalyses', 'ATP', 'and', 'L-cysteine', 'ATP', 'catalyses', 'L-glutamate', 'catalyses', 'L-glutamate', 'catalyses', 'ATP', 'catalyses', 'produce', 'ADP', 'phosphate', 'ADP', 'produce', 'ADP', 'produce', 'to', 'produce', 'catalyses', 'ATP', 'L-cysteine', 'ATP', 'and', 'ATP', 'catalyses', 'L-glutamate', 'catalyses', 'produce', 'ADP', 'and', 'gamma-L-glutamyl-L-cysteine', 'phosphate', 'ADP', 'phosphate', 'gamma-L-glutamyl-L-cysteine']\n"
     ]
    }
   ],
   "source": [
    "print (path_collection[0])"
   ]
  },
  {
   "cell_type": "code",
   "execution_count": 69,
   "metadata": {},
   "outputs": [
    {
     "data": {
      "text/plain": [
       "10000"
      ]
     },
     "execution_count": 69,
     "metadata": {},
     "output_type": "execute_result"
    }
   ],
   "source": [
    "len(path_collection)"
   ]
  },
  {
   "cell_type": "code",
   "execution_count": 70,
   "metadata": {},
   "outputs": [],
   "source": [
    "df = pd.DataFrame(index=range(len(path_collection)), columns=['path'])"
   ]
  },
  {
   "cell_type": "code",
   "execution_count": 71,
   "metadata": {},
   "outputs": [],
   "source": [
    "for i in range(len(path_collection)):\n",
    "    df.loc[i, 'path'] = path_collection[i]"
   ]
  },
  {
   "cell_type": "code",
   "execution_count": 72,
   "metadata": {},
   "outputs": [
    {
     "data": {
      "text/html": [
       "<div>\n",
       "<style scoped>\n",
       "    .dataframe tbody tr th:only-of-type {\n",
       "        vertical-align: middle;\n",
       "    }\n",
       "\n",
       "    .dataframe tbody tr th {\n",
       "        vertical-align: top;\n",
       "    }\n",
       "\n",
       "    .dataframe thead th {\n",
       "        text-align: right;\n",
       "    }\n",
       "</style>\n",
       "<table border=\"1\" class=\"dataframe\">\n",
       "  <thead>\n",
       "    <tr style=\"text-align: right;\">\n",
       "      <th></th>\n",
       "      <th>path</th>\n",
       "    </tr>\n",
       "  </thead>\n",
       "  <tbody>\n",
       "    <tr>\n",
       "      <th>0</th>\n",
       "      <td>[L-glutamate, catalyses, produce, ADP, gamma-L...</td>\n",
       "    </tr>\n",
       "    <tr>\n",
       "      <th>1</th>\n",
       "      <td>[L-glutamate, catalyses, ATP, catalyses, L-glu...</td>\n",
       "    </tr>\n",
       "    <tr>\n",
       "      <th>2</th>\n",
       "      <td>[L-glutamate, catalyses, ATP, L-cysteine, ATP,...</td>\n",
       "    </tr>\n",
       "    <tr>\n",
       "      <th>3</th>\n",
       "      <td>[L-glutamate, catalyses, produce, ADP, phospha...</td>\n",
       "    </tr>\n",
       "    <tr>\n",
       "      <th>4</th>\n",
       "      <td>[L-glutamate, catalyses, produce, ADP, gamma-L...</td>\n",
       "    </tr>\n",
       "  </tbody>\n",
       "</table>\n",
       "</div>"
      ],
      "text/plain": [
       "                                                path\n",
       "0  [L-glutamate, catalyses, produce, ADP, gamma-L...\n",
       "1  [L-glutamate, catalyses, ATP, catalyses, L-glu...\n",
       "2  [L-glutamate, catalyses, ATP, L-cysteine, ATP,...\n",
       "3  [L-glutamate, catalyses, produce, ADP, phospha...\n",
       "4  [L-glutamate, catalyses, produce, ADP, gamma-L..."
      ]
     },
     "execution_count": 72,
     "metadata": {},
     "output_type": "execute_result"
    }
   ],
   "source": [
    "df.head()"
   ]
  },
  {
   "cell_type": "code",
   "execution_count": 73,
   "metadata": {},
   "outputs": [
    {
     "name": "stdout",
     "output_type": "stream",
     "text": [
      "<class 'pandas.core.frame.DataFrame'>\n",
      "RangeIndex: 10000 entries, 0 to 9999\n",
      "Data columns (total 1 columns):\n",
      " #   Column  Non-Null Count  Dtype \n",
      "---  ------  --------------  ----- \n",
      " 0   path    10000 non-null  object\n",
      "dtypes: object(1)\n",
      "memory usage: 78.2+ KB\n"
     ]
    }
   ],
   "source": [
    "df.info()"
   ]
  },
  {
   "cell_type": "code",
   "execution_count": 74,
   "metadata": {},
   "outputs": [],
   "source": [
    "df.to_csv(PATH+\"RandomWalk.csv\",index=False)"
   ]
  },
  {
   "cell_type": "code",
   "execution_count": null,
   "metadata": {},
   "outputs": [],
   "source": []
  }
 ],
 "metadata": {
  "kernelspec": {
   "display_name": "Python 3",
   "language": "python",
   "name": "python3"
  },
  "language_info": {
   "codemirror_mode": {
    "name": "ipython",
    "version": 3
   },
   "file_extension": ".py",
   "mimetype": "text/x-python",
   "name": "python",
   "nbconvert_exporter": "python",
   "pygments_lexer": "ipython3",
   "version": "3.6.13"
  }
 },
 "nbformat": 4,
 "nbformat_minor": 4
}

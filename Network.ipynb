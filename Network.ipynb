{
 "cells": [
  {
   "cell_type": "markdown",
   "metadata": {},
   "source": [
    "# Network curation from PubMed extracts"
   ]
  },
  {
   "cell_type": "raw",
   "metadata": {},
   "source": [
    "This notebooks demonstrates how to turn sentence collected from PubMed Extract and convert it to a graph-like format for graph embeddings learning."
   ]
  },
  {
   "cell_type": "code",
   "execution_count": 1,
   "metadata": {},
   "outputs": [
    {
     "name": "stdout",
     "output_type": "stream",
     "text": [
      "25\n"
     ]
    }
   ],
   "source": [
    "sent = \"SATB1 also targets ACF1 and ISWI, subunits of CHRAC and ACF nucleosome mobilizing complexes, to this specific site and regulates nucleosome positioning over seven kilobases.\"\n",
    "print (len(sent.split(\" \")))"
   ]
  },
  {
   "cell_type": "code",
   "execution_count": 1,
   "metadata": {},
   "outputs": [],
   "source": [
    "import warnings\n",
    "warnings.filterwarnings(\"ignore\")\n",
    "import spacy\n",
    "import scispacy\n",
    "nlp = spacy.load(\"en_ner_jnlpba_md\")"
   ]
  },
  {
   "cell_type": "code",
   "execution_count": 97,
   "metadata": {},
   "outputs": [],
   "source": [
    "doc = nlp(sent) # essential to re-run everytime"
   ]
  },
  {
   "cell_type": "code",
   "execution_count": 98,
   "metadata": {},
   "outputs": [
    {
     "name": "stdout",
     "output_type": "stream",
     "text": [
      "SATB1 1 1\n",
      "ACF1 1 1\n",
      "ISWI 1 1\n",
      "CHRAC 1 1\n",
      "ACF nucleosome mobilizing complexes 4 4\n"
     ]
    }
   ],
   "source": [
    "for ent in doc.ents:\n",
    "    print (ent, len(ent), len(ent.text.split()))"
   ]
  },
  {
   "cell_type": "code",
   "execution_count": 99,
   "metadata": {},
   "outputs": [],
   "source": [
    "# Helper functions to get the span \n",
    "# from a tokenized sentence for entity \n",
    "# longer than 1 word\n",
    "\n",
    "def pos_dict(doc):\n",
    "    \"\"\" obtain a list of tokens with index \"\"\"\n",
    "    pos_index = 0\n",
    "    token_dict = dict()\n",
    "    for token in doc:\n",
    "        token_dict[pos_index] = token.text\n",
    "        pos_index+=1\n",
    "    return token_dict\n",
    "\n",
    "def retrievePOS(ent, token_dict):\n",
    "    \"\"\" return the start and end position for Len(ent)>1 \"\"\"\n",
    "    tokens = ent.text.split(\" \")\n",
    "    #print (tokens)\n",
    "    new_dict = dict(zip(token_dict.values(),token_dict.keys()))\n",
    "    return (new_dict[tokens[0]],new_dict[tokens[-1]]+1)\n",
    "\n",
    "def retokenize_ent(doc):\n",
    "    \"\"\" retokenize entity with len(ent)>1 \"\"\"\n",
    "    token_dictionary = pos_dict(doc)\n",
    "    ent_pos = dict()\n",
    "    for ent in doc.ents:\n",
    "        ent_pos[ent] = retrievePOS(ent,token_dictionary)\n",
    "    return ent_pos"
   ]
  },
  {
   "cell_type": "code",
   "execution_count": 100,
   "metadata": {},
   "outputs": [
    {
     "name": "stdout",
     "output_type": "stream",
     "text": [
      "{SATB1: (0, 1), ACF1: (3, 4), ISWI: (5, 6), CHRAC: (9, 10), ACF nucleosome mobilizing complexes: (11, 15)}\n"
     ]
    }
   ],
   "source": [
    "# Testing if above helper functions work properly\n",
    "lst = retokenize_ent(doc) # run this after re-run the doc=nlp(text)\n",
    "print (lst)"
   ]
  },
  {
   "cell_type": "code",
   "execution_count": 101,
   "metadata": {},
   "outputs": [
    {
     "name": "stdout",
     "output_type": "stream",
     "text": [
      "SATB1\n",
      "ACF1\n",
      "ISWI\n",
      "CHRAC\n",
      "ACF nucleosome mobilizing complexes\n"
     ]
    }
   ],
   "source": [
    "for ent, pos in lst.items(): # do it after the re-run\n",
    "    print (ent.text)\n",
    "    with doc.retokenize() as retokenizer:\n",
    "        retokenizer.merge(doc[pos[0]:pos[1]])"
   ]
  },
  {
   "cell_type": "code",
   "execution_count": 102,
   "metadata": {},
   "outputs": [
    {
     "name": "stdout",
     "output_type": "stream",
     "text": [
      "SATB1\n",
      "also\n",
      "targets\n",
      "ACF1\n",
      "and\n",
      "ISWI\n",
      ",\n",
      "subunits\n",
      "of\n",
      "CHRAC\n",
      "and\n",
      "ACF nucleosome mobilizing complexes\n",
      ",\n",
      "to\n",
      "this\n",
      "specific\n",
      "site\n",
      "and\n",
      "regulates\n",
      "nucleosome\n",
      "positioning\n",
      "over\n",
      "seven\n",
      "kilobases\n",
      ".\n"
     ]
    }
   ],
   "source": [
    "for token in doc:\n",
    "    print (token.text)"
   ]
  },
  {
   "cell_type": "code",
   "execution_count": 103,
   "metadata": {},
   "outputs": [
    {
     "name": "stdout",
     "output_type": "stream",
     "text": [
      "SATB1 has [] to the right.\n",
      "SATB1 has [] to the left.\n",
      "SATB1 has [] as chidren.\n",
      "\n",
      "also has [] to the right.\n",
      "also has [] to the left.\n",
      "also has [] as chidren.\n",
      "\n",
      "targets has ['ACF1', ',', 'subunits', 'and', 'regulates', '.'] to the right.\n",
      "targets has ['SATB1', 'also'] to the left.\n",
      "targets has ['SATB1', 'also', 'ACF1', ',', 'subunits', 'and', 'regulates', '.'] as chidren.\n",
      "\n",
      "ACF1 has ['and', 'ISWI'] to the right.\n",
      "ACF1 has [] to the left.\n",
      "ACF1 has ['and', 'ISWI'] as chidren.\n",
      "\n",
      "and has [] to the right.\n",
      "and has [] to the left.\n",
      "and has [] as chidren.\n",
      "\n",
      "ISWI has [] to the right.\n",
      "ISWI has [] to the left.\n",
      "ISWI has [] as chidren.\n",
      "\n",
      ", has [] to the right.\n",
      ", has [] to the left.\n",
      ", has [] as chidren.\n",
      "\n",
      "subunits has ['CHRAC', ',', 'site'] to the right.\n",
      "subunits has [] to the left.\n",
      "subunits has ['CHRAC', ',', 'site'] as chidren.\n",
      "\n",
      "of has [] to the right.\n",
      "of has [] to the left.\n",
      "of has [] as chidren.\n",
      "\n",
      "CHRAC has ['and', 'ACF nucleosome mobilizing complexes'] to the right.\n",
      "CHRAC has ['of'] to the left.\n",
      "CHRAC has ['of', 'and', 'ACF nucleosome mobilizing complexes'] as chidren.\n",
      "\n",
      "and has [] to the right.\n",
      "and has [] to the left.\n",
      "and has [] as chidren.\n",
      "\n",
      "ACF nucleosome mobilizing complexes has [] to the right.\n",
      "ACF nucleosome mobilizing complexes has [] to the left.\n",
      "ACF nucleosome mobilizing complexes has [] as chidren.\n",
      "\n",
      ", has [] to the right.\n",
      ", has [] to the left.\n",
      ", has [] as chidren.\n",
      "\n",
      "to has [] to the right.\n",
      "to has [] to the left.\n",
      "to has [] as chidren.\n",
      "\n",
      "this has [] to the right.\n",
      "this has [] to the left.\n",
      "this has [] as chidren.\n",
      "\n",
      "specific has [] to the right.\n",
      "specific has [] to the left.\n",
      "specific has [] as chidren.\n",
      "\n",
      "site has [] to the right.\n",
      "site has ['to', 'this', 'specific'] to the left.\n",
      "site has ['to', 'this', 'specific'] as chidren.\n",
      "\n",
      "and has [] to the right.\n",
      "and has [] to the left.\n",
      "and has [] as chidren.\n",
      "\n",
      "regulates has ['positioning'] to the right.\n",
      "regulates has [] to the left.\n",
      "regulates has ['positioning'] as chidren.\n",
      "\n",
      "nucleosome has [] to the right.\n",
      "nucleosome has [] to the left.\n",
      "nucleosome has [] as chidren.\n",
      "\n",
      "positioning has ['kilobases'] to the right.\n",
      "positioning has ['nucleosome'] to the left.\n",
      "positioning has ['nucleosome', 'kilobases'] as chidren.\n",
      "\n",
      "over has [] to the right.\n",
      "over has [] to the left.\n",
      "over has [] as chidren.\n",
      "\n",
      "seven has [] to the right.\n",
      "seven has [] to the left.\n",
      "seven has [] as chidren.\n",
      "\n",
      "kilobases has [] to the right.\n",
      "kilobases has ['over', 'seven'] to the left.\n",
      "kilobases has ['over', 'seven'] as chidren.\n",
      "\n",
      ". has [] to the right.\n",
      ". has [] to the left.\n",
      ". has [] as chidren.\n",
      "\n"
     ]
    }
   ],
   "source": [
    "# identify the neighbours of each token\n",
    "for token in doc:\n",
    "    print (token.text, \"has\", [t.text for t in token.rights], \"to the right.\")\n",
    "    print (token.text, \"has\", [t.text for t in token.lefts], \"to the left.\")\n",
    "    print (token.text, \"has\", [t.text for t in token.children], \"as chidren.\")\n",
    "    print (\"\")"
   ]
  },
  {
   "cell_type": "code",
   "execution_count": 104,
   "metadata": {},
   "outputs": [],
   "source": [
    "import string\n",
    "exclude = set(string.punctuation)"
   ]
  },
  {
   "cell_type": "code",
   "execution_count": 105,
   "metadata": {},
   "outputs": [],
   "source": [
    "# Building links among tokens\n",
    "head = list()\n",
    "tail = list()\n",
    "for i, token in enumerate(doc):\n",
    "    if token.n_lefts>=1:\n",
    "        for t in token.lefts:\n",
    "            if t.text in exclude:\n",
    "                pass\n",
    "            else:\n",
    "                head.append(t.text)\n",
    "                tail.append(token.text)\n",
    "    if token.n_rights>=1:\n",
    "        for t in token.rights:\n",
    "            if t.text in exclude:\n",
    "                pass\n",
    "            else:\n",
    "                head.append(token.text)\n",
    "                tail.append(t.text)\n",
    "    if token.text == \"and\":  # to create a triplet/clique of the network\n",
    "        head.append(doc[i-1].text)\n",
    "        tail.append(doc[i+1].text)\n",
    "        head.append(doc[i+1].text)\n",
    "        tail.append(doc[i-1].text)\n",
    "        head.append(token.text)\n",
    "        tail.append(doc[i-1].text)\n",
    "        head.append(token.text)\n",
    "        tail.append(doc[i+1].text)"
   ]
  },
  {
   "cell_type": "code",
   "execution_count": 106,
   "metadata": {},
   "outputs": [],
   "source": [
    "data = zip(head,tail)"
   ]
  },
  {
   "cell_type": "code",
   "execution_count": 107,
   "metadata": {},
   "outputs": [],
   "source": [
    "import pandas as pd"
   ]
  },
  {
   "cell_type": "code",
   "execution_count": 108,
   "metadata": {},
   "outputs": [],
   "source": [
    "df = pd.DataFrame(data,columns=['head','tail'])"
   ]
  },
  {
   "cell_type": "code",
   "execution_count": 109,
   "metadata": {},
   "outputs": [
    {
     "data": {
      "text/html": [
       "<div>\n",
       "<style scoped>\n",
       "    .dataframe tbody tr th:only-of-type {\n",
       "        vertical-align: middle;\n",
       "    }\n",
       "\n",
       "    .dataframe tbody tr th {\n",
       "        vertical-align: top;\n",
       "    }\n",
       "\n",
       "    .dataframe thead th {\n",
       "        text-align: right;\n",
       "    }\n",
       "</style>\n",
       "<table border=\"1\" class=\"dataframe\">\n",
       "  <thead>\n",
       "    <tr style=\"text-align: right;\">\n",
       "      <th></th>\n",
       "      <th>head</th>\n",
       "      <th>tail</th>\n",
       "    </tr>\n",
       "  </thead>\n",
       "  <tbody>\n",
       "    <tr>\n",
       "      <th>0</th>\n",
       "      <td>SATB1</td>\n",
       "      <td>targets</td>\n",
       "    </tr>\n",
       "    <tr>\n",
       "      <th>1</th>\n",
       "      <td>also</td>\n",
       "      <td>targets</td>\n",
       "    </tr>\n",
       "    <tr>\n",
       "      <th>2</th>\n",
       "      <td>targets</td>\n",
       "      <td>ACF1</td>\n",
       "    </tr>\n",
       "    <tr>\n",
       "      <th>3</th>\n",
       "      <td>targets</td>\n",
       "      <td>subunits</td>\n",
       "    </tr>\n",
       "    <tr>\n",
       "      <th>4</th>\n",
       "      <td>targets</td>\n",
       "      <td>and</td>\n",
       "    </tr>\n",
       "    <tr>\n",
       "      <th>5</th>\n",
       "      <td>targets</td>\n",
       "      <td>regulates</td>\n",
       "    </tr>\n",
       "    <tr>\n",
       "      <th>6</th>\n",
       "      <td>ACF1</td>\n",
       "      <td>and</td>\n",
       "    </tr>\n",
       "    <tr>\n",
       "      <th>7</th>\n",
       "      <td>ACF1</td>\n",
       "      <td>ISWI</td>\n",
       "    </tr>\n",
       "    <tr>\n",
       "      <th>8</th>\n",
       "      <td>ACF1</td>\n",
       "      <td>ISWI</td>\n",
       "    </tr>\n",
       "    <tr>\n",
       "      <th>9</th>\n",
       "      <td>ISWI</td>\n",
       "      <td>ACF1</td>\n",
       "    </tr>\n",
       "    <tr>\n",
       "      <th>10</th>\n",
       "      <td>and</td>\n",
       "      <td>ACF1</td>\n",
       "    </tr>\n",
       "    <tr>\n",
       "      <th>11</th>\n",
       "      <td>and</td>\n",
       "      <td>ISWI</td>\n",
       "    </tr>\n",
       "    <tr>\n",
       "      <th>12</th>\n",
       "      <td>subunits</td>\n",
       "      <td>CHRAC</td>\n",
       "    </tr>\n",
       "    <tr>\n",
       "      <th>13</th>\n",
       "      <td>subunits</td>\n",
       "      <td>site</td>\n",
       "    </tr>\n",
       "    <tr>\n",
       "      <th>14</th>\n",
       "      <td>of</td>\n",
       "      <td>CHRAC</td>\n",
       "    </tr>\n",
       "    <tr>\n",
       "      <th>15</th>\n",
       "      <td>CHRAC</td>\n",
       "      <td>and</td>\n",
       "    </tr>\n",
       "    <tr>\n",
       "      <th>16</th>\n",
       "      <td>CHRAC</td>\n",
       "      <td>ACF nucleosome mobilizing complexes</td>\n",
       "    </tr>\n",
       "    <tr>\n",
       "      <th>17</th>\n",
       "      <td>CHRAC</td>\n",
       "      <td>ACF nucleosome mobilizing complexes</td>\n",
       "    </tr>\n",
       "    <tr>\n",
       "      <th>18</th>\n",
       "      <td>ACF nucleosome mobilizing complexes</td>\n",
       "      <td>CHRAC</td>\n",
       "    </tr>\n",
       "    <tr>\n",
       "      <th>19</th>\n",
       "      <td>and</td>\n",
       "      <td>CHRAC</td>\n",
       "    </tr>\n",
       "    <tr>\n",
       "      <th>20</th>\n",
       "      <td>and</td>\n",
       "      <td>ACF nucleosome mobilizing complexes</td>\n",
       "    </tr>\n",
       "    <tr>\n",
       "      <th>21</th>\n",
       "      <td>to</td>\n",
       "      <td>site</td>\n",
       "    </tr>\n",
       "    <tr>\n",
       "      <th>22</th>\n",
       "      <td>this</td>\n",
       "      <td>site</td>\n",
       "    </tr>\n",
       "    <tr>\n",
       "      <th>23</th>\n",
       "      <td>specific</td>\n",
       "      <td>site</td>\n",
       "    </tr>\n",
       "    <tr>\n",
       "      <th>24</th>\n",
       "      <td>site</td>\n",
       "      <td>regulates</td>\n",
       "    </tr>\n",
       "    <tr>\n",
       "      <th>25</th>\n",
       "      <td>regulates</td>\n",
       "      <td>site</td>\n",
       "    </tr>\n",
       "    <tr>\n",
       "      <th>26</th>\n",
       "      <td>and</td>\n",
       "      <td>site</td>\n",
       "    </tr>\n",
       "    <tr>\n",
       "      <th>27</th>\n",
       "      <td>and</td>\n",
       "      <td>regulates</td>\n",
       "    </tr>\n",
       "    <tr>\n",
       "      <th>28</th>\n",
       "      <td>regulates</td>\n",
       "      <td>positioning</td>\n",
       "    </tr>\n",
       "    <tr>\n",
       "      <th>29</th>\n",
       "      <td>nucleosome</td>\n",
       "      <td>positioning</td>\n",
       "    </tr>\n",
       "    <tr>\n",
       "      <th>30</th>\n",
       "      <td>positioning</td>\n",
       "      <td>kilobases</td>\n",
       "    </tr>\n",
       "    <tr>\n",
       "      <th>31</th>\n",
       "      <td>over</td>\n",
       "      <td>kilobases</td>\n",
       "    </tr>\n",
       "    <tr>\n",
       "      <th>32</th>\n",
       "      <td>seven</td>\n",
       "      <td>kilobases</td>\n",
       "    </tr>\n",
       "  </tbody>\n",
       "</table>\n",
       "</div>"
      ],
      "text/plain": [
       "                                   head                                 tail\n",
       "0                                 SATB1                              targets\n",
       "1                                  also                              targets\n",
       "2                               targets                                 ACF1\n",
       "3                               targets                             subunits\n",
       "4                               targets                                  and\n",
       "5                               targets                            regulates\n",
       "6                                  ACF1                                  and\n",
       "7                                  ACF1                                 ISWI\n",
       "8                                  ACF1                                 ISWI\n",
       "9                                  ISWI                                 ACF1\n",
       "10                                  and                                 ACF1\n",
       "11                                  and                                 ISWI\n",
       "12                             subunits                                CHRAC\n",
       "13                             subunits                                 site\n",
       "14                                   of                                CHRAC\n",
       "15                                CHRAC                                  and\n",
       "16                                CHRAC  ACF nucleosome mobilizing complexes\n",
       "17                                CHRAC  ACF nucleosome mobilizing complexes\n",
       "18  ACF nucleosome mobilizing complexes                                CHRAC\n",
       "19                                  and                                CHRAC\n",
       "20                                  and  ACF nucleosome mobilizing complexes\n",
       "21                                   to                                 site\n",
       "22                                 this                                 site\n",
       "23                             specific                                 site\n",
       "24                                 site                            regulates\n",
       "25                            regulates                                 site\n",
       "26                                  and                                 site\n",
       "27                                  and                            regulates\n",
       "28                            regulates                          positioning\n",
       "29                           nucleosome                          positioning\n",
       "30                          positioning                            kilobases\n",
       "31                                 over                            kilobases\n",
       "32                                seven                            kilobases"
      ]
     },
     "execution_count": 109,
     "metadata": {},
     "output_type": "execute_result"
    }
   ],
   "source": [
    "pd.set_option(\"display.max_rows\", 200, \"display.max_columns\", 6)\n",
    "df"
   ]
  },
  {
   "cell_type": "code",
   "execution_count": 110,
   "metadata": {},
   "outputs": [
    {
     "name": "stdout",
     "output_type": "stream",
     "text": [
      "<class 'pandas.core.frame.DataFrame'>\n",
      "RangeIndex: 33 entries, 0 to 32\n",
      "Data columns (total 2 columns):\n",
      "head    33 non-null object\n",
      "tail    33 non-null object\n",
      "dtypes: object(2)\n",
      "memory usage: 656.0+ bytes\n"
     ]
    }
   ],
   "source": [
    "df.info()"
   ]
  },
  {
   "cell_type": "code",
   "execution_count": 111,
   "metadata": {},
   "outputs": [],
   "source": [
    "DIR = \"/Users/ka-mantse/Google Drive/_My Data Analytics Exercise/Exercise/Cytoscape/\""
   ]
  },
  {
   "cell_type": "code",
   "execution_count": 112,
   "metadata": {},
   "outputs": [],
   "source": [
    "df.to_csv(DIR+\"network.csv\",index=False)"
   ]
  },
  {
   "cell_type": "code",
   "execution_count": 113,
   "metadata": {},
   "outputs": [],
   "source": [
    "df = pd.read_csv(DIR+\"network.csv\")"
   ]
  },
  {
   "cell_type": "code",
   "execution_count": 114,
   "metadata": {},
   "outputs": [
    {
     "data": {
      "text/html": [
       "<div>\n",
       "<style scoped>\n",
       "    .dataframe tbody tr th:only-of-type {\n",
       "        vertical-align: middle;\n",
       "    }\n",
       "\n",
       "    .dataframe tbody tr th {\n",
       "        vertical-align: top;\n",
       "    }\n",
       "\n",
       "    .dataframe thead th {\n",
       "        text-align: right;\n",
       "    }\n",
       "</style>\n",
       "<table border=\"1\" class=\"dataframe\">\n",
       "  <thead>\n",
       "    <tr style=\"text-align: right;\">\n",
       "      <th></th>\n",
       "      <th>head</th>\n",
       "      <th>tail</th>\n",
       "    </tr>\n",
       "  </thead>\n",
       "  <tbody>\n",
       "    <tr>\n",
       "      <th>0</th>\n",
       "      <td>SATB1</td>\n",
       "      <td>targets</td>\n",
       "    </tr>\n",
       "    <tr>\n",
       "      <th>1</th>\n",
       "      <td>also</td>\n",
       "      <td>targets</td>\n",
       "    </tr>\n",
       "    <tr>\n",
       "      <th>2</th>\n",
       "      <td>targets</td>\n",
       "      <td>ACF1</td>\n",
       "    </tr>\n",
       "    <tr>\n",
       "      <th>3</th>\n",
       "      <td>targets</td>\n",
       "      <td>subunits</td>\n",
       "    </tr>\n",
       "    <tr>\n",
       "      <th>4</th>\n",
       "      <td>targets</td>\n",
       "      <td>and</td>\n",
       "    </tr>\n",
       "  </tbody>\n",
       "</table>\n",
       "</div>"
      ],
      "text/plain": [
       "      head      tail\n",
       "0    SATB1   targets\n",
       "1     also   targets\n",
       "2  targets      ACF1\n",
       "3  targets  subunits\n",
       "4  targets       and"
      ]
     },
     "execution_count": 114,
     "metadata": {},
     "output_type": "execute_result"
    }
   ],
   "source": [
    "df.head()"
   ]
  },
  {
   "cell_type": "code",
   "execution_count": 115,
   "metadata": {},
   "outputs": [],
   "source": [
    "import networkx as nx"
   ]
  },
  {
   "cell_type": "code",
   "execution_count": 116,
   "metadata": {},
   "outputs": [],
   "source": [
    "tuples = list()\n",
    "for i in range(len(df)):\n",
    "    tuples.append((df.loc[i, 'head'], df.loc[i, 'tail']))"
   ]
  },
  {
   "cell_type": "code",
   "execution_count": 117,
   "metadata": {},
   "outputs": [
    {
     "name": "stdout",
     "output_type": "stream",
     "text": [
      "[('SATB1', 'targets'), ('also', 'targets'), ('targets', 'ACF1'), ('targets', 'subunits'), ('targets', 'and'), ('targets', 'regulates'), ('ACF1', 'and'), ('ACF1', 'ISWI'), ('ACF1', 'ISWI'), ('ISWI', 'ACF1'), ('and', 'ACF1'), ('and', 'ISWI'), ('subunits', 'CHRAC'), ('subunits', 'site'), ('of', 'CHRAC'), ('CHRAC', 'and'), ('CHRAC', 'ACF nucleosome mobilizing complexes'), ('CHRAC', 'ACF nucleosome mobilizing complexes'), ('ACF nucleosome mobilizing complexes', 'CHRAC'), ('and', 'CHRAC'), ('and', 'ACF nucleosome mobilizing complexes'), ('to', 'site'), ('this', 'site'), ('specific', 'site'), ('site', 'regulates'), ('regulates', 'site'), ('and', 'site'), ('and', 'regulates'), ('regulates', 'positioning'), ('nucleosome', 'positioning'), ('positioning', 'kilobases'), ('over', 'kilobases'), ('seven', 'kilobases')]\n"
     ]
    }
   ],
   "source": [
    "print (tuples)"
   ]
  },
  {
   "cell_type": "code",
   "execution_count": 118,
   "metadata": {},
   "outputs": [],
   "source": [
    "G = nx.Graph()"
   ]
  },
  {
   "cell_type": "code",
   "execution_count": 119,
   "metadata": {},
   "outputs": [],
   "source": [
    "G.add_edges_from(tuples)"
   ]
  },
  {
   "cell_type": "code",
   "execution_count": 124,
   "metadata": {},
   "outputs": [
    {
     "data": {
      "image/png": "[encoded data removed]",
      "text/plain": [
       "<Figure size 1440x720 with 1 Axes>"
      ]
     },
     "metadata": {
      "needs_background": "light"
     },
     "output_type": "display_data"
    }
   ],
   "source": [
    "import matplotlib.pyplot as plt\n",
    "\n",
    "plt.figure(figsize=(20,10))\n",
    "\n",
    "pos = nx.spring_layout(G)\n",
    "\n",
    "nx.draw_networkx_nodes(G, pos, node_color='r', with_labels=True)\n",
    "nx.draw_networkx_labels(G, pos, font_size = 12)\n",
    "nx.draw_networkx_edges(G, pos, edge_color='b', arrows = True)\n",
    "\n",
    "plt.show()"
   ]
  },
  {
   "cell_type": "raw",
   "metadata": {},
   "source": [
    "The abovementioned sample network would be used in Deepwalk algorithim to generate input for node2vec training."
   ]
  },
  {
   "cell_type": "code",
   "execution_count": null,
   "metadata": {},
   "outputs": [],
   "source": []
  }
 ],
 "metadata": {
  "kernelspec": {
   "display_name": "Python 3",
   "language": "python",
   "name": "python3"
  },
  "language_info": {
   "codemirror_mode": {
    "name": "ipython",
    "version": 3
   },
   "file_extension": ".py",
   "mimetype": "text/x-python",
   "name": "python",
   "nbconvert_exporter": "python",
   "pygments_lexer": "ipython3",
   "version": "3.8.5"
  }
 },
 "nbformat": 4,
 "nbformat_minor": 4
}
